{
  "nbformat": 4,
  "nbformat_minor": 0,
  "metadata": {
    "colab": {
      "name": "Fronteira eficiente.ipynb",
      "provenance": [],
      "authorship_tag": "ABX9TyO1Z4XS2Rk5ggC3tykGl+xZ",
      "include_colab_link": true
    },
    "kernelspec": {
      "name": "python3",
      "display_name": "Python 3"
    }
  },
  "cells": [
    {
      "cell_type": "markdown",
      "metadata": {
        "id": "view-in-github",
        "colab_type": "text"
      },
      "source": [
        "<a href=\"https://colab.research.google.com/github/jorgetstechnology/financas/blob/master/Fronteira_eficiente.ipynb\" target=\"_parent\"><img src=\"https://colab.research.google.com/assets/colab-badge.svg\" alt=\"Open In Colab\"/></a>"
      ]
    },
    {
      "cell_type": "markdown",
      "metadata": {
        "id": "ERhlcHyEjf-i",
        "colab_type": "text"
      },
      "source": [
        "## **Obtendo a Fronteira eficiente em Python**"
      ]
    },
    {
      "cell_type": "code",
      "metadata": {
        "id": "SvrNSWbIjdiO",
        "colab_type": "code",
        "colab": {}
      },
      "source": [
        "import numpy as np\n",
        "import pandas as pd\n",
        "from pandas_datareader import data as wb\n",
        "import matplotlib.pyplot as plt\n",
        "%matplotlib inline"
      ],
      "execution_count": 0,
      "outputs": []
    },
    {
      "cell_type": "code",
      "metadata": {
        "id": "QM0F5UOMjvCp",
        "colab_type": "code",
        "colab": {}
      },
      "source": [
        "assets = ['PG', '^GSPC']\n",
        "pf_data = pd.DataFrame()\n",
        "\n",
        "for a in assets:\n",
        "  pf_data[a] = wb.DataReader(a, data_source = 'yahoo', start = '2010-1-1') ['Adj Close']"
      ],
      "execution_count": 0,
      "outputs": []
    },
    {
      "cell_type": "code",
      "metadata": {
        "id": "AErhmaSSju05",
        "colab_type": "code",
        "colab": {
          "base_uri": "https://localhost:8080/",
          "height": 235
        },
        "outputId": "ab24d394-d466-4e11-bf69-781fd646b559"
      },
      "source": [
        "pf_data.tail()"
      ],
      "execution_count": 4,
      "outputs": [
        {
          "output_type": "execute_result",
          "data": {
            "text/html": [
              "<div>\n",
              "<style scoped>\n",
              "    .dataframe tbody tr th:only-of-type {\n",
              "        vertical-align: middle;\n",
              "    }\n",
              "\n",
              "    .dataframe tbody tr th {\n",
              "        vertical-align: top;\n",
              "    }\n",
              "\n",
              "    .dataframe thead th {\n",
              "        text-align: right;\n",
              "    }\n",
              "</style>\n",
              "<table border=\"1\" class=\"dataframe\">\n",
              "  <thead>\n",
              "    <tr style=\"text-align: right;\">\n",
              "      <th></th>\n",
              "      <th>PG</th>\n",
              "      <th>^GSPC</th>\n",
              "    </tr>\n",
              "    <tr>\n",
              "      <th>Date</th>\n",
              "      <th></th>\n",
              "      <th></th>\n",
              "    </tr>\n",
              "  </thead>\n",
              "  <tbody>\n",
              "    <tr>\n",
              "      <th>2020-03-24</th>\n",
              "      <td>103.269997</td>\n",
              "      <td>2447.330078</td>\n",
              "    </tr>\n",
              "    <tr>\n",
              "      <th>2020-03-25</th>\n",
              "      <td>100.919998</td>\n",
              "      <td>2475.560059</td>\n",
              "    </tr>\n",
              "    <tr>\n",
              "      <th>2020-03-26</th>\n",
              "      <td>107.379997</td>\n",
              "      <td>2630.070068</td>\n",
              "    </tr>\n",
              "    <tr>\n",
              "      <th>2020-03-27</th>\n",
              "      <td>110.169998</td>\n",
              "      <td>2541.469971</td>\n",
              "    </tr>\n",
              "    <tr>\n",
              "      <th>2020-03-30</th>\n",
              "      <td>115.000000</td>\n",
              "      <td>2626.649902</td>\n",
              "    </tr>\n",
              "  </tbody>\n",
              "</table>\n",
              "</div>"
            ],
            "text/plain": [
              "                    PG        ^GSPC\n",
              "Date                               \n",
              "2020-03-24  103.269997  2447.330078\n",
              "2020-03-25  100.919998  2475.560059\n",
              "2020-03-26  107.379997  2630.070068\n",
              "2020-03-27  110.169998  2541.469971\n",
              "2020-03-30  115.000000  2626.649902"
            ]
          },
          "metadata": {
            "tags": []
          },
          "execution_count": 4
        }
      ]
    },
    {
      "cell_type": "code",
      "metadata": {
        "id": "2yYxKKCfjulC",
        "colab_type": "code",
        "colab": {
          "base_uri": "https://localhost:8080/",
          "height": 335
        },
        "outputId": "3ccec4b4-3cb1-4cd8-d32d-e46cf87704a4"
      },
      "source": [
        "(pf_data / pf_data.iloc[0] * 100).plot(figsize=(10, 5))"
      ],
      "execution_count": 5,
      "outputs": [
        {
          "output_type": "execute_result",
          "data": {
            "text/plain": [
              "<matplotlib.axes._subplots.AxesSubplot at 0x7f4a45256e48>"
            ]
          },
          "metadata": {
            "tags": []
          },
          "execution_count": 5
        },
        {
          "output_type": "display_data",
          "data": {
            "image/png": "[encoded data removed]",
            "text/plain": [
              "<Figure size 720x360 with 1 Axes>"
            ]
          },
          "metadata": {
            "tags": []
          }
        }
      ]
    },
    {
      "cell_type": "code",
      "metadata": {
        "id": "M1wSTPncjubX",
        "colab_type": "code",
        "colab": {}
      },
      "source": [
        "log_returns = np.log(pf_data / pf_data.shift(1))"
      ],
      "execution_count": 0,
      "outputs": []
    },
    {
      "cell_type": "code",
      "metadata": {
        "id": "dmGE_-M4juSX",
        "colab_type": "code",
        "colab": {
          "base_uri": "https://localhost:8080/",
          "height": 68
        },
        "outputId": "f957e416-c451-4d95-de36-67d09439aa82"
      },
      "source": [
        "log_returns.mean() * 250"
      ],
      "execution_count": 7,
      "outputs": [
        {
          "output_type": "execute_result",
          "data": {
            "text/plain": [
              "PG       0.092465\n",
              "^GSPC    0.081604\n",
              "dtype: float64"
            ]
          },
          "metadata": {
            "tags": []
          },
          "execution_count": 7
        }
      ]
    },
    {
      "cell_type": "code",
      "metadata": {
        "id": "PlcF0zmyjuJQ",
        "colab_type": "code",
        "colab": {
          "base_uri": "https://localhost:8080/",
          "height": 111
        },
        "outputId": "a81995e1-2e19-4ed3-a5e8-aec768e36770"
      },
      "source": [
        "log_returns.cov() * 250"
      ],
      "execution_count": 8,
      "outputs": [
        {
          "output_type": "execute_result",
          "data": {
            "text/html": [
              "<div>\n",
              "<style scoped>\n",
              "    .dataframe tbody tr th:only-of-type {\n",
              "        vertical-align: middle;\n",
              "    }\n",
              "\n",
              "    .dataframe tbody tr th {\n",
              "        vertical-align: top;\n",
              "    }\n",
              "\n",
              "    .dataframe thead th {\n",
              "        text-align: right;\n",
              "    }\n",
              "</style>\n",
              "<table border=\"1\" class=\"dataframe\">\n",
              "  <thead>\n",
              "    <tr style=\"text-align: right;\">\n",
              "      <th></th>\n",
              "      <th>PG</th>\n",
              "      <th>^GSPC</th>\n",
              "    </tr>\n",
              "  </thead>\n",
              "  <tbody>\n",
              "    <tr>\n",
              "      <th>PG</th>\n",
              "      <td>0.028494</td>\n",
              "      <td>0.017281</td>\n",
              "    </tr>\n",
              "    <tr>\n",
              "      <th>^GSPC</th>\n",
              "      <td>0.017281</td>\n",
              "      <td>0.029024</td>\n",
              "    </tr>\n",
              "  </tbody>\n",
              "</table>\n",
              "</div>"
            ],
            "text/plain": [
              "             PG     ^GSPC\n",
              "PG     0.028494  0.017281\n",
              "^GSPC  0.017281  0.029024"
            ]
          },
          "metadata": {
            "tags": []
          },
          "execution_count": 8
        }
      ]
    },
    {
      "cell_type": "code",
      "metadata": {
        "id": "ozwuBz4mjt-l",
        "colab_type": "code",
        "colab": {
          "base_uri": "https://localhost:8080/",
          "height": 111
        },
        "outputId": "39e992e8-1319-4405-be9c-54735c092808"
      },
      "source": [
        "log_returns.corr() "
      ],
      "execution_count": 10,
      "outputs": [
        {
          "output_type": "execute_result",
          "data": {
            "text/html": [
              "<div>\n",
              "<style scoped>\n",
              "    .dataframe tbody tr th:only-of-type {\n",
              "        vertical-align: middle;\n",
              "    }\n",
              "\n",
              "    .dataframe tbody tr th {\n",
              "        vertical-align: top;\n",
              "    }\n",
              "\n",
              "    .dataframe thead th {\n",
              "        text-align: right;\n",
              "    }\n",
              "</style>\n",
              "<table border=\"1\" class=\"dataframe\">\n",
              "  <thead>\n",
              "    <tr style=\"text-align: right;\">\n",
              "      <th></th>\n",
              "      <th>PG</th>\n",
              "      <th>^GSPC</th>\n",
              "    </tr>\n",
              "  </thead>\n",
              "  <tbody>\n",
              "    <tr>\n",
              "      <th>PG</th>\n",
              "      <td>1.000000</td>\n",
              "      <td>0.600907</td>\n",
              "    </tr>\n",
              "    <tr>\n",
              "      <th>^GSPC</th>\n",
              "      <td>0.600907</td>\n",
              "      <td>1.000000</td>\n",
              "    </tr>\n",
              "  </tbody>\n",
              "</table>\n",
              "</div>"
            ],
            "text/plain": [
              "             PG     ^GSPC\n",
              "PG     1.000000  0.600907\n",
              "^GSPC  0.600907  1.000000"
            ]
          },
          "metadata": {
            "tags": []
          },
          "execution_count": 10
        }
      ]
    },
    {
      "cell_type": "code",
      "metadata": {
        "id": "Ic-4p0V0l71L",
        "colab_type": "code",
        "colab": {}
      },
      "source": [
        "num_assets = len(assets) #número de ativos na carteira"
      ],
      "execution_count": 0,
      "outputs": []
    },
    {
      "cell_type": "code",
      "metadata": {
        "id": "kQhQQk0Tl7tf",
        "colab_type": "code",
        "colab": {
          "base_uri": "https://localhost:8080/",
          "height": 34
        },
        "outputId": "94d88bca-048c-4899-9c18-6cd90c973903"
      },
      "source": [
        "num_assets"
      ],
      "execution_count": 12,
      "outputs": [
        {
          "output_type": "execute_result",
          "data": {
            "text/plain": [
              "2"
            ]
          },
          "metadata": {
            "tags": []
          },
          "execution_count": 12
        }
      ]
    },
    {
      "cell_type": "code",
      "metadata": {
        "id": "dqgjaegNl7ko",
        "colab_type": "code",
        "colab": {
          "base_uri": "https://localhost:8080/",
          "height": 34
        },
        "outputId": "dc85ad41-612d-484c-df54-5eb3ea66268f"
      },
      "source": [
        "arr = np.random.random(2)\n",
        "arr"
      ],
      "execution_count": 13,
      "outputs": [
        {
          "output_type": "execute_result",
          "data": {
            "text/plain": [
              "array([0.25451014, 0.05151563])"
            ]
          },
          "metadata": {
            "tags": []
          },
          "execution_count": 13
        }
      ]
    },
    {
      "cell_type": "code",
      "metadata": {
        "id": "RhnvBT3Fl7Yv",
        "colab_type": "code",
        "colab": {
          "base_uri": "https://localhost:8080/",
          "height": 34
        },
        "outputId": "e600642a-5969-4e3e-9c89-3aff1b7c1d4b"
      },
      "source": [
        "arr[0] + arr[1]"
      ],
      "execution_count": 14,
      "outputs": [
        {
          "output_type": "execute_result",
          "data": {
            "text/plain": [
              "0.30602576371909496"
            ]
          },
          "metadata": {
            "tags": []
          },
          "execution_count": 14
        }
      ]
    },
    {
      "cell_type": "code",
      "metadata": {
        "id": "accN_7j_l7Ps",
        "colab_type": "code",
        "colab": {
          "base_uri": "https://localhost:8080/",
          "height": 34
        },
        "outputId": "6ac71248-efe9-4d07-b788-d870bb4e1f25"
      },
      "source": [
        "weights = np.random.random(num_assets)\n",
        "weights /= np.sum(weights)#obtem dois pesos geados aleatoriamente, com valor = 1\n",
        "weights"
      ],
      "execution_count": 15,
      "outputs": [
        {
          "output_type": "execute_result",
          "data": {
            "text/plain": [
              "array([0.853776, 0.146224])"
            ]
          },
          "metadata": {
            "tags": []
          },
          "execution_count": 15
        }
      ]
    },
    {
      "cell_type": "code",
      "metadata": {
        "id": "6Ogh88fyl6lZ",
        "colab_type": "code",
        "colab": {
          "base_uri": "https://localhost:8080/",
          "height": 34
        },
        "outputId": "e2570b71-a5b9-4328-8e80-a52910c80137"
      },
      "source": [
        "weights[0] + weights[1]"
      ],
      "execution_count": 16,
      "outputs": [
        {
          "output_type": "execute_result",
          "data": {
            "text/plain": [
              "1.0"
            ]
          },
          "metadata": {
            "tags": []
          },
          "execution_count": 16
        }
      ]
    },
    {
      "cell_type": "markdown",
      "metadata": {
        "id": "bYEgb2Bon8q4",
        "colab_type": "text"
      },
      "source": [
        "# `Fronteira eficiente Parte-2`"
      ]
    },
    {
      "cell_type": "markdown",
      "metadata": {
        "id": "e3XzsAEmoUJO",
        "colab_type": "text"
      },
      "source": [
        "## Retorno Esperado Do Portifólio"
      ]
    },
    {
      "cell_type": "code",
      "metadata": {
        "id": "i1AbviJQl55-",
        "colab_type": "code",
        "colab": {
          "base_uri": "https://localhost:8080/",
          "height": 34
        },
        "outputId": "f94e71eb-2e5c-4d2c-b84a-33b324c37cb7"
      },
      "source": [
        "np.sum(weights * log_returns.mean()) * 250 "
      ],
      "execution_count": 17,
      "outputs": [
        {
          "output_type": "execute_result",
          "data": {
            "text/plain": [
              "0.0908768654623477"
            ]
          },
          "metadata": {
            "tags": []
          },
          "execution_count": 17
        }
      ]
    },
    {
      "cell_type": "markdown",
      "metadata": {
        "id": "jHR6hoAjooKm",
        "colab_type": "text"
      },
      "source": [
        "Variância Esperada do Portifólio"
      ]
    },
    {
      "cell_type": "code",
      "metadata": {
        "id": "BbzwcRwLoQQ5",
        "colab_type": "code",
        "colab": {
          "base_uri": "https://localhost:8080/",
          "height": 34
        },
        "outputId": "67c89b9b-70d3-4a93-cdbc-3c89c294c9c8"
      },
      "source": [
        "np.dot(weights.T, np.dot(log_returns.cov() * 250, weights))"
      ],
      "execution_count": 18,
      "outputs": [
        {
          "output_type": "execute_result",
          "data": {
            "text/plain": [
              "0.02570569997042101"
            ]
          },
          "metadata": {
            "tags": []
          },
          "execution_count": 18
        }
      ]
    },
    {
      "cell_type": "markdown",
      "metadata": {
        "id": "zlTP6vxwo55j",
        "colab_type": "text"
      },
      "source": [
        "Volatilidade Esperada do Portifólio"
      ]
    },
    {
      "cell_type": "code",
      "metadata": {
        "id": "W8sSRJOUo91H",
        "colab_type": "code",
        "colab": {
          "base_uri": "https://localhost:8080/",
          "height": 34
        },
        "outputId": "09c5238b-b56b-408f-c0de-5a75c8f27623"
      },
      "source": [
        "np.sqrt(np.dot(weights.T, np.dot(log_returns.cov() * 250, weights)))"
      ],
      "execution_count": 20,
      "outputs": [
        {
          "output_type": "execute_result",
          "data": {
            "text/plain": [
              "0.1603299721524987"
            ]
          },
          "metadata": {
            "tags": []
          },
          "execution_count": 20
        }
      ]
    },
    {
      "cell_type": "markdown",
      "metadata": {
        "id": "0J7pjAnmp_g6",
        "colab_type": "text"
      },
      "source": [
        "## **`Nota`**\n",
        "\n",
        "Não estamos considerando 1.000 investimentos diferentes\n",
        "\n",
        "Estamos considerando 1.000 diferentes conbinações dos mesmos ativos"
      ]
    },
    {
      "cell_type": "code",
      "metadata": {
        "id": "QlcdkHJxp3-A",
        "colab_type": "code",
        "colab": {}
      },
      "source": [
        "pfolio_returns = []\n",
        "pfolio_volatilities = []\n",
        "for x in range (1000):\n",
        "  weights = np.random.random(num_assets)\n",
        "  weights /= np.sum(weights)\n",
        "  pfolio_returns.append(np.sum(weights * log_returns.mean()) * 250)\n",
        "  pfolio_volatilities.append(np.sqrt(np.dot(weights.T, np.dot(log_returns.cov() * 250, weights))))\n",
        "\n",
        "pfolio_returns, pfolio_volatilities"
      ],
      "execution_count": 0,
      "outputs": []
    },
    {
      "cell_type": "markdown",
      "metadata": {
        "id": "Epyp2YVrsIbV",
        "colab_type": "text"
      },
      "source": [
        "### `Convertendo a Lista em Array`"
      ]
    },
    {
      "cell_type": "code",
      "metadata": {
        "id": "_Ip-mRtep3yf",
        "colab_type": "code",
        "colab": {
          "base_uri": "https://localhost:8080/",
          "height": 1000
        },
        "outputId": "da10e838-670f-4c0d-e736-63aed3d407f6"
      },
      "source": [
        "pfolio_returns = []\n",
        "pfolio_volatilities = []\n",
        "for x in range (1000):\n",
        "  weights = np.random.random(num_assets)\n",
        "  weights /= np.sum(weights)\n",
        "  pfolio_returns.append(np.sum(weights * log_returns.mean()) * 250)\n",
        "  pfolio_volatilities.append(np.sqrt(np.dot(weights.T, np.dot(log_returns.cov() * 250, weights))))\n",
        "\n",
        "pfolio_returns = np.array(pfolio_returns)\n",
        "pfolio_volatilities = np.array(pfolio_volatilities)\n",
        "\n",
        "pfolio_returns, pfolio_volatilities"
      ],
      "execution_count": 22,
      "outputs": [
        {
          "output_type": "execute_result",
          "data": {
            "text/plain": [
              "(array([0.09002864, 0.08553299, 0.08759724, 0.08762886, 0.0920317 ,\n",
              "        0.08923512, 0.08634031, 0.08520239, 0.08754533, 0.08933868,\n",
              "        0.08602229, 0.09000288, 0.08637211, 0.09211417, 0.0905463 ,\n",
              "        0.08862542, 0.08736927, 0.08623853, 0.08501076, 0.08731462,\n",
              "        0.08664503, 0.08938201, 0.09009845, 0.08848932, 0.08659516,\n",
              "        0.0871239 , 0.08828784, 0.09245375, 0.08384233, 0.09086606,\n",
              "        0.09093175, 0.09210297, 0.08426577, 0.08525997, 0.09025521,\n",
              "        0.0837346 , 0.08556843, 0.09089258, 0.08821777, 0.08901606,\n",
              "        0.08820501, 0.08949547, 0.08752467, 0.08914065, 0.08243066,\n",
              "        0.08999486, 0.08581204, 0.08525054, 0.08543295, 0.08817238,\n",
              "        0.08662466, 0.09048107, 0.08198411, 0.08549623, 0.09131336,\n",
              "        0.08862586, 0.08515286, 0.09234465, 0.08924597, 0.08293779,\n",
              "        0.09042461, 0.08739293, 0.08809902, 0.08247973, 0.09146413,\n",
              "        0.09072746, 0.09076324, 0.08398819, 0.08990197, 0.08679525,\n",
              "        0.08544017, 0.08685068, 0.08585966, 0.08710395, 0.08838977,\n",
              "        0.08176761, 0.09034572, 0.08965573, 0.08679303, 0.08435643,\n",
              "        0.08777439, 0.08714159, 0.08634369, 0.08339411, 0.08478815,\n",
              "        0.08462959, 0.08734793, 0.08647776, 0.0897261 , 0.08800953,\n",
              "        0.08647395, 0.09034755, 0.08549054, 0.08878514, 0.09053533,\n",
              "        0.0848012 , 0.0824633 , 0.08390131, 0.08877416, 0.08761425,\n",
              "        0.08424311, 0.08411356, 0.08994549, 0.08814817, 0.0839443 ,\n",
              "        0.08935259, 0.09169682, 0.09232322, 0.08323626, 0.08690142,\n",
              "        0.09029176, 0.08881166, 0.08338057, 0.08925235, 0.08339736,\n",
              "        0.08613764, 0.08565873, 0.082717  , 0.08940415, 0.08877085,\n",
              "        0.08790369, 0.08962049, 0.09202172, 0.08552125, 0.08554757,\n",
              "        0.0840619 , 0.08613223, 0.08327913, 0.08344502, 0.08862221,\n",
              "        0.08769278, 0.08639492, 0.0863864 , 0.08809759, 0.09092318,\n",
              "        0.08899494, 0.09191586, 0.08309753, 0.08344818, 0.08225906,\n",
              "        0.08730954, 0.08996717, 0.08439559, 0.08617497, 0.08890511,\n",
              "        0.08945932, 0.08452744, 0.08571823, 0.08229518, 0.08281243,\n",
              "        0.08829711, 0.08907128, 0.0886225 , 0.08506495, 0.0901766 ,\n",
              "        0.08664068, 0.084598  , 0.08523307, 0.08642379, 0.08866592,\n",
              "        0.08668906, 0.0849569 , 0.09015662, 0.08428399, 0.08477515,\n",
              "        0.08468767, 0.08583119, 0.09193576, 0.0913626 , 0.09119558,\n",
              "        0.08632364, 0.08910297, 0.09146367, 0.08785226, 0.085191  ,\n",
              "        0.08804694, 0.09215741, 0.08888391, 0.08920784, 0.08361317,\n",
              "        0.08499261, 0.08794644, 0.09039674, 0.0911553 , 0.08744077,\n",
              "        0.08489203, 0.08596074, 0.08385399, 0.08594558, 0.08932918,\n",
              "        0.08355429, 0.08598157, 0.08980585, 0.08489529, 0.08748984,\n",
              "        0.0884765 , 0.08616755, 0.08478342, 0.08913373, 0.08420079,\n",
              "        0.08694681, 0.08324484, 0.09011594, 0.08438063, 0.0865346 ,\n",
              "        0.08550565, 0.08487914, 0.0873768 , 0.08443037, 0.08697817,\n",
              "        0.08704452, 0.08804825, 0.08973517, 0.08941273, 0.0865182 ,\n",
              "        0.08868172, 0.08680619, 0.09118891, 0.08885325, 0.08244758,\n",
              "        0.08635301, 0.08347347, 0.08678568, 0.08697861, 0.08241335,\n",
              "        0.08358031, 0.08583664, 0.08830566, 0.08965548, 0.0848467 ,\n",
              "        0.0899399 , 0.08557814, 0.08282815, 0.08599232, 0.08632393,\n",
              "        0.08932699, 0.08556662, 0.08666523, 0.08726446, 0.08386872,\n",
              "        0.08885008, 0.08806004, 0.08221745, 0.0851964 , 0.0917474 ,\n",
              "        0.08291904, 0.08810805, 0.08548251, 0.0844987 , 0.09086469,\n",
              "        0.08577611, 0.08357955, 0.08944235, 0.08968669, 0.09204584,\n",
              "        0.08594797, 0.08303157, 0.08852807, 0.08849103, 0.08361741,\n",
              "        0.08804194, 0.08692644, 0.08169463, 0.08198057, 0.08728462,\n",
              "        0.08394067, 0.08617368, 0.0901224 , 0.08589075, 0.08366621,\n",
              "        0.08599152, 0.08574019, 0.08916135, 0.09041389, 0.0832559 ,\n",
              "        0.09055651, 0.09060104, 0.08503717, 0.08784456, 0.08369905,\n",
              "        0.08680964, 0.09122736, 0.08319518, 0.08659012, 0.08560973,\n",
              "        0.08873281, 0.08539149, 0.08680564, 0.08764653, 0.08488562,\n",
              "        0.08679214, 0.09244725, 0.08429193, 0.0856076 , 0.08724164,\n",
              "        0.09238556, 0.09043432, 0.08765638, 0.08769249, 0.08396362,\n",
              "        0.08705431, 0.08236809, 0.08456429, 0.0823276 , 0.08452061,\n",
              "        0.08719161, 0.08192121, 0.08818056, 0.08317159, 0.0849297 ,\n",
              "        0.08590991, 0.08832852, 0.08724176, 0.08763479, 0.08461316,\n",
              "        0.09215066, 0.08423443, 0.08591685, 0.08410065, 0.08830032,\n",
              "        0.08451817, 0.08794557, 0.08833787, 0.08363418, 0.08741954,\n",
              "        0.08354051, 0.08501714, 0.08516413, 0.08420562, 0.0876921 ,\n",
              "        0.0863002 , 0.08566298, 0.09106549, 0.08638674, 0.09233038,\n",
              "        0.08761232, 0.08571379, 0.08818852, 0.08465304, 0.09007817,\n",
              "        0.08554841, 0.08580534, 0.090627  , 0.08381883, 0.08282374,\n",
              "        0.08551495, 0.08738635, 0.08745933, 0.08305006, 0.08816232,\n",
              "        0.09140847, 0.09027895, 0.09089174, 0.08908791, 0.08729171,\n",
              "        0.08682558, 0.08818477, 0.0831428 , 0.08809678, 0.09217929,\n",
              "        0.08997091, 0.08899403, 0.09196263, 0.08451877, 0.08821165,\n",
              "        0.08899316, 0.08582768, 0.08498971, 0.08233532, 0.08666092,\n",
              "        0.08706053, 0.0852154 , 0.08977024, 0.08267286, 0.08579264,\n",
              "        0.08298939, 0.08720872, 0.08548603, 0.08954886, 0.09063978,\n",
              "        0.08946987, 0.08601887, 0.08786745, 0.08705741, 0.08957463,\n",
              "        0.08714846, 0.08813164, 0.08706527, 0.0898523 , 0.08462957,\n",
              "        0.09099778, 0.0866338 , 0.08791658, 0.08563563, 0.0896873 ,\n",
              "        0.0855122 , 0.08591365, 0.08787087, 0.09044218, 0.08333945,\n",
              "        0.0863488 , 0.0822256 , 0.08518038, 0.0835071 , 0.08582268,\n",
              "        0.09102097, 0.0882107 , 0.09089364, 0.08866527, 0.09004535,\n",
              "        0.08662496, 0.08622756, 0.08648379, 0.0862982 , 0.08553573,\n",
              "        0.083051  , 0.08652869, 0.08722735, 0.08734936, 0.08344161,\n",
              "        0.08929488, 0.08471647, 0.08641531, 0.08485392, 0.08643599,\n",
              "        0.08440234, 0.08824639, 0.09061491, 0.08715906, 0.08782171,\n",
              "        0.08661917, 0.0890564 , 0.09107714, 0.08719447, 0.08733928,\n",
              "        0.08737063, 0.09173924, 0.08547093, 0.0901274 , 0.08278538,\n",
              "        0.08403984, 0.08810761, 0.08966113, 0.08908036, 0.08355972,\n",
              "        0.08385595, 0.08668689, 0.09182907, 0.08501772, 0.08305109,\n",
              "        0.08378019, 0.08944878, 0.08424337, 0.08373764, 0.0878928 ,\n",
              "        0.09162599, 0.08710047, 0.08598787, 0.08412304, 0.08638826,\n",
              "        0.08994358, 0.08445129, 0.08860373, 0.08745449, 0.08783851,\n",
              "        0.08544066, 0.08736115, 0.08607035, 0.08682894, 0.08437629,\n",
              "        0.08686109, 0.08550728, 0.09214975, 0.08452606, 0.08611342,\n",
              "        0.0863863 , 0.08792804, 0.08211788, 0.0904256 , 0.08568697,\n",
              "        0.08802026, 0.08217178, 0.08751135, 0.08843583, 0.08745853,\n",
              "        0.08775588, 0.08772159, 0.08392245, 0.08228364, 0.08910048,\n",
              "        0.08846516, 0.0907919 , 0.08564021, 0.08529448, 0.08504444,\n",
              "        0.08299871, 0.08225345, 0.08596102, 0.08707684, 0.08720049,\n",
              "        0.08851335, 0.08746893, 0.08683709, 0.08937153, 0.0876409 ,\n",
              "        0.0894932 , 0.08360765, 0.09009395, 0.09182814, 0.09033297,\n",
              "        0.08489223, 0.09056024, 0.08590727, 0.08940579, 0.08754744,\n",
              "        0.08962044, 0.08249831, 0.0820131 , 0.08166533, 0.08798786,\n",
              "        0.09054866, 0.08205958, 0.0915728 , 0.08954184, 0.08721305,\n",
              "        0.0884452 , 0.08381909, 0.08363822, 0.08287864, 0.08838858,\n",
              "        0.09077941, 0.08911344, 0.08274368, 0.08368565, 0.0846824 ,\n",
              "        0.08589852, 0.0894022 , 0.08677359, 0.0901982 , 0.08799757,\n",
              "        0.08516277, 0.08689342, 0.08483778, 0.09204612, 0.08256622,\n",
              "        0.08864103, 0.08870005, 0.09142839, 0.0869847 , 0.08288752,\n",
              "        0.08781216, 0.08713   , 0.08278779, 0.08731142, 0.08716847,\n",
              "        0.0843556 , 0.08670324, 0.09210003, 0.09175729, 0.08655716,\n",
              "        0.08965477, 0.08744033, 0.0904615 , 0.08701081, 0.08212571,\n",
              "        0.09021968, 0.08691012, 0.08940056, 0.08776464, 0.08757547,\n",
              "        0.08733569, 0.08826041, 0.086392  , 0.08667238, 0.09049446,\n",
              "        0.09173188, 0.08710449, 0.09016415, 0.09008998, 0.08189845,\n",
              "        0.0835187 , 0.08869701, 0.08255056, 0.08929851, 0.09008812,\n",
              "        0.08511365, 0.08573109, 0.08823786, 0.09080771, 0.08892231,\n",
              "        0.09010117, 0.08469663, 0.08791614, 0.08974097, 0.08873384,\n",
              "        0.08238992, 0.08633561, 0.08874896, 0.09033903, 0.0872619 ,\n",
              "        0.08994709, 0.0906369 , 0.08574077, 0.08697234, 0.08691066,\n",
              "        0.08858777, 0.08916413, 0.08763448, 0.08233909, 0.09243399,\n",
              "        0.09046574, 0.08641747, 0.08868752, 0.08347326, 0.08863643,\n",
              "        0.08689011, 0.08694745, 0.08177907, 0.08428347, 0.08547532,\n",
              "        0.08642608, 0.08436496, 0.09066896, 0.08507779, 0.08759298,\n",
              "        0.09125922, 0.08631801, 0.09084546, 0.08661187, 0.08623758,\n",
              "        0.08243908, 0.08373048, 0.08668459, 0.08648428, 0.08795228,\n",
              "        0.08461918, 0.09223771, 0.08186517, 0.08623763, 0.09017357,\n",
              "        0.08741543, 0.08693363, 0.09121095, 0.08472944, 0.08670269,\n",
              "        0.08978595, 0.08570129, 0.08502246, 0.08612689, 0.08245373,\n",
              "        0.0879293 , 0.08190664, 0.08762157, 0.08716596, 0.08571358,\n",
              "        0.08267541, 0.08560947, 0.08196128, 0.08666537, 0.09161267,\n",
              "        0.08665331, 0.08662035, 0.08505701, 0.09037007, 0.0869202 ,\n",
              "        0.09084513, 0.08512456, 0.08593737, 0.0859649 , 0.08702869,\n",
              "        0.08848629, 0.08676258, 0.08456557, 0.08475891, 0.09141334,\n",
              "        0.08734088, 0.08388909, 0.08698752, 0.08294731, 0.08661253,\n",
              "        0.08649115, 0.0906966 , 0.08915525, 0.08746288, 0.084522  ,\n",
              "        0.08219175, 0.08697803, 0.0870125 , 0.08569738, 0.08802068,\n",
              "        0.08712076, 0.08690225, 0.08325185, 0.08738247, 0.09210421,\n",
              "        0.08574205, 0.08430968, 0.08795013, 0.09042206, 0.08905807,\n",
              "        0.08474533, 0.08611747, 0.08460623, 0.09212055, 0.08589471,\n",
              "        0.08939399, 0.08652461, 0.08678996, 0.09007351, 0.0826722 ,\n",
              "        0.08371431, 0.08898149, 0.08936125, 0.08344103, 0.08727124,\n",
              "        0.08600588, 0.08591884, 0.08615221, 0.08399194, 0.08859792,\n",
              "        0.08454625, 0.08471688, 0.0873999 , 0.08572656, 0.09182268,\n",
              "        0.08381417, 0.0862207 , 0.08792326, 0.08695144, 0.08519999,\n",
              "        0.08943765, 0.08643648, 0.08549955, 0.08483538, 0.08608541,\n",
              "        0.08813377, 0.08654485, 0.08688286, 0.08828414, 0.08783571,\n",
              "        0.08663404, 0.08736154, 0.08914847, 0.08517137, 0.09008141,\n",
              "        0.08639578, 0.08969452, 0.09104087, 0.08939748, 0.09018454,\n",
              "        0.08816469, 0.08932889, 0.09161993, 0.08514346, 0.08760964,\n",
              "        0.08723789, 0.09062937, 0.08555376, 0.09127346, 0.08720591,\n",
              "        0.08789585, 0.08591973, 0.09155095, 0.08552967, 0.09174818,\n",
              "        0.08966892, 0.08357602, 0.09035306, 0.08857018, 0.08973638,\n",
              "        0.08355383, 0.08935617, 0.08876342, 0.08702716, 0.08653433,\n",
              "        0.08635307, 0.09040135, 0.08554197, 0.08421093, 0.08532852,\n",
              "        0.08220856, 0.08765562, 0.0911724 , 0.09121594, 0.0864062 ,\n",
              "        0.08342997, 0.08479542, 0.08683249, 0.08918026, 0.09136696,\n",
              "        0.08391768, 0.08511981, 0.09040387, 0.08928959, 0.0869328 ,\n",
              "        0.08749105, 0.09210512, 0.08221651, 0.08463511, 0.08376841,\n",
              "        0.08488482, 0.08460785, 0.08691542, 0.08748372, 0.08311096,\n",
              "        0.08697056, 0.09220429, 0.0914537 , 0.08658035, 0.0874648 ,\n",
              "        0.08666229, 0.09155998, 0.08954413, 0.08702516, 0.08692042,\n",
              "        0.08772075, 0.0880665 , 0.08743237, 0.08395126, 0.08994075,\n",
              "        0.08862945, 0.0864411 , 0.09019403, 0.08516052, 0.08729037,\n",
              "        0.08772127, 0.08288196, 0.08494403, 0.08357679, 0.08626662,\n",
              "        0.08251799, 0.08172184, 0.08627828, 0.08593706, 0.09054682,\n",
              "        0.08578552, 0.0824082 , 0.09046191, 0.08802773, 0.08888147,\n",
              "        0.0875294 , 0.08937158, 0.08857497, 0.08532078, 0.08756154,\n",
              "        0.08512226, 0.08462772, 0.08599246, 0.08965306, 0.08937353,\n",
              "        0.08238547, 0.08174619, 0.08652806, 0.08564834, 0.08706795,\n",
              "        0.0908894 , 0.0824651 , 0.08560606, 0.08530839, 0.08662582,\n",
              "        0.08904733, 0.09130529, 0.08692605, 0.0867263 , 0.08821911,\n",
              "        0.08581502, 0.09135645, 0.08846006, 0.08542687, 0.08183105,\n",
              "        0.08988033, 0.08561658, 0.08846698, 0.08688626, 0.08344177,\n",
              "        0.08597924, 0.08745973, 0.08701535, 0.08775026, 0.08984052,\n",
              "        0.08637778, 0.08906295, 0.0850658 , 0.08518606, 0.08453615,\n",
              "        0.08697587, 0.08476932, 0.08743731, 0.08977658, 0.08811476,\n",
              "        0.08686916, 0.08691416, 0.08510394, 0.09034734, 0.09095801,\n",
              "        0.08628493, 0.09164403, 0.08725524, 0.09229463, 0.08195077,\n",
              "        0.08255164, 0.08701253, 0.08488692, 0.0839708 , 0.08959248,\n",
              "        0.08563675, 0.08985247, 0.08862158, 0.08756923, 0.08825661,\n",
              "        0.0862825 , 0.08634603, 0.09081598, 0.08644377, 0.08703189,\n",
              "        0.0870173 , 0.08699546, 0.08799008, 0.08414942, 0.08840486,\n",
              "        0.08628364, 0.08526352, 0.0859034 , 0.09052883, 0.08894855,\n",
              "        0.08870986, 0.08924702, 0.08786332, 0.08565732, 0.08200766,\n",
              "        0.08827168, 0.08681616, 0.09048068, 0.08510638, 0.08557497,\n",
              "        0.0897394 , 0.09193079, 0.08557191, 0.09008518, 0.08264127,\n",
              "        0.09232977, 0.08521995, 0.08980574, 0.08782588, 0.08591788,\n",
              "        0.08749357, 0.08728659, 0.0859462 , 0.08441504, 0.08505155,\n",
              "        0.08408588, 0.08612118, 0.08669686, 0.09049809, 0.09002916,\n",
              "        0.08614128, 0.09118871, 0.09023014, 0.09122221, 0.08806591,\n",
              "        0.08818496, 0.08638991, 0.0860056 , 0.08528641, 0.084995  ,\n",
              "        0.08751007, 0.08500062, 0.08697128, 0.08223786, 0.0827035 ,\n",
              "        0.08910101, 0.08343611, 0.09083763, 0.08319003, 0.08489014,\n",
              "        0.08805252, 0.08507906, 0.08804321, 0.0880536 , 0.08715798,\n",
              "        0.08809238, 0.08948341, 0.09029111, 0.08638466, 0.08625354,\n",
              "        0.08560409, 0.08519307, 0.08580681, 0.08693576, 0.08670296,\n",
              "        0.08747416, 0.0903732 , 0.08692266, 0.08652868, 0.08790153,\n",
              "        0.08545133, 0.08562003, 0.08839544, 0.08792793, 0.08502722]),\n",
              " array([0.15690294, 0.15340132, 0.15183575, 0.15185411, 0.16624088,\n",
              "        0.15445067, 0.15214331, 0.15415119, 0.15180837, 0.154728  ,\n",
              "        0.15254088, 0.15681166, 0.15211061, 0.16671458, 0.15889844,\n",
              "        0.15308452, 0.15174123, 0.15225659, 0.15464714, 0.15172846,\n",
              "        0.15188302, 0.15484788, 0.15715416, 0.15284252, 0.15191751,\n",
              "        0.15171394, 0.15252698, 0.1687336 , 0.15861538, 0.16028128,\n",
              "        0.16057924, 0.16664987, 0.15699345, 0.15401092, 0.15773876,\n",
              "        0.15906037, 0.15332896, 0.16040101, 0.15242923, 0.15390713,\n",
              "        0.1524121 , 0.15517251, 0.15179844, 0.15420907, 0.1654375 ,\n",
              "        0.1567834 , 0.15287385, 0.1540336 , 0.153614  , 0.15236923,\n",
              "        0.15189673, 0.15863026, 0.16801894, 0.15347804, 0.16240165,\n",
              "        0.15308535, 0.15427509, 0.16807305, 0.15447913, 0.16274549,\n",
              "        0.158402  , 0.15174794, 0.15227777, 0.16516568, 0.16316391,\n",
              "        0.15966807, 0.15982435, 0.15803363, 0.15646154, 0.15179836,\n",
              "        0.15359824, 0.15177441, 0.15279358, 0.15171511, 0.15268023,\n",
              "        0.16933886, 0.15808908, 0.1556573 , 0.15179939, 0.15667296,\n",
              "        0.15195513, 0.15171332, 0.15213978, 0.1605513 , 0.15527911,\n",
              "        0.15576542, 0.15173579, 0.15201124, 0.15587981, 0.15217544,\n",
              "        0.15201458, 0.15809626, 0.15349006, 0.15339799, 0.158853  ,\n",
              "        0.15524042, 0.16525639, 0.15837727, 0.15337544, 0.15184547,\n",
              "        0.15707505, 0.15755289, 0.15661107, 0.15233829, 0.15820616,\n",
              "        0.15476623, 0.16438623, 0.1679446 , 0.16128527, 0.15175594,\n",
              "        0.15787908, 0.15345312, 0.16061322, 0.15449591, 0.16053648,\n",
              "        0.15238187, 0.15315164, 0.16388543, 0.15491001, 0.15336866,\n",
              "        0.15206756, 0.15554807, 0.16618404, 0.15342564, 0.15337137,\n",
              "        0.15774881, 0.15238895, 0.16108329, 0.16032033, 0.15307855,\n",
              "        0.15189514, 0.15208796, 0.15209635, 0.15227605, 0.16054012,\n",
              "        0.15385782, 0.16558677, 0.16195231, 0.16030606, 0.16640665,\n",
              "        0.15172747, 0.15668639, 0.15653749, 0.15233401, 0.15365428,\n",
              "        0.15506738, 0.15609452, 0.15304034, 0.16620026, 0.1633866 ,\n",
              "        0.15254038, 0.1540386 , 0.15307908, 0.15450235, 0.15744206,\n",
              "        0.1518859 , 0.15586588, 0.15407594, 0.15206023, 0.15316101,\n",
              "        0.15185522, 0.15479458, 0.15736779, 0.15692828, 0.15531786,\n",
              "        0.1555838 , 0.15284123, 0.16569824, 0.162648  , 0.16182268,\n",
              "        0.15216097, 0.15411575, 0.16316156, 0.15202028, 0.1541794 ,\n",
              "        0.15221697, 0.16696556, 0.15360771, 0.1543798 , 0.15957748,\n",
              "        0.15469643, 0.15210941, 0.15829065, 0.16162803, 0.15176371,\n",
              "        0.15497678, 0.1526326 , 0.158568  , 0.15265592, 0.15470202,\n",
              "        0.15983409, 0.15260102, 0.15613911, 0.1549675 , 0.15178292,\n",
              "        0.15282093, 0.15234338, 0.15529317, 0.15419182, 0.15722901,\n",
              "        0.15174222, 0.16124468, 0.15721797, 0.15658903, 0.15196366,\n",
              "        0.15345822, 0.15501359, 0.15174329, 0.15641867, 0.15173428,\n",
              "        0.15172164, 0.15221846, 0.15590894, 0.15493424, 0.15197697,\n",
              "        0.1531914 , 0.15179332, 0.16179035, 0.15354133, 0.16534346,\n",
              "        0.1521301 , 0.16019247, 0.15180288, 0.15173418, 0.1655339 ,\n",
              "        0.15972019, 0.15283204, 0.15255282, 0.1556565 , 0.15510712,\n",
              "        0.15659173, 0.1533094 , 0.1633053 , 0.15258494, 0.15216065,\n",
              "        0.15469603, 0.15333262, 0.15186996, 0.15172012, 0.15850835,\n",
              "        0.15353453, 0.15223195, 0.16664597, 0.154166  , 0.16465923,\n",
              "        0.16284038, 0.15228866, 0.15350709, 0.15618935, 0.16027512,\n",
              "        0.15293632, 0.15972351, 0.1550186 , 0.15575447, 0.16632166,\n",
              "        0.15265222, 0.16227659, 0.15290907, 0.15284543, 0.15955912,\n",
              "        0.15221132, 0.15174805, 0.16979358, 0.16804015, 0.15172309,\n",
              "        0.15822052, 0.15233564, 0.15724163, 0.15274269, 0.15934961,\n",
              "        0.15258613, 0.15300038, 0.1542611 , 0.15835904, 0.16119252,\n",
              "        0.15894082, 0.15912715, 0.15457613, 0.15201349, 0.15921008,\n",
              "        0.15179176, 0.16197746, 0.16148068, 0.15192117, 0.1532466 ,\n",
              "        0.15329179, 0.15370578, 0.15179357, 0.15186493, 0.15499506,\n",
              "        0.15179981, 0.16869392, 0.1569    , 0.1532508 , 0.15171739,\n",
              "        0.16831943, 0.15844102, 0.15187114, 0.15189495, 0.15812992,\n",
              "        0.15172025, 0.16578753, 0.15597437, 0.16601608, 0.15611698,\n",
              "        0.15171375, 0.1683979 , 0.15237985, 0.16159369, 0.15487036,\n",
              "        0.15271194, 0.15258658, 0.15171741, 0.1518577 , 0.15581752,\n",
              "        0.16692624, 0.15710644, 0.15270092, 0.15760158, 0.15254503,\n",
              "        0.15612502, 0.15210854, 0.15260057, 0.15948683, 0.15175635,\n",
              "        0.15989467, 0.15462992, 0.15424662, 0.15721133, 0.15189468,\n",
              "        0.15218638, 0.15314352, 0.16120026, 0.152096  , 0.16798746,\n",
              "        0.15184435, 0.15304848, 0.15239027, 0.15569163, 0.15708058,\n",
              "        0.15336966, 0.15288539, 0.15923679, 0.15871133, 0.1633281 ,\n",
              "        0.15343876, 0.151746  , 0.15177061, 0.16218526, 0.15235629,\n",
              "        0.16287973, 0.15782972, 0.1603972 , 0.15407895, 0.15172425,\n",
              "        0.15178476, 0.15238535, 0.16173243, 0.15227508, 0.16709325,\n",
              "        0.15669943, 0.15385571, 0.16584929, 0.15612303, 0.152421  ,\n",
              "        0.15385371, 0.15284719, 0.15470435, 0.16597237, 0.1518727 ,\n",
              "        0.15171943, 0.15411912, 0.1560224 , 0.1641193 , 0.15290738,\n",
              "        0.16248636, 0.15171464, 0.15349962, 0.15533059, 0.15929101,\n",
              "        0.15509791, 0.15254585, 0.15203389, 0.15171984, 0.15540812,\n",
              "        0.15171319, 0.1523176 , 0.15171885, 0.15629357, 0.15576548,\n",
              "        0.16088343, 0.15189051, 0.15207993, 0.15319604, 0.15575641,\n",
              "        0.1534445 , 0.15270599, 0.152037  , 0.15847265, 0.16080241,\n",
              "        0.15213445, 0.16659896, 0.15420587, 0.16004244, 0.15285567,\n",
              "        0.16099138, 0.15241971, 0.16040582, 0.15315975, 0.15696255,\n",
              "        0.15189651, 0.15226959, 0.152006  , 0.15218858, 0.15339567,\n",
              "        0.16218059, 0.15196842, 0.15171603, 0.15173613, 0.16033569,\n",
              "        0.15460911, 0.15549525, 0.15206826, 0.15508619, 0.15204883,\n",
              "        0.15651432, 0.15246841, 0.15918564, 0.15171311, 0.15199379,\n",
              "        0.15190051, 0.15400283, 0.16125525, 0.15171387, 0.15173375,\n",
              "        0.15174159, 0.16461502, 0.15353182, 0.15726001, 0.16352703,\n",
              "        0.15783339, 0.15228812, 0.15567416, 0.1540606 , 0.15981025,\n",
              "        0.15856003, 0.15185653, 0.16510537, 0.15462834, 0.16218019,\n",
              "        0.15887047, 0.15503703, 0.15707411, 0.15904764, 0.15205726,\n",
              "        0.16400834, 0.15171537, 0.15259158, 0.15751726, 0.1520945 ,\n",
              "        0.15660446, 0.15634786, 0.1530444 , 0.15176877, 0.15200821,\n",
              "        0.15359718, 0.15173909, 0.15247259, 0.15178333, 0.15660404,\n",
              "        0.15177035, 0.15345481, 0.16692094, 0.15609907, 0.15241386,\n",
              "        0.15209645, 0.15209111, 0.16722547, 0.15840595, 0.15309825,\n",
              "        0.15218717, 0.16691059, 0.15179232, 0.15275377, 0.1517703 ,\n",
              "        0.15194078, 0.15191535, 0.15829287, 0.16626602, 0.15410964,\n",
              "        0.15280199, 0.15995056, 0.15318716, 0.15392879, 0.15455674,\n",
              "        0.16243985, 0.1664388 , 0.15263217, 0.15171753, 0.15171416,\n",
              "        0.15288357, 0.15177436, 0.15177992, 0.15481867, 0.15186145,\n",
              "        0.15516584, 0.15960136, 0.1571378 , 0.16510027, 0.15803918,\n",
              "        0.15497622, 0.15895635, 0.15271615, 0.15491464, 0.15180942,\n",
              "        0.1555479 , 0.16506341, 0.16784552, 0.16997749, 0.15215219,\n",
              "        0.15890822, 0.16756921, 0.16372791, 0.15530961, 0.15171492,\n",
              "        0.15276907, 0.15871025, 0.15946948, 0.16304599, 0.15267837,\n",
              "        0.15989544, 0.15414153, 0.16374501, 0.15926686, 0.15560012,\n",
              "        0.15273016, 0.15490452, 0.15180878, 0.1575229 , 0.15216253,\n",
              "        0.15425005, 0.15175863, 0.15513304, 0.16632324, 0.16469246,\n",
              "        0.15311376, 0.15322704, 0.16298108, 0.15173279, 0.16300064,\n",
              "        0.15198576, 0.15171368, 0.1635145 , 0.15172784, 0.15171315,\n",
              "        0.15667586, 0.15184679, 0.16663289, 0.16471288, 0.15194592,\n",
              "        0.15565429, 0.15176355, 0.15855075, 0.15172736, 0.16717953,\n",
              "        0.15760379, 0.15175311, 0.1548999 , 0.15194751, 0.15182385,\n",
              "        0.15173293, 0.15248798, 0.15209083, 0.15186546, 0.1586849 ,\n",
              "        0.1645752 , 0.15171507, 0.15739572, 0.15712338, 0.16853591,\n",
              "        0.159991  , 0.1532211 , 0.16477758, 0.15461889, 0.15711662,\n",
              "        0.15437529, 0.15301686, 0.15245663, 0.16002056, 0.15369249,\n",
              "        0.15716407, 0.15555616, 0.15207951, 0.1559276 , 0.15329384,\n",
              "        0.16566494, 0.15214825, 0.15332421, 0.15806286, 0.15171978,\n",
              "        0.1566166 , 0.1592788 , 0.15299932, 0.15173566, 0.15175293,\n",
              "        0.15301525, 0.15426811, 0.15185751, 0.16595104, 0.16861315,\n",
              "        0.15856793, 0.1520662 , 0.15320262, 0.16019339, 0.15310511,\n",
              "        0.15175978, 0.15174204, 0.16926785, 0.15693015, 0.15352242,\n",
              "        0.15205808, 0.15664329, 0.15941557, 0.15446859, 0.15183337,\n",
              "        0.16213368, 0.152167  , 0.1601888 , 0.1519056 , 0.15225772,\n",
              "        0.16539067, 0.15907765, 0.15185792, 0.15200557, 0.15211532,\n",
              "        0.15579838, 0.16743642, 0.16873863, 0.15225765, 0.15743078,\n",
              "        0.15175499, 0.15174593, 0.16189739, 0.15545568, 0.15184711,\n",
              "        0.15607371, 0.15307157, 0.15461559, 0.15239598, 0.1653094 ,\n",
              "        0.15209236, 0.16848622, 0.15184977, 0.15171313, 0.15304888,\n",
              "        0.16410573, 0.15324711, 0.16815606, 0.15186987, 0.16393784,\n",
              "        0.1518776 , 0.15189969, 0.15452335, 0.15818492, 0.15174994,\n",
              "        0.16018733, 0.15434723, 0.15266867, 0.15262624, 0.15172414,\n",
              "        0.1528374 , 0.15181431, 0.15597026, 0.15536652, 0.16290447,\n",
              "        0.15173412, 0.15842628, 0.15173216, 0.16269749, 0.15190514,\n",
              "        0.15199966, 0.15953438, 0.1542457 , 0.15177198, 0.15611241,\n",
              "        0.16679462, 0.15173431, 0.15172703, 0.15307882, 0.15218763,\n",
              "        0.15171409, 0.15175567, 0.1612116 , 0.15174488, 0.16665701,\n",
              "        0.15299702, 0.15683703, 0.15211314, 0.15839176, 0.15400682,\n",
              "        0.15540749, 0.15240845, 0.15583961, 0.1667515 , 0.1527363 ,\n",
              "        0.15488141, 0.15197173, 0.15180084, 0.15706377, 0.1641228 ,\n",
              "        0.15914567, 0.15382672, 0.15479014, 0.16033831, 0.15172106,\n",
              "        0.15256486, 0.15269777, 0.15236298, 0.15801898, 0.15303376,\n",
              "        0.156033  , 0.155494  , 0.15175006, 0.15302512, 0.16507025,\n",
              "        0.15873045, 0.15227779, 0.15208643, 0.15174097, 0.15415712,\n",
              "        0.15500513, 0.15204837, 0.15347105, 0.15514003, 0.15245178,\n",
              "        0.15232024, 0.15195552, 0.15176231, 0.15252167, 0.15200579,\n",
              "        0.15189035, 0.15173919, 0.15422868, 0.15422843, 0.1570923 ,\n",
              "        0.15208712, 0.15577924, 0.1610845 , 0.15489121, 0.15747173,\n",
              "        0.15235932, 0.15470121, 0.16397626, 0.15429895, 0.1518428 ,\n",
              "        0.15171701, 0.15924682, 0.15335874, 0.16220386, 0.15171446,\n",
              "        0.15206013, 0.15269636, 0.1636135 , 0.1534082 , 0.16466342,\n",
              "        0.15569857, 0.1597389 , 0.15811789, 0.15298351, 0.15591283,\n",
              "        0.15983609, 0.15477611, 0.15335351, 0.1517244 , 0.15196388,\n",
              "        0.15213003, 0.15830902, 0.15338284, 0.15719193, 0.15384921,\n",
              "        0.1666973 , 0.15187066, 0.16171048, 0.16192171, 0.152077  ,\n",
              "        0.16038832, 0.15525752, 0.15178183, 0.15430907, 0.16266993,\n",
              "        0.15831187, 0.15435944, 0.15831906, 0.15459492, 0.15174617,\n",
              "        0.15178344, 0.16666225, 0.16665142, 0.155748  , 0.15891931,\n",
              "        0.15499734, 0.15583443, 0.15175143, 0.15178036, 0.16188685,\n",
              "        0.15173609, 0.16723971, 0.16311042, 0.15192836, 0.15177273,\n",
              "        0.15187182, 0.16366072, 0.15531646, 0.15172474, 0.15174988,\n",
              "        0.15191475, 0.1522394 , 0.15176072, 0.15817865, 0.15659468,\n",
              "        0.15309204, 0.15204411, 0.15750726, 0.15425574, 0.15172403,\n",
              "        0.15191512, 0.16302903, 0.15483031, 0.15973556, 0.15222402,\n",
              "        0.16495542, 0.16962343, 0.15221079, 0.15266915, 0.15890059,\n",
              "        0.15291981, 0.16556266, 0.1585524 , 0.15219542, 0.15360238,\n",
              "        0.15180066, 0.1548188 , 0.15299212, 0.15386719, 0.15181655,\n",
              "        0.15435313, 0.15577133, 0.15258473, 0.15564896, 0.15482422,\n",
              "        0.16568991, 0.16947177, 0.15196893, 0.15317151, 0.15171853,\n",
              "        0.1603866 , 0.16524649, 0.15325382, 0.15389609, 0.15189593,\n",
              "        0.15398112, 0.16236149, 0.15174817, 0.15183363, 0.15243104,\n",
              "        0.15286876, 0.16261706, 0.15279354, 0.15362733, 0.16894754,\n",
              "        0.15638799, 0.15323314, 0.15280502, 0.15176111, 0.16033499,\n",
              "        0.15260453, 0.15177076, 0.1517265 , 0.1519365 , 0.15625413,\n",
              "        0.15210492, 0.15401854, 0.15450013, 0.15419171, 0.15606599,\n",
              "        0.15173482, 0.15533529, 0.15176247, 0.15604306, 0.15229681,\n",
              "        0.1517673 , 0.15175183, 0.15440041, 0.15809544, 0.16069965,\n",
              "        0.15220332, 0.16410408, 0.15171894, 0.16777389, 0.16821932,\n",
              "        0.16477172, 0.15172703, 0.15499134, 0.15810171, 0.1554623 ,\n",
              "        0.15319386, 0.15629414, 0.15307738, 0.15182055, 0.15248265,\n",
              "        0.15220605, 0.15213733, 0.16005728, 0.15204166, 0.15172361,\n",
              "        0.15172614, 0.15173044, 0.15215455, 0.1574187 , 0.15270403,\n",
              "        0.15220476, 0.1540024 , 0.15272233, 0.15882616, 0.15375147,\n",
              "        0.15324629, 0.15448188, 0.15203016, 0.15315433, 0.16787804,\n",
              "        0.15250388, 0.15178886, 0.15862868, 0.15439407, 0.15331577,\n",
              "        0.15592254, 0.16567034, 0.15332194, 0.15710596, 0.1642879 ,\n",
              "        0.1679838 , 0.15410798, 0.15613873, 0.15199734, 0.15269929,\n",
              "        0.15178451, 0.1517234 , 0.15265497, 0.15647087, 0.15453784,\n",
              "        0.1576575 , 0.15240352, 0.15185055, 0.15869978, 0.15690477,\n",
              "        0.15237712, 0.16178937, 0.15764336, 0.16195231, 0.15223872,\n",
              "        0.1523856 , 0.15209288, 0.15256527, 0.15394786, 0.15468992,\n",
              "        0.15179174, 0.15467462, 0.15173592, 0.16652836, 0.16395672,\n",
              "        0.15411096, 0.16036054, 0.16015378, 0.16150531, 0.15498216,\n",
              "        0.15222333, 0.15446524, 0.15221275, 0.15222456, 0.15171311,\n",
              "        0.15226983, 0.15513726, 0.15787659, 0.15209807, 0.15223906,\n",
              "        0.15325772, 0.15417427, 0.15288286, 0.15174532, 0.15184695,\n",
              "        0.15177645, 0.15819728, 0.15174919, 0.15196842, 0.1520655 ,\n",
              "        0.153574  , 0.15322638, 0.15268915, 0.152091  , 0.15460278]))"
            ]
          },
          "metadata": {
            "tags": []
          },
          "execution_count": 22
        }
      ]
    },
    {
      "cell_type": "markdown",
      "metadata": {
        "id": "v3lNIxJrs3vc",
        "colab_type": "text"
      },
      "source": [
        "# ```Fronteira Eficiente Parte-3```"
      ]
    },
    {
      "cell_type": "code",
      "metadata": {
        "id": "wt-elPlDp3oe",
        "colab_type": "code",
        "colab": {}
      },
      "source": [
        "portfolios = pd.DataFrame({'Return': pfolio_returns, 'Volatility': pfolio_volatilities})"
      ],
      "execution_count": 0,
      "outputs": []
    },
    {
      "cell_type": "code",
      "metadata": {
        "id": "tNRvPVNFp3an",
        "colab_type": "code",
        "colab": {
          "base_uri": "https://localhost:8080/",
          "height": 204
        },
        "outputId": "dafbe9ab-88b7-435f-ecbc-d30d7f4f0020"
      },
      "source": [
        "portfolios.head()"
      ],
      "execution_count": 24,
      "outputs": [
        {
          "output_type": "execute_result",
          "data": {
            "text/html": [
              "<div>\n",
              "<style scoped>\n",
              "    .dataframe tbody tr th:only-of-type {\n",
              "        vertical-align: middle;\n",
              "    }\n",
              "\n",
              "    .dataframe tbody tr th {\n",
              "        vertical-align: top;\n",
              "    }\n",
              "\n",
              "    .dataframe thead th {\n",
              "        text-align: right;\n",
              "    }\n",
              "</style>\n",
              "<table border=\"1\" class=\"dataframe\">\n",
              "  <thead>\n",
              "    <tr style=\"text-align: right;\">\n",
              "      <th></th>\n",
              "      <th>Return</th>\n",
              "      <th>Volatility</th>\n",
              "    </tr>\n",
              "  </thead>\n",
              "  <tbody>\n",
              "    <tr>\n",
              "      <th>0</th>\n",
              "      <td>0.090029</td>\n",
              "      <td>0.156903</td>\n",
              "    </tr>\n",
              "    <tr>\n",
              "      <th>1</th>\n",
              "      <td>0.085533</td>\n",
              "      <td>0.153401</td>\n",
              "    </tr>\n",
              "    <tr>\n",
              "      <th>2</th>\n",
              "      <td>0.087597</td>\n",
              "      <td>0.151836</td>\n",
              "    </tr>\n",
              "    <tr>\n",
              "      <th>3</th>\n",
              "      <td>0.087629</td>\n",
              "      <td>0.151854</td>\n",
              "    </tr>\n",
              "    <tr>\n",
              "      <th>4</th>\n",
              "      <td>0.092032</td>\n",
              "      <td>0.166241</td>\n",
              "    </tr>\n",
              "  </tbody>\n",
              "</table>\n",
              "</div>"
            ],
            "text/plain": [
              "     Return  Volatility\n",
              "0  0.090029    0.156903\n",
              "1  0.085533    0.153401\n",
              "2  0.087597    0.151836\n",
              "3  0.087629    0.151854\n",
              "4  0.092032    0.166241"
            ]
          },
          "metadata": {
            "tags": []
          },
          "execution_count": 24
        }
      ]
    },
    {
      "cell_type": "code",
      "metadata": {
        "id": "dzrVBilntsOU",
        "colab_type": "code",
        "colab": {
          "base_uri": "https://localhost:8080/",
          "height": 204
        },
        "outputId": "8d99799a-32bd-4a49-a5cc-903451591782"
      },
      "source": [
        "portfolios.tail()"
      ],
      "execution_count": 25,
      "outputs": [
        {
          "output_type": "execute_result",
          "data": {
            "text/html": [
              "<div>\n",
              "<style scoped>\n",
              "    .dataframe tbody tr th:only-of-type {\n",
              "        vertical-align: middle;\n",
              "    }\n",
              "\n",
              "    .dataframe tbody tr th {\n",
              "        vertical-align: top;\n",
              "    }\n",
              "\n",
              "    .dataframe thead th {\n",
              "        text-align: right;\n",
              "    }\n",
              "</style>\n",
              "<table border=\"1\" class=\"dataframe\">\n",
              "  <thead>\n",
              "    <tr style=\"text-align: right;\">\n",
              "      <th></th>\n",
              "      <th>Return</th>\n",
              "      <th>Volatility</th>\n",
              "    </tr>\n",
              "  </thead>\n",
              "  <tbody>\n",
              "    <tr>\n",
              "      <th>995</th>\n",
              "      <td>0.085451</td>\n",
              "      <td>0.153574</td>\n",
              "    </tr>\n",
              "    <tr>\n",
              "      <th>996</th>\n",
              "      <td>0.085620</td>\n",
              "      <td>0.153226</td>\n",
              "    </tr>\n",
              "    <tr>\n",
              "      <th>997</th>\n",
              "      <td>0.088395</td>\n",
              "      <td>0.152689</td>\n",
              "    </tr>\n",
              "    <tr>\n",
              "      <th>998</th>\n",
              "      <td>0.087928</td>\n",
              "      <td>0.152091</td>\n",
              "    </tr>\n",
              "    <tr>\n",
              "      <th>999</th>\n",
              "      <td>0.085027</td>\n",
              "      <td>0.154603</td>\n",
              "    </tr>\n",
              "  </tbody>\n",
              "</table>\n",
              "</div>"
            ],
            "text/plain": [
              "       Return  Volatility\n",
              "995  0.085451    0.153574\n",
              "996  0.085620    0.153226\n",
              "997  0.088395    0.152689\n",
              "998  0.087928    0.152091\n",
              "999  0.085027    0.154603"
            ]
          },
          "metadata": {
            "tags": []
          },
          "execution_count": 25
        }
      ]
    },
    {
      "cell_type": "code",
      "metadata": {
        "id": "KMbB-9c8tuah",
        "colab_type": "code",
        "colab": {
          "base_uri": "https://localhost:8080/",
          "height": 405
        },
        "outputId": "350a98ca-a6e1-4e8c-a3c7-fa135055979e"
      },
      "source": [
        "portfolios.plot(x='Volatility', y='Return', kind='scatter', figsize=(10, 6));\n",
        "plt.xlabel('Expected Volatility')\n",
        "plt.ylabel('Expected return')"
      ],
      "execution_count": 26,
      "outputs": [
        {
          "output_type": "execute_result",
          "data": {
            "text/plain": [
              "Text(0, 0.5, 'Expected return')"
            ]
          },
          "metadata": {
            "tags": []
          },
          "execution_count": 26
        },
        {
          "output_type": "display_data",
          "data": {
            "image/png": "[encoded data removed]",
            "text/plain": [
              "<Figure size 720x432 with 1 Axes>"
            ]
          },
          "metadata": {
            "tags": []
          }
        }
      ]
    }
  ]
}