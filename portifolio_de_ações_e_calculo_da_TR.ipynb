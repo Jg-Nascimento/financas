{
  "nbformat": 4,
  "nbformat_minor": 0,
  "metadata": {
    "colab": {
      "name": "portifolio de ações e calculo da TR.ipynb",
      "provenance": [],
      "include_colab_link": true
    },
    "kernelspec": {
      "name": "python3",
      "display_name": "Python 3"
    }
  },
  "cells": [
    {
      "cell_type": "markdown",
      "metadata": {
        "id": "view-in-github",
        "colab_type": "text"
      },
      "source": [
        "<a href=\"https://colab.research.google.com/github/jorgetstechnology/financas/blob/master/portifolio_de_a%C3%A7%C3%B5es_e_calculo_da_TR.ipynb\" target=\"_parent\"><img src=\"https://colab.research.google.com/assets/colab-badge.svg\" alt=\"Open In Colab\"/></a>"
      ]
    },
    {
      "cell_type": "markdown",
      "metadata": {
        "id": "1mDin_mw3fMy",
        "colab_type": "text"
      },
      "source": [
        "**TAXA DE RETORNO DE PORTIFÓLIO**"
      ]
    },
    {
      "cell_type": "code",
      "metadata": {
        "id": "9jxIxbiG2uTZ",
        "colab_type": "code",
        "colab": {}
      },
      "source": [
        "import numpy as np\n",
        "import pandas as pd\n",
        "from pandas_datareader import data as wb \n",
        "import matplotlib.pyplot as plt"
      ],
      "execution_count": 0,
      "outputs": []
    },
    {
      "cell_type": "code",
      "metadata": {
        "id": "VJj1SdwG4d01",
        "colab_type": "code",
        "colab": {}
      },
      "source": [
        "tickers = ['PG', 'MSFT', 'F', 'GE']#Carteiras do portifólio \n",
        "mydata = pd.DataFrame()\n",
        "for t in tickers:\n",
        "  mydata[t] = wb.DataReader(t, data_source = 'yahoo', start= '1995-1-1')['Adj Close']"
      ],
      "execution_count": 0,
      "outputs": []
    },
    {
      "cell_type": "code",
      "metadata": {
        "id": "aUDPLcEd4dwR",
        "colab_type": "code",
        "colab": {
          "base_uri": "https://localhost:8080/",
          "height": 170
        },
        "outputId": "7920b8bb-50e5-472c-9328-6acd5ce078d7"
      },
      "source": [
        "mydata.info()"
      ],
      "execution_count": 3,
      "outputs": [
        {
          "output_type": "stream",
          "text": [
            "<class 'pandas.core.frame.DataFrame'>\n",
            "DatetimeIndex: 6299 entries, 1995-01-03 to 2020-01-08\n",
            "Data columns (total 4 columns):\n",
            "PG      6299 non-null float64\n",
            "MSFT    6299 non-null float64\n",
            "F       6299 non-null float64\n",
            "GE      6299 non-null float64\n",
            "dtypes: float64(4)\n",
            "memory usage: 246.1 KB\n"
          ],
          "name": "stdout"
        }
      ]
    },
    {
      "cell_type": "code",
      "metadata": {
        "id": "rK-BYtwu4dqJ",
        "colab_type": "code",
        "colab": {
          "base_uri": "https://localhost:8080/",
          "height": 235
        },
        "outputId": "590f8c44-43c2-41f0-9d70-56ba782c3199"
      },
      "source": [
        "mydata.head()"
      ],
      "execution_count": 4,
      "outputs": [
        {
          "output_type": "execute_result",
          "data": {
            "text/html": [
              "<div>\n",
              "<style scoped>\n",
              "    .dataframe tbody tr th:only-of-type {\n",
              "        vertical-align: middle;\n",
              "    }\n",
              "\n",
              "    .dataframe tbody tr th {\n",
              "        vertical-align: top;\n",
              "    }\n",
              "\n",
              "    .dataframe thead th {\n",
              "        text-align: right;\n",
              "    }\n",
              "</style>\n",
              "<table border=\"1\" class=\"dataframe\">\n",
              "  <thead>\n",
              "    <tr style=\"text-align: right;\">\n",
              "      <th></th>\n",
              "      <th>PG</th>\n",
              "      <th>MSFT</th>\n",
              "      <th>F</th>\n",
              "      <th>GE</th>\n",
              "    </tr>\n",
              "    <tr>\n",
              "      <th>Date</th>\n",
              "      <th></th>\n",
              "      <th></th>\n",
              "      <th></th>\n",
              "      <th></th>\n",
              "    </tr>\n",
              "  </thead>\n",
              "  <tbody>\n",
              "    <tr>\n",
              "      <th>1995-01-03</th>\n",
              "      <td>6.400181</td>\n",
              "      <td>2.420130</td>\n",
              "      <td>4.454672</td>\n",
              "      <td>2.731941</td>\n",
              "    </tr>\n",
              "    <tr>\n",
              "      <th>1995-01-04</th>\n",
              "      <td>6.348878</td>\n",
              "      <td>2.437722</td>\n",
              "      <td>4.574527</td>\n",
              "      <td>2.731941</td>\n",
              "    </tr>\n",
              "    <tr>\n",
              "      <th>1995-01-05</th>\n",
              "      <td>6.259093</td>\n",
              "      <td>2.397512</td>\n",
              "      <td>4.534577</td>\n",
              "      <td>2.738635</td>\n",
              "    </tr>\n",
              "    <tr>\n",
              "      <th>1995-01-06</th>\n",
              "      <td>6.271922</td>\n",
              "      <td>2.437722</td>\n",
              "      <td>4.534577</td>\n",
              "      <td>2.725244</td>\n",
              "    </tr>\n",
              "    <tr>\n",
              "      <th>1995-01-09</th>\n",
              "      <td>6.246270</td>\n",
              "      <td>2.422644</td>\n",
              "      <td>4.614479</td>\n",
              "      <td>2.698461</td>\n",
              "    </tr>\n",
              "  </tbody>\n",
              "</table>\n",
              "</div>"
            ],
            "text/plain": [
              "                  PG      MSFT         F        GE\n",
              "Date                                              \n",
              "1995-01-03  6.400181  2.420130  4.454672  2.731941\n",
              "1995-01-04  6.348878  2.437722  4.574527  2.731941\n",
              "1995-01-05  6.259093  2.397512  4.534577  2.738635\n",
              "1995-01-06  6.271922  2.437722  4.534577  2.725244\n",
              "1995-01-09  6.246270  2.422644  4.614479  2.698461"
            ]
          },
          "metadata": {
            "tags": []
          },
          "execution_count": 4
        }
      ]
    },
    {
      "cell_type": "code",
      "metadata": {
        "id": "G4C7y5L14dcX",
        "colab_type": "code",
        "colab": {
          "base_uri": "https://localhost:8080/",
          "height": 235
        },
        "outputId": "8902e566-754d-4c23-f99a-c1dee03e565c"
      },
      "source": [
        "mydata.tail()"
      ],
      "execution_count": 5,
      "outputs": [
        {
          "output_type": "execute_result",
          "data": {
            "text/html": [
              "<div>\n",
              "<style scoped>\n",
              "    .dataframe tbody tr th:only-of-type {\n",
              "        vertical-align: middle;\n",
              "    }\n",
              "\n",
              "    .dataframe tbody tr th {\n",
              "        vertical-align: top;\n",
              "    }\n",
              "\n",
              "    .dataframe thead th {\n",
              "        text-align: right;\n",
              "    }\n",
              "</style>\n",
              "<table border=\"1\" class=\"dataframe\">\n",
              "  <thead>\n",
              "    <tr style=\"text-align: right;\">\n",
              "      <th></th>\n",
              "      <th>PG</th>\n",
              "      <th>MSFT</th>\n",
              "      <th>F</th>\n",
              "      <th>GE</th>\n",
              "    </tr>\n",
              "    <tr>\n",
              "      <th>Date</th>\n",
              "      <th></th>\n",
              "      <th></th>\n",
              "      <th></th>\n",
              "      <th></th>\n",
              "    </tr>\n",
              "  </thead>\n",
              "  <tbody>\n",
              "    <tr>\n",
              "      <th>2020-01-02</th>\n",
              "      <td>123.410004</td>\n",
              "      <td>160.619995</td>\n",
              "      <td>9.420</td>\n",
              "      <td>11.930</td>\n",
              "    </tr>\n",
              "    <tr>\n",
              "      <th>2020-01-03</th>\n",
              "      <td>122.580002</td>\n",
              "      <td>158.619995</td>\n",
              "      <td>9.210</td>\n",
              "      <td>11.970</td>\n",
              "    </tr>\n",
              "    <tr>\n",
              "      <th>2020-01-06</th>\n",
              "      <td>122.750000</td>\n",
              "      <td>159.029999</td>\n",
              "      <td>9.160</td>\n",
              "      <td>12.140</td>\n",
              "    </tr>\n",
              "    <tr>\n",
              "      <th>2020-01-07</th>\n",
              "      <td>121.989998</td>\n",
              "      <td>157.580002</td>\n",
              "      <td>9.250</td>\n",
              "      <td>12.050</td>\n",
              "    </tr>\n",
              "    <tr>\n",
              "      <th>2020-01-08</th>\n",
              "      <td>123.000000</td>\n",
              "      <td>160.615005</td>\n",
              "      <td>9.275</td>\n",
              "      <td>12.005</td>\n",
              "    </tr>\n",
              "  </tbody>\n",
              "</table>\n",
              "</div>"
            ],
            "text/plain": [
              "                    PG        MSFT      F      GE\n",
              "Date                                             \n",
              "2020-01-02  123.410004  160.619995  9.420  11.930\n",
              "2020-01-03  122.580002  158.619995  9.210  11.970\n",
              "2020-01-06  122.750000  159.029999  9.160  12.140\n",
              "2020-01-07  121.989998  157.580002  9.250  12.050\n",
              "2020-01-08  123.000000  160.615005  9.275  12.005"
            ]
          },
          "metadata": {
            "tags": []
          },
          "execution_count": 5
        }
      ]
    },
    {
      "cell_type": "code",
      "metadata": {
        "id": "XPbjw_wd5BcP",
        "colab_type": "code",
        "colab": {
          "base_uri": "https://localhost:8080/",
          "height": 297
        },
        "outputId": "6b424651-2688-4485-8eb3-1f689c5b5bd4"
      },
      "source": [
        "mydata.describe()"
      ],
      "execution_count": 6,
      "outputs": [
        {
          "output_type": "execute_result",
          "data": {
            "text/html": [
              "<div>\n",
              "<style scoped>\n",
              "    .dataframe tbody tr th:only-of-type {\n",
              "        vertical-align: middle;\n",
              "    }\n",
              "\n",
              "    .dataframe tbody tr th {\n",
              "        vertical-align: top;\n",
              "    }\n",
              "\n",
              "    .dataframe thead th {\n",
              "        text-align: right;\n",
              "    }\n",
              "</style>\n",
              "<table border=\"1\" class=\"dataframe\">\n",
              "  <thead>\n",
              "    <tr style=\"text-align: right;\">\n",
              "      <th></th>\n",
              "      <th>PG</th>\n",
              "      <th>MSFT</th>\n",
              "      <th>F</th>\n",
              "      <th>GE</th>\n",
              "    </tr>\n",
              "  </thead>\n",
              "  <tbody>\n",
              "    <tr>\n",
              "      <th>count</th>\n",
              "      <td>6299.000000</td>\n",
              "      <td>6299.000000</td>\n",
              "      <td>6299.000000</td>\n",
              "      <td>6299.000000</td>\n",
              "    </tr>\n",
              "    <tr>\n",
              "      <th>mean</th>\n",
              "      <td>44.655241</td>\n",
              "      <td>31.407777</td>\n",
              "      <td>8.859070</td>\n",
              "      <td>16.663158</td>\n",
              "    </tr>\n",
              "    <tr>\n",
              "      <th>std</th>\n",
              "      <td>25.488987</td>\n",
              "      <td>28.901666</td>\n",
              "      <td>3.473832</td>\n",
              "      <td>6.403716</td>\n",
              "    </tr>\n",
              "    <tr>\n",
              "      <th>min</th>\n",
              "      <td>6.246270</td>\n",
              "      <td>2.372381</td>\n",
              "      <td>0.868647</td>\n",
              "      <td>2.691765</td>\n",
              "    </tr>\n",
              "    <tr>\n",
              "      <th>25%</th>\n",
              "      <td>24.118107</td>\n",
              "      <td>17.379492</td>\n",
              "      <td>5.877361</td>\n",
              "      <td>11.697789</td>\n",
              "    </tr>\n",
              "    <tr>\n",
              "      <th>50%</th>\n",
              "      <td>41.739922</td>\n",
              "      <td>21.473824</td>\n",
              "      <td>8.852555</td>\n",
              "      <td>17.262123</td>\n",
              "    </tr>\n",
              "    <tr>\n",
              "      <th>75%</th>\n",
              "      <td>64.792866</td>\n",
              "      <td>32.134893</td>\n",
              "      <td>10.910208</td>\n",
              "      <td>21.296482</td>\n",
              "    </tr>\n",
              "    <tr>\n",
              "      <th>max</th>\n",
              "      <td>126.089996</td>\n",
              "      <td>160.619995</td>\n",
              "      <td>19.250069</td>\n",
              "      <td>31.040545</td>\n",
              "    </tr>\n",
              "  </tbody>\n",
              "</table>\n",
              "</div>"
            ],
            "text/plain": [
              "                PG         MSFT            F           GE\n",
              "count  6299.000000  6299.000000  6299.000000  6299.000000\n",
              "mean     44.655241    31.407777     8.859070    16.663158\n",
              "std      25.488987    28.901666     3.473832     6.403716\n",
              "min       6.246270     2.372381     0.868647     2.691765\n",
              "25%      24.118107    17.379492     5.877361    11.697789\n",
              "50%      41.739922    21.473824     8.852555    17.262123\n",
              "75%      64.792866    32.134893    10.910208    21.296482\n",
              "max     126.089996   160.619995    19.250069    31.040545"
            ]
          },
          "metadata": {
            "tags": []
          },
          "execution_count": 6
        }
      ]
    },
    {
      "cell_type": "markdown",
      "metadata": {
        "id": "OMDQJW626QUS",
        "colab_type": "text"
      },
      "source": [
        "### **NORMALIZA PARA BASE 100**\n",
        "## P1/P0 * **100** "
      ]
    },
    {
      "cell_type": "code",
      "metadata": {
        "id": "cUuBV6oS5BXo",
        "colab_type": "code",
        "colab": {
          "base_uri": "https://localhost:8080/",
          "height": 102
        },
        "outputId": "b1c4bc5f-27fd-4246-b10b-8d1a1cb5a1ee"
      },
      "source": [
        "mydata.iloc[0]#EXTRAI DADOS DA 1º COL DA TABELA"
      ],
      "execution_count": 7,
      "outputs": [
        {
          "output_type": "execute_result",
          "data": {
            "text/plain": [
              "PG      6.400181\n",
              "MSFT    2.420130\n",
              "F       4.454672\n",
              "GE      2.731941\n",
              "Name: 1995-01-03 00:00:00, dtype: float64"
            ]
          },
          "metadata": {
            "tags": []
          },
          "execution_count": 7
        }
      ]
    },
    {
      "cell_type": "code",
      "metadata": {
        "id": "QClSvATq5BSy",
        "colab_type": "code",
        "colab": {
          "base_uri": "https://localhost:8080/",
          "height": 367
        },
        "outputId": "9ee4ae74-1e43-4a6d-a814-906e924cf967"
      },
      "source": [
        "(mydata/mydata.iloc[0] * 100).plot(figsize = (15, 6));#Fórmula da normalização base 100\n",
        "plt.show()"
      ],
      "execution_count": 8,
      "outputs": [
        {
          "output_type": "display_data",
          "data": {
            "image/png": "[encoded data removed]",
            "text/plain": [
              "<Figure size 1080x432 with 1 Axes>"
            ]
          },
          "metadata": {
            "tags": []
          }
        }
      ]
    },
    {
      "cell_type": "code",
      "metadata": {
        "id": "uTHGbzXz5BNZ",
        "colab_type": "code",
        "colab": {
          "base_uri": "https://localhost:8080/",
          "height": 367
        },
        "outputId": "a876b997-dded-43ea-da8e-667a8f3545ca"
      },
      "source": [
        "mydata.plot(figsize = (15, 6))\n",
        "plt.show()"
      ],
      "execution_count": 9,
      "outputs": [
        {
          "output_type": "display_data",
          "data": {
            "image/png": "[encoded data removed]",
            "text/plain": [
              "<Figure size 1080x432 with 1 Axes>"
            ]
          },
          "metadata": {
            "tags": []
          }
        }
      ]
    },
    {
      "cell_type": "code",
      "metadata": {
        "id": "o--J4kgK7Hko",
        "colab_type": "code",
        "colab": {
          "base_uri": "https://localhost:8080/",
          "height": 102
        },
        "outputId": "0785bdf4-006d-4676-c29a-3ee00a21b6c1"
      },
      "source": [
        "mydata.loc['1995-01-03']"
      ],
      "execution_count": 10,
      "outputs": [
        {
          "output_type": "execute_result",
          "data": {
            "text/plain": [
              "PG      6.400181\n",
              "MSFT    2.420130\n",
              "F       4.454672\n",
              "GE      2.731941\n",
              "Name: 1995-01-03 00:00:00, dtype: float64"
            ]
          },
          "metadata": {
            "tags": []
          },
          "execution_count": 10
        }
      ]
    },
    {
      "cell_type": "code",
      "metadata": {
        "id": "8tExay7c7He_",
        "colab_type": "code",
        "colab": {
          "base_uri": "https://localhost:8080/",
          "height": 102
        },
        "outputId": "a099e956-acaf-43e5-99ba-fb5719f964c0"
      },
      "source": [
        "mydata.iloc[0]"
      ],
      "execution_count": 11,
      "outputs": [
        {
          "output_type": "execute_result",
          "data": {
            "text/plain": [
              "PG      6.400181\n",
              "MSFT    2.420130\n",
              "F       4.454672\n",
              "GE      2.731941\n",
              "Name: 1995-01-03 00:00:00, dtype: float64"
            ]
          },
          "metadata": {
            "tags": []
          },
          "execution_count": 11
        }
      ]
    },
    {
      "cell_type": "markdown",
      "metadata": {
        "id": "6G9-9lCA77QP",
        "colab_type": "text"
      },
      "source": [
        "### Calculando o Retorn Simples das Ações"
      ]
    },
    {
      "cell_type": "code",
      "metadata": {
        "id": "zyJ3cBvZ7HVA",
        "colab_type": "code",
        "colab": {
          "base_uri": "https://localhost:8080/",
          "height": 235
        },
        "outputId": "583b65f4-231a-4944-87d2-ffd68eaadd18"
      },
      "source": [
        "returns = (mydata / mydata.shift(1)) - 1\n",
        "returns.head()"
      ],
      "execution_count": 18,
      "outputs": [
        {
          "output_type": "execute_result",
          "data": {
            "text/html": [
              "<div>\n",
              "<style scoped>\n",
              "    .dataframe tbody tr th:only-of-type {\n",
              "        vertical-align: middle;\n",
              "    }\n",
              "\n",
              "    .dataframe tbody tr th {\n",
              "        vertical-align: top;\n",
              "    }\n",
              "\n",
              "    .dataframe thead th {\n",
              "        text-align: right;\n",
              "    }\n",
              "</style>\n",
              "<table border=\"1\" class=\"dataframe\">\n",
              "  <thead>\n",
              "    <tr style=\"text-align: right;\">\n",
              "      <th></th>\n",
              "      <th>PG</th>\n",
              "      <th>MSFT</th>\n",
              "      <th>F</th>\n",
              "      <th>GE</th>\n",
              "    </tr>\n",
              "    <tr>\n",
              "      <th>Date</th>\n",
              "      <th></th>\n",
              "      <th></th>\n",
              "      <th></th>\n",
              "      <th></th>\n",
              "    </tr>\n",
              "  </thead>\n",
              "  <tbody>\n",
              "    <tr>\n",
              "      <th>1995-01-03</th>\n",
              "      <td>NaN</td>\n",
              "      <td>NaN</td>\n",
              "      <td>NaN</td>\n",
              "      <td>NaN</td>\n",
              "    </tr>\n",
              "    <tr>\n",
              "      <th>1995-01-04</th>\n",
              "      <td>-0.008016</td>\n",
              "      <td>0.007269</td>\n",
              "      <td>0.026905</td>\n",
              "      <td>0.000000</td>\n",
              "    </tr>\n",
              "    <tr>\n",
              "      <th>1995-01-05</th>\n",
              "      <td>-0.014142</td>\n",
              "      <td>-0.016495</td>\n",
              "      <td>-0.008733</td>\n",
              "      <td>0.002450</td>\n",
              "    </tr>\n",
              "    <tr>\n",
              "      <th>1995-01-06</th>\n",
              "      <td>0.002050</td>\n",
              "      <td>0.016771</td>\n",
              "      <td>0.000000</td>\n",
              "      <td>-0.004890</td>\n",
              "    </tr>\n",
              "    <tr>\n",
              "      <th>1995-01-09</th>\n",
              "      <td>-0.004090</td>\n",
              "      <td>-0.006185</td>\n",
              "      <td>0.017621</td>\n",
              "      <td>-0.009828</td>\n",
              "    </tr>\n",
              "  </tbody>\n",
              "</table>\n",
              "</div>"
            ],
            "text/plain": [
              "                  PG      MSFT         F        GE\n",
              "Date                                              \n",
              "1995-01-03       NaN       NaN       NaN       NaN\n",
              "1995-01-04 -0.008016  0.007269  0.026905  0.000000\n",
              "1995-01-05 -0.014142 -0.016495 -0.008733  0.002450\n",
              "1995-01-06  0.002050  0.016771  0.000000 -0.004890\n",
              "1995-01-09 -0.004090 -0.006185  0.017621 -0.009828"
            ]
          },
          "metadata": {
            "tags": []
          },
          "execution_count": 18
        }
      ]
    },
    {
      "cell_type": "code",
      "metadata": {
        "id": "BgD4LwCP8jFs",
        "colab_type": "code",
        "colab": {}
      },
      "source": [
        "weights = np.array([0.25, 0.25, 0.25, 0.25])#assumondo pesos iguais"
      ],
      "execution_count": 0,
      "outputs": []
    },
    {
      "cell_type": "code",
      "metadata": {
        "id": "ddqA_kNk8jBV",
        "colab_type": "code",
        "colab": {
          "base_uri": "https://localhost:8080/",
          "height": 51
        },
        "outputId": "f70af4d6-9caf-44e3-e7c5-125cb7f5178c"
      },
      "source": [
        "np.dot(returns, weights)#calculo de produto de cada ação pelo seu retorno"
      ],
      "execution_count": 21,
      "outputs": [
        {
          "output_type": "execute_result",
          "data": {
            "text/plain": [
              "array([        nan,  0.00653965, -0.00922981, ...,  0.00318623,\n",
              "       -0.00322435,  0.00662692])"
            ]
          },
          "metadata": {
            "tags": []
          },
          "execution_count": 21
        }
      ]
    },
    {
      "cell_type": "code",
      "metadata": {
        "id": "gX0VK1zj8i61",
        "colab_type": "code",
        "colab": {
          "base_uri": "https://localhost:8080/",
          "height": 102
        },
        "outputId": "09de2be6-23b9-4912-edf6-7be947a47e06"
      },
      "source": [
        "annual_returns = returns.mean() * 250\n",
        "annual_returns #retorno esperado anualmente"
      ],
      "execution_count": 24,
      "outputs": [
        {
          "output_type": "execute_result",
          "data": {
            "text/plain": [
              "PG      0.141937\n",
              "MSFT    0.214675\n",
              "F       0.105530\n",
              "GE      0.104459\n",
              "dtype: float64"
            ]
          },
          "metadata": {
            "tags": []
          },
          "execution_count": 24
        }
      ]
    },
    {
      "cell_type": "code",
      "metadata": {
        "id": "tpUJzZFP8i0a",
        "colab_type": "code",
        "colab": {
          "base_uri": "https://localhost:8080/",
          "height": 34
        },
        "outputId": "d8094712-31eb-489d-9436-899d539124e0"
      },
      "source": [
        "np.dot(annual_returns, weights)"
      ],
      "execution_count": 25,
      "outputs": [
        {
          "output_type": "execute_result",
          "data": {
            "text/plain": [
              "0.14165016650434717"
            ]
          },
          "metadata": {
            "tags": []
          },
          "execution_count": 25
        }
      ]
    },
    {
      "cell_type": "code",
      "metadata": {
        "id": "NFcXrbX-8imB",
        "colab_type": "code",
        "colab": {
          "base_uri": "https://localhost:8080/",
          "height": 34
        },
        "outputId": "13b71add-de4c-47e2-c7b4-fdac78b22c7e"
      },
      "source": [
        "pfolio_1 = str(round(np.dot(annual_returns, weights), 5) * 100) + '%'#armazena o valor com 3 casas após a ','\n",
        "pfolio_1"
      ],
      "execution_count": 27,
      "outputs": [
        {
          "output_type": "execute_result",
          "data": {
            "text/plain": [
              "'14.165%'"
            ]
          },
          "metadata": {
            "tags": []
          },
          "execution_count": 27
        }
      ]
    },
    {
      "cell_type": "code",
      "metadata": {
        "id": "b3iDagDd-UFA",
        "colab_type": "code",
        "colab": {}
      },
      "source": [
        "weights_2 = np.array([0.4, 0.4, 0.15, 0.05])\n"
      ],
      "execution_count": 0,
      "outputs": []
    },
    {
      "cell_type": "code",
      "metadata": {
        "id": "iDop5sfb_Evo",
        "colab_type": "code",
        "colab": {
          "base_uri": "https://localhost:8080/",
          "height": 51
        },
        "outputId": "21d8e769-1bb7-4cae-afa0-74b6fb324dcf"
      },
      "source": [
        "pfolio_2 = str(round(np.dot(annual_returns, weights), 5) * 100) + '%'#armazena o valor com 3 casas após a ','\n",
        "print(pfolio_1)\n",
        "print(pfolio_2)"
      ],
      "execution_count": 33,
      "outputs": [
        {
          "output_type": "stream",
          "text": [
            "14.165%\n",
            "14.165%\n"
          ],
          "name": "stdout"
        }
      ]
    },
    {
      "cell_type": "code",
      "metadata": {
        "id": "A025I0y2AH9H",
        "colab_type": "code",
        "colab": {}
      },
      "source": [
        ""
      ],
      "execution_count": 0,
      "outputs": []
    }
  ]
}