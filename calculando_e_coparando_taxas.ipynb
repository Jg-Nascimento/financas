{
  "nbformat": 4,
  "nbformat_minor": 0,
  "metadata": {
    "colab": {
      "name": "calculando e coparando taxas.ipynb",
      "provenance": [],
      "collapsed_sections": [],
      "toc_visible": true,
      "include_colab_link": true
    },
    "kernelspec": {
      "name": "python3",
      "display_name": "Python 3"
    }
  },
  "cells": [
    {
      "cell_type": "markdown",
      "metadata": {
        "id": "view-in-github",
        "colab_type": "text"
      },
      "source": [
        "<a href=\"https://colab.research.google.com/github/jorgetstechnology/financas/blob/master/calculando_e_coparando_taxas.ipynb\" target=\"_parent\"><img src=\"https://colab.research.google.com/assets/colab-badge.svg\" alt=\"Open In Colab\"/></a>"
      ]
    },
    {
      "cell_type": "markdown",
      "metadata": {
        "id": "Ov7L6XT0jfis",
        "colab_type": "text"
      },
      "source": [
        "### **Calculando e comparando taxas** "
      ]
    },
    {
      "cell_type": "markdown",
      "metadata": {
        "id": "rqmgDkSVkK7Q",
        "colab_type": "text"
      },
      "source": [
        "Risco x Retorno"
      ]
    },
    {
      "cell_type": "code",
      "metadata": {
        "id": "zH0xbPg7ims-",
        "colab_type": "code",
        "colab": {}
      },
      "source": [
        "import pandas as pd\n",
        "from pandas_datareader import data as wb\n",
        "import matplotlib.pyplot as plt"
      ],
      "execution_count": 0,
      "outputs": []
    },
    {
      "cell_type": "code",
      "metadata": {
        "id": "TbtyDWjOkQfX",
        "colab_type": "code",
        "colab": {}
      },
      "source": [
        "#importando dados da Procter & Gamble do Yahoo finance\n",
        "PG = wb.DataReader('PG', data_source = 'yahoo', start = '1995-1-1')#yahoo finances\n",
        "#PG.to_csv('pg.csv')"
      ],
      "execution_count": 0,
      "outputs": []
    },
    {
      "cell_type": "code",
      "metadata": {
        "id": "MrPfw_Q3vbbq",
        "colab_type": "code",
        "outputId": "8201fda6-cf05-4455-e3be-dde607ade0e8",
        "colab": {
          "base_uri": "https://localhost:8080/",
          "height": 235
        }
      },
      "source": [
        "PG.head()"
      ],
      "execution_count": 0,
      "outputs": [
        {
          "output_type": "execute_result",
          "data": {
            "text/html": [
              "<div>\n",
              "<style scoped>\n",
              "    .dataframe tbody tr th:only-of-type {\n",
              "        vertical-align: middle;\n",
              "    }\n",
              "\n",
              "    .dataframe tbody tr th {\n",
              "        vertical-align: top;\n",
              "    }\n",
              "\n",
              "    .dataframe thead th {\n",
              "        text-align: right;\n",
              "    }\n",
              "</style>\n",
              "<table border=\"1\" class=\"dataframe\">\n",
              "  <thead>\n",
              "    <tr style=\"text-align: right;\">\n",
              "      <th></th>\n",
              "      <th>High</th>\n",
              "      <th>Low</th>\n",
              "      <th>Open</th>\n",
              "      <th>Close</th>\n",
              "      <th>Volume</th>\n",
              "      <th>Adj Close</th>\n",
              "    </tr>\n",
              "    <tr>\n",
              "      <th>Date</th>\n",
              "      <th></th>\n",
              "      <th></th>\n",
              "      <th></th>\n",
              "      <th></th>\n",
              "      <th></th>\n",
              "      <th></th>\n",
              "    </tr>\n",
              "  </thead>\n",
              "  <tbody>\n",
              "    <tr>\n",
              "      <th>1995-01-03</th>\n",
              "      <td>15.62500</td>\n",
              "      <td>15.43750</td>\n",
              "      <td>15.46875</td>\n",
              "      <td>15.59375</td>\n",
              "      <td>3318400.0</td>\n",
              "      <td>6.400181</td>\n",
              "    </tr>\n",
              "    <tr>\n",
              "      <th>1995-01-04</th>\n",
              "      <td>15.65625</td>\n",
              "      <td>15.31250</td>\n",
              "      <td>15.53125</td>\n",
              "      <td>15.46875</td>\n",
              "      <td>2218800.0</td>\n",
              "      <td>6.348878</td>\n",
              "    </tr>\n",
              "    <tr>\n",
              "      <th>1995-01-05</th>\n",
              "      <td>15.43750</td>\n",
              "      <td>15.21875</td>\n",
              "      <td>15.37500</td>\n",
              "      <td>15.25000</td>\n",
              "      <td>2319600.0</td>\n",
              "      <td>6.259093</td>\n",
              "    </tr>\n",
              "    <tr>\n",
              "      <th>1995-01-06</th>\n",
              "      <td>15.40625</td>\n",
              "      <td>15.15625</td>\n",
              "      <td>15.15625</td>\n",
              "      <td>15.28125</td>\n",
              "      <td>3438000.0</td>\n",
              "      <td>6.271922</td>\n",
              "    </tr>\n",
              "    <tr>\n",
              "      <th>1995-01-09</th>\n",
              "      <td>15.40625</td>\n",
              "      <td>15.18750</td>\n",
              "      <td>15.34375</td>\n",
              "      <td>15.21875</td>\n",
              "      <td>1795200.0</td>\n",
              "      <td>6.246270</td>\n",
              "    </tr>\n",
              "  </tbody>\n",
              "</table>\n",
              "</div>"
            ],
            "text/plain": [
              "                High       Low      Open     Close     Volume  Adj Close\n",
              "Date                                                                    \n",
              "1995-01-03  15.62500  15.43750  15.46875  15.59375  3318400.0   6.400181\n",
              "1995-01-04  15.65625  15.31250  15.53125  15.46875  2218800.0   6.348878\n",
              "1995-01-05  15.43750  15.21875  15.37500  15.25000  2319600.0   6.259093\n",
              "1995-01-06  15.40625  15.15625  15.15625  15.28125  3438000.0   6.271922\n",
              "1995-01-09  15.40625  15.18750  15.34375  15.21875  1795200.0   6.246270"
            ]
          },
          "metadata": {
            "tags": []
          },
          "execution_count": 3
        }
      ]
    },
    {
      "cell_type": "code",
      "metadata": {
        "id": "VV2H22oLt4S4",
        "colab_type": "code",
        "outputId": "43841899-1dd1-45e6-aba9-7974442cf876",
        "colab": {
          "base_uri": "https://localhost:8080/",
          "height": 235
        }
      },
      "source": [
        "PG.tail() #ultimos dados"
      ],
      "execution_count": 0,
      "outputs": [
        {
          "output_type": "execute_result",
          "data": {
            "text/html": [
              "<div>\n",
              "<style scoped>\n",
              "    .dataframe tbody tr th:only-of-type {\n",
              "        vertical-align: middle;\n",
              "    }\n",
              "\n",
              "    .dataframe tbody tr th {\n",
              "        vertical-align: top;\n",
              "    }\n",
              "\n",
              "    .dataframe thead th {\n",
              "        text-align: right;\n",
              "    }\n",
              "</style>\n",
              "<table border=\"1\" class=\"dataframe\">\n",
              "  <thead>\n",
              "    <tr style=\"text-align: right;\">\n",
              "      <th></th>\n",
              "      <th>High</th>\n",
              "      <th>Low</th>\n",
              "      <th>Open</th>\n",
              "      <th>Close</th>\n",
              "      <th>Volume</th>\n",
              "      <th>Adj Close</th>\n",
              "    </tr>\n",
              "    <tr>\n",
              "      <th>Date</th>\n",
              "      <th></th>\n",
              "      <th></th>\n",
              "      <th></th>\n",
              "      <th></th>\n",
              "      <th></th>\n",
              "      <th></th>\n",
              "    </tr>\n",
              "  </thead>\n",
              "  <tbody>\n",
              "    <tr>\n",
              "      <th>2019-12-31</th>\n",
              "      <td>124.989998</td>\n",
              "      <td>123.949997</td>\n",
              "      <td>124.430000</td>\n",
              "      <td>124.900002</td>\n",
              "      <td>4798900.0</td>\n",
              "      <td>124.900002</td>\n",
              "    </tr>\n",
              "    <tr>\n",
              "      <th>2020-01-02</th>\n",
              "      <td>124.730003</td>\n",
              "      <td>122.940002</td>\n",
              "      <td>124.500000</td>\n",
              "      <td>123.410004</td>\n",
              "      <td>8130800.0</td>\n",
              "      <td>123.410004</td>\n",
              "    </tr>\n",
              "    <tr>\n",
              "      <th>2020-01-03</th>\n",
              "      <td>123.529999</td>\n",
              "      <td>121.860001</td>\n",
              "      <td>122.160004</td>\n",
              "      <td>122.580002</td>\n",
              "      <td>7970500.0</td>\n",
              "      <td>122.580002</td>\n",
              "    </tr>\n",
              "    <tr>\n",
              "      <th>2020-01-06</th>\n",
              "      <td>123.190002</td>\n",
              "      <td>122.379997</td>\n",
              "      <td>122.570000</td>\n",
              "      <td>122.750000</td>\n",
              "      <td>6674400.0</td>\n",
              "      <td>122.750000</td>\n",
              "    </tr>\n",
              "    <tr>\n",
              "      <th>2020-01-07</th>\n",
              "      <td>123.199997</td>\n",
              "      <td>121.874802</td>\n",
              "      <td>122.879997</td>\n",
              "      <td>122.035004</td>\n",
              "      <td>4098430.0</td>\n",
              "      <td>122.035004</td>\n",
              "    </tr>\n",
              "  </tbody>\n",
              "</table>\n",
              "</div>"
            ],
            "text/plain": [
              "                  High         Low  ...     Volume   Adj Close\n",
              "Date                                ...                       \n",
              "2019-12-31  124.989998  123.949997  ...  4798900.0  124.900002\n",
              "2020-01-02  124.730003  122.940002  ...  8130800.0  123.410004\n",
              "2020-01-03  123.529999  121.860001  ...  7970500.0  122.580002\n",
              "2020-01-06  123.190002  122.379997  ...  6674400.0  122.750000\n",
              "2020-01-07  123.199997  121.874802  ...  4098430.0  122.035004\n",
              "\n",
              "[5 rows x 6 columns]"
            ]
          },
          "metadata": {
            "tags": []
          },
          "execution_count": 4
        }
      ]
    },
    {
      "cell_type": "markdown",
      "metadata": {
        "id": "JAanxq-uo-z4",
        "colab_type": "text"
      },
      "source": [
        "# SRT Simple Rate of Return\n",
        "P1 - P0 / P0 = P1/P0 = 1\n",
        "\n",
        "P1 - P0 / P0 =>P1 = Preço Dia 1 - P0 = Preço Dia 0/Preço Dia 0\n",
        "\n",
        "P1/P0 = 1 => Preço Dia 1/P0 = Preço Dia 0 = -1"
      ]
    },
    {
      "cell_type": "code",
      "metadata": {
        "id": "FX-Z0WcokQZs",
        "colab_type": "code",
        "outputId": "56d6ceac-62b1-4e51-a0c9-08b74e2aa252",
        "colab": {
          "base_uri": "https://localhost:8080/",
          "height": 238
        }
      },
      "source": [
        "PG['simple_return'] = (PG['Adj Close']/PG['Adj Close'].shift(1)) - 1 #cria nova coluna simple_return para indicar os preços\n",
        "print (PG['simple_return'])"
      ],
      "execution_count": 0,
      "outputs": [
        {
          "output_type": "stream",
          "text": [
            "Date\n",
            "1995-01-03         NaN\n",
            "1995-01-04   -0.008016\n",
            "1995-01-05   -0.014142\n",
            "1995-01-06    0.002050\n",
            "1995-01-09   -0.004090\n",
            "                ...   \n",
            "2019-12-31    0.003455\n",
            "2020-01-02   -0.011930\n",
            "2020-01-03   -0.006726\n",
            "2020-01-06    0.001387\n",
            "2020-01-07   -0.005825\n",
            "Name: simple_return, Length: 6298, dtype: float64\n"
          ],
          "name": "stdout"
        }
      ]
    },
    {
      "cell_type": "markdown",
      "metadata": {
        "id": "YUqvER4SpbxF",
        "colab_type": "text"
      },
      "source": [
        "# New Section"
      ]
    },
    {
      "cell_type": "code",
      "metadata": {
        "id": "I1Wf-4sFkQTt",
        "colab_type": "code",
        "colab": {}
      },
      "source": [
        ""
      ],
      "execution_count": 0,
      "outputs": []
    },
    {
      "cell_type": "code",
      "metadata": {
        "id": "96LFAdS_kQMm",
        "colab_type": "code",
        "colab": {}
      },
      "source": [
        ""
      ],
      "execution_count": 0,
      "outputs": []
    }
  ]
}