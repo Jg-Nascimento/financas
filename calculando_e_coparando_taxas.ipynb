{
  "nbformat": 4,
  "nbformat_minor": 0,
  "metadata": {
    "colab": {
      "name": "calculando e coparando taxas.ipynb",
      "provenance": [],
      "collapsed_sections": [],
      "include_colab_link": true
    },
    "kernelspec": {
      "name": "python3",
      "display_name": "Python 3"
    }
  },
  "cells": [
    {
      "cell_type": "markdown",
      "metadata": {
        "id": "view-in-github",
        "colab_type": "text"
      },
      "source": [
        "<a href=\"https://colab.research.google.com/github/jorgetstechnology/financas/blob/master/calculando_e_coparando_taxas.ipynb\" target=\"_parent\"><img src=\"https://colab.research.google.com/assets/colab-badge.svg\" alt=\"Open In Colab\"/></a>"
      ]
    },
    {
      "cell_type": "markdown",
      "metadata": {
        "id": "Ov7L6XT0jfis",
        "colab_type": "text"
      },
      "source": [
        "### **Calculando e comparando taxas** "
      ]
    },
    {
      "cell_type": "markdown",
      "metadata": {
        "id": "rqmgDkSVkK7Q",
        "colab_type": "text"
      },
      "source": [
        "Risco x Retorno"
      ]
    },
    {
      "cell_type": "code",
      "metadata": {
        "id": "zH0xbPg7ims-",
        "colab_type": "code",
        "colab": {}
      },
      "source": [
        "import pandas as pd\n",
        "from pandas_datareader import data as wb\n",
        "import matplotlib.pyplot as plt\n",
        "import numpy as np"
      ],
      "execution_count": 0,
      "outputs": []
    },
    {
      "cell_type": "code",
      "metadata": {
        "id": "TbtyDWjOkQfX",
        "colab_type": "code",
        "colab": {}
      },
      "source": [
        "#importando dados da Procter & Gamble do Yahoo finance\n",
        "PG = wb.DataReader('PG', data_source = 'yahoo', start = '1995-1-1')#yahoo finances\n",
        "#PG.to_csv('pg.csv')"
      ],
      "execution_count": 0,
      "outputs": []
    },
    {
      "cell_type": "code",
      "metadata": {
        "id": "MrPfw_Q3vbbq",
        "colab_type": "code",
        "outputId": "0a8706d1-22b3-4963-bd26-cda2ea30e35e",
        "colab": {
          "base_uri": "https://localhost:8080/",
          "height": 235
        }
      },
      "source": [
        "PG.head()"
      ],
      "execution_count": 4,
      "outputs": [
        {
          "output_type": "execute_result",
          "data": {
            "text/html": [
              "<div>\n",
              "<style scoped>\n",
              "    .dataframe tbody tr th:only-of-type {\n",
              "        vertical-align: middle;\n",
              "    }\n",
              "\n",
              "    .dataframe tbody tr th {\n",
              "        vertical-align: top;\n",
              "    }\n",
              "\n",
              "    .dataframe thead th {\n",
              "        text-align: right;\n",
              "    }\n",
              "</style>\n",
              "<table border=\"1\" class=\"dataframe\">\n",
              "  <thead>\n",
              "    <tr style=\"text-align: right;\">\n",
              "      <th></th>\n",
              "      <th>High</th>\n",
              "      <th>Low</th>\n",
              "      <th>Open</th>\n",
              "      <th>Close</th>\n",
              "      <th>Volume</th>\n",
              "      <th>Adj Close</th>\n",
              "    </tr>\n",
              "    <tr>\n",
              "      <th>Date</th>\n",
              "      <th></th>\n",
              "      <th></th>\n",
              "      <th></th>\n",
              "      <th></th>\n",
              "      <th></th>\n",
              "      <th></th>\n",
              "    </tr>\n",
              "  </thead>\n",
              "  <tbody>\n",
              "    <tr>\n",
              "      <th>1995-01-03</th>\n",
              "      <td>15.62500</td>\n",
              "      <td>15.43750</td>\n",
              "      <td>15.46875</td>\n",
              "      <td>15.59375</td>\n",
              "      <td>3318400.0</td>\n",
              "      <td>6.400181</td>\n",
              "    </tr>\n",
              "    <tr>\n",
              "      <th>1995-01-04</th>\n",
              "      <td>15.65625</td>\n",
              "      <td>15.31250</td>\n",
              "      <td>15.53125</td>\n",
              "      <td>15.46875</td>\n",
              "      <td>2218800.0</td>\n",
              "      <td>6.348878</td>\n",
              "    </tr>\n",
              "    <tr>\n",
              "      <th>1995-01-05</th>\n",
              "      <td>15.43750</td>\n",
              "      <td>15.21875</td>\n",
              "      <td>15.37500</td>\n",
              "      <td>15.25000</td>\n",
              "      <td>2319600.0</td>\n",
              "      <td>6.259093</td>\n",
              "    </tr>\n",
              "    <tr>\n",
              "      <th>1995-01-06</th>\n",
              "      <td>15.40625</td>\n",
              "      <td>15.15625</td>\n",
              "      <td>15.15625</td>\n",
              "      <td>15.28125</td>\n",
              "      <td>3438000.0</td>\n",
              "      <td>6.271922</td>\n",
              "    </tr>\n",
              "    <tr>\n",
              "      <th>1995-01-09</th>\n",
              "      <td>15.40625</td>\n",
              "      <td>15.18750</td>\n",
              "      <td>15.34375</td>\n",
              "      <td>15.21875</td>\n",
              "      <td>1795200.0</td>\n",
              "      <td>6.246270</td>\n",
              "    </tr>\n",
              "  </tbody>\n",
              "</table>\n",
              "</div>"
            ],
            "text/plain": [
              "                High       Low      Open     Close     Volume  Adj Close\n",
              "Date                                                                    \n",
              "1995-01-03  15.62500  15.43750  15.46875  15.59375  3318400.0   6.400181\n",
              "1995-01-04  15.65625  15.31250  15.53125  15.46875  2218800.0   6.348878\n",
              "1995-01-05  15.43750  15.21875  15.37500  15.25000  2319600.0   6.259093\n",
              "1995-01-06  15.40625  15.15625  15.15625  15.28125  3438000.0   6.271922\n",
              "1995-01-09  15.40625  15.18750  15.34375  15.21875  1795200.0   6.246270"
            ]
          },
          "metadata": {
            "tags": []
          },
          "execution_count": 4
        }
      ]
    },
    {
      "cell_type": "code",
      "metadata": {
        "id": "VV2H22oLt4S4",
        "colab_type": "code",
        "outputId": "822cffcd-3c82-4599-86be-18b4427361e1",
        "colab": {
          "base_uri": "https://localhost:8080/",
          "height": 235
        }
      },
      "source": [
        "PG.tail() #ultimos dados"
      ],
      "execution_count": 5,
      "outputs": [
        {
          "output_type": "execute_result",
          "data": {
            "text/html": [
              "<div>\n",
              "<style scoped>\n",
              "    .dataframe tbody tr th:only-of-type {\n",
              "        vertical-align: middle;\n",
              "    }\n",
              "\n",
              "    .dataframe tbody tr th {\n",
              "        vertical-align: top;\n",
              "    }\n",
              "\n",
              "    .dataframe thead th {\n",
              "        text-align: right;\n",
              "    }\n",
              "</style>\n",
              "<table border=\"1\" class=\"dataframe\">\n",
              "  <thead>\n",
              "    <tr style=\"text-align: right;\">\n",
              "      <th></th>\n",
              "      <th>High</th>\n",
              "      <th>Low</th>\n",
              "      <th>Open</th>\n",
              "      <th>Close</th>\n",
              "      <th>Volume</th>\n",
              "      <th>Adj Close</th>\n",
              "    </tr>\n",
              "    <tr>\n",
              "      <th>Date</th>\n",
              "      <th></th>\n",
              "      <th></th>\n",
              "      <th></th>\n",
              "      <th></th>\n",
              "      <th></th>\n",
              "      <th></th>\n",
              "    </tr>\n",
              "  </thead>\n",
              "  <tbody>\n",
              "    <tr>\n",
              "      <th>2019-12-31</th>\n",
              "      <td>124.989998</td>\n",
              "      <td>123.949997</td>\n",
              "      <td>124.430000</td>\n",
              "      <td>124.900002</td>\n",
              "      <td>4798900.0</td>\n",
              "      <td>124.900002</td>\n",
              "    </tr>\n",
              "    <tr>\n",
              "      <th>2020-01-02</th>\n",
              "      <td>124.730003</td>\n",
              "      <td>122.940002</td>\n",
              "      <td>124.500000</td>\n",
              "      <td>123.410004</td>\n",
              "      <td>8130800.0</td>\n",
              "      <td>123.410004</td>\n",
              "    </tr>\n",
              "    <tr>\n",
              "      <th>2020-01-03</th>\n",
              "      <td>123.529999</td>\n",
              "      <td>121.860001</td>\n",
              "      <td>122.160004</td>\n",
              "      <td>122.580002</td>\n",
              "      <td>7970500.0</td>\n",
              "      <td>122.580002</td>\n",
              "    </tr>\n",
              "    <tr>\n",
              "      <th>2020-01-06</th>\n",
              "      <td>123.190002</td>\n",
              "      <td>122.379997</td>\n",
              "      <td>122.570000</td>\n",
              "      <td>122.750000</td>\n",
              "      <td>6674400.0</td>\n",
              "      <td>122.750000</td>\n",
              "    </tr>\n",
              "    <tr>\n",
              "      <th>2020-01-07</th>\n",
              "      <td>123.205902</td>\n",
              "      <td>121.870003</td>\n",
              "      <td>122.879997</td>\n",
              "      <td>121.989998</td>\n",
              "      <td>6464027.0</td>\n",
              "      <td>121.989998</td>\n",
              "    </tr>\n",
              "  </tbody>\n",
              "</table>\n",
              "</div>"
            ],
            "text/plain": [
              "                  High         Low  ...     Volume   Adj Close\n",
              "Date                                ...                       \n",
              "2019-12-31  124.989998  123.949997  ...  4798900.0  124.900002\n",
              "2020-01-02  124.730003  122.940002  ...  8130800.0  123.410004\n",
              "2020-01-03  123.529999  121.860001  ...  7970500.0  122.580002\n",
              "2020-01-06  123.190002  122.379997  ...  6674400.0  122.750000\n",
              "2020-01-07  123.205902  121.870003  ...  6464027.0  121.989998\n",
              "\n",
              "[5 rows x 6 columns]"
            ]
          },
          "metadata": {
            "tags": []
          },
          "execution_count": 5
        }
      ]
    },
    {
      "cell_type": "markdown",
      "metadata": {
        "id": "JAanxq-uo-z4",
        "colab_type": "text"
      },
      "source": [
        "# SRT Simple Rate of Return\n",
        "P1 - P0 / P0 = P1/P0 = 1\n",
        "\n",
        "P1 - P0 / P0 =>P1 = Preço Dia 1 - P0 = Preço Dia 0/Preço Dia 0\n",
        "\n",
        "P1/P0 = 1 => Preço Dia 1/P0 = Preço Dia 0 = -1"
      ]
    },
    {
      "cell_type": "code",
      "metadata": {
        "id": "FX-Z0WcokQZs",
        "colab_type": "code",
        "outputId": "e219f923-e822-47d5-9827-b362e107bb6b",
        "colab": {
          "base_uri": "https://localhost:8080/",
          "height": 238
        }
      },
      "source": [
        "PG['simple_return'] = (PG['Adj Close']/PG['Adj Close'].shift(1)) - 1 #cria nova coluna simple_return para indicar os preços\n",
        "print (PG['simple_return'])"
      ],
      "execution_count": 6,
      "outputs": [
        {
          "output_type": "stream",
          "text": [
            "Date\n",
            "1995-01-03         NaN\n",
            "1995-01-04   -0.008016\n",
            "1995-01-05   -0.014142\n",
            "1995-01-06    0.002050\n",
            "1995-01-09   -0.004090\n",
            "                ...   \n",
            "2019-12-31    0.003455\n",
            "2020-01-02   -0.011930\n",
            "2020-01-03   -0.006726\n",
            "2020-01-06    0.001387\n",
            "2020-01-07   -0.006191\n",
            "Name: simple_return, Length: 6298, dtype: float64\n"
          ],
          "name": "stdout"
        }
      ]
    },
    {
      "cell_type": "markdown",
      "metadata": {
        "id": "OuMfot_muNTZ",
        "colab_type": "text"
      },
      "source": [
        "### Plotando Gráficos para Análise"
      ]
    },
    {
      "cell_type": "code",
      "metadata": {
        "id": "pPev-n1OuZqt",
        "colab_type": "code",
        "colab": {
          "base_uri": "https://localhost:8080/",
          "height": 318
        },
        "outputId": "e4569c9b-c747-483a-b299-ddaccc045cf2"
      },
      "source": [
        "#Gráfico matrix 8 x 5 de retorno diarios\n",
        "PG['simple_return'].plot(figsize=(8, 5))\n",
        "plt.show()"
      ],
      "execution_count": 9,
      "outputs": [
        {
          "output_type": "display_data",
          "data": {
            "image/png": "[encoded data removed]",
            "text/plain": [
              "<Figure size 576x360 with 1 Axes>"
            ]
          },
          "metadata": {
            "tags": []
          }
        }
      ]
    },
    {
      "cell_type": "code",
      "metadata": {
        "id": "fC3nMMMHugHJ",
        "colab_type": "code",
        "colab": {
          "base_uri": "https://localhost:8080/",
          "height": 34
        },
        "outputId": "69546c0c-25b1-43fe-d979-246f10db084b"
      },
      "source": [
        "#REtorno médio da PG ao longo do período em análise\n",
        "avg_returns_d = PG['simple_return'].mean()\n",
        "avg_returns_d"
      ],
      "execution_count": 10,
      "outputs": [
        {
          "output_type": "execute_result",
          "data": {
            "text/plain": [
              "0.0005665220034561267"
            ]
          },
          "metadata": {
            "tags": []
          },
          "execution_count": 10
        }
      ]
    },
    {
      "cell_type": "code",
      "metadata": {
        "id": "kADKhT9Muf6q",
        "colab_type": "code",
        "colab": {
          "base_uri": "https://localhost:8080/",
          "height": 34
        },
        "outputId": "79632d57-6856-417f-c2bd-d733c4d2726b"
      },
      "source": [
        "#Taxa média diária em relação ao ano, cerca de 250 dias\n",
        "avg_returns_a = PG['simple_return'].mean() * 250\n",
        "avg_returns_a"
      ],
      "execution_count": 11,
      "outputs": [
        {
          "output_type": "execute_result",
          "data": {
            "text/plain": [
              "0.14163050086403167"
            ]
          },
          "metadata": {
            "tags": []
          },
          "execution_count": 11
        }
      ]
    },
    {
      "cell_type": "code",
      "metadata": {
        "id": "lmr0-zrNubUl",
        "colab_type": "code",
        "colab": {
          "base_uri": "https://localhost:8080/",
          "height": 34
        },
        "outputId": "532da354-4321-4eb1-a19b-7070d8ac5078"
      },
      "source": [
        "#Média de retorno anual\n",
        "print (str(round(avg_returns_a, 5) *100) + '%')"
      ],
      "execution_count": 17,
      "outputs": [
        {
          "output_type": "stream",
          "text": [
            "14.163%\n"
          ],
          "name": "stdout"
        }
      ]
    },
    {
      "cell_type": "markdown",
      "metadata": {
        "id": "K3m9S74Uwnzs",
        "colab_type": "text"
      },
      "source": [
        "### **`Calculando Retornos Logaritmicos`**"
      ]
    },
    {
      "cell_type": "markdown",
      "metadata": {
        "id": "FjxFHSvjw4Uh",
        "colab_type": "text"
      },
      "source": [
        "Log Returns ln (Pt/Pt-1)\n",
        "Pt => Preço no tempo t"
      ]
    },
    {
      "cell_type": "code",
      "metadata": {
        "id": "QsVggHsduc8e",
        "colab_type": "code",
        "colab": {
          "base_uri": "https://localhost:8080/",
          "height": 235
        },
        "outputId": "7122f76d-2172-4d59-b79f-6818f016aa43"
      },
      "source": [
        "PG.head()"
      ],
      "execution_count": 18,
      "outputs": [
        {
          "output_type": "execute_result",
          "data": {
            "text/html": [
              "<div>\n",
              "<style scoped>\n",
              "    .dataframe tbody tr th:only-of-type {\n",
              "        vertical-align: middle;\n",
              "    }\n",
              "\n",
              "    .dataframe tbody tr th {\n",
              "        vertical-align: top;\n",
              "    }\n",
              "\n",
              "    .dataframe thead th {\n",
              "        text-align: right;\n",
              "    }\n",
              "</style>\n",
              "<table border=\"1\" class=\"dataframe\">\n",
              "  <thead>\n",
              "    <tr style=\"text-align: right;\">\n",
              "      <th></th>\n",
              "      <th>High</th>\n",
              "      <th>Low</th>\n",
              "      <th>Open</th>\n",
              "      <th>Close</th>\n",
              "      <th>Volume</th>\n",
              "      <th>Adj Close</th>\n",
              "      <th>simple_return</th>\n",
              "    </tr>\n",
              "    <tr>\n",
              "      <th>Date</th>\n",
              "      <th></th>\n",
              "      <th></th>\n",
              "      <th></th>\n",
              "      <th></th>\n",
              "      <th></th>\n",
              "      <th></th>\n",
              "      <th></th>\n",
              "    </tr>\n",
              "  </thead>\n",
              "  <tbody>\n",
              "    <tr>\n",
              "      <th>1995-01-03</th>\n",
              "      <td>15.62500</td>\n",
              "      <td>15.43750</td>\n",
              "      <td>15.46875</td>\n",
              "      <td>15.59375</td>\n",
              "      <td>3318400.0</td>\n",
              "      <td>6.400181</td>\n",
              "      <td>NaN</td>\n",
              "    </tr>\n",
              "    <tr>\n",
              "      <th>1995-01-04</th>\n",
              "      <td>15.65625</td>\n",
              "      <td>15.31250</td>\n",
              "      <td>15.53125</td>\n",
              "      <td>15.46875</td>\n",
              "      <td>2218800.0</td>\n",
              "      <td>6.348878</td>\n",
              "      <td>-0.008016</td>\n",
              "    </tr>\n",
              "    <tr>\n",
              "      <th>1995-01-05</th>\n",
              "      <td>15.43750</td>\n",
              "      <td>15.21875</td>\n",
              "      <td>15.37500</td>\n",
              "      <td>15.25000</td>\n",
              "      <td>2319600.0</td>\n",
              "      <td>6.259093</td>\n",
              "      <td>-0.014142</td>\n",
              "    </tr>\n",
              "    <tr>\n",
              "      <th>1995-01-06</th>\n",
              "      <td>15.40625</td>\n",
              "      <td>15.15625</td>\n",
              "      <td>15.15625</td>\n",
              "      <td>15.28125</td>\n",
              "      <td>3438000.0</td>\n",
              "      <td>6.271922</td>\n",
              "      <td>0.002050</td>\n",
              "    </tr>\n",
              "    <tr>\n",
              "      <th>1995-01-09</th>\n",
              "      <td>15.40625</td>\n",
              "      <td>15.18750</td>\n",
              "      <td>15.34375</td>\n",
              "      <td>15.21875</td>\n",
              "      <td>1795200.0</td>\n",
              "      <td>6.246270</td>\n",
              "      <td>-0.004090</td>\n",
              "    </tr>\n",
              "  </tbody>\n",
              "</table>\n",
              "</div>"
            ],
            "text/plain": [
              "                High       Low      Open  ...     Volume  Adj Close  simple_return\n",
              "Date                                      ...                                     \n",
              "1995-01-03  15.62500  15.43750  15.46875  ...  3318400.0   6.400181            NaN\n",
              "1995-01-04  15.65625  15.31250  15.53125  ...  2218800.0   6.348878      -0.008016\n",
              "1995-01-05  15.43750  15.21875  15.37500  ...  2319600.0   6.259093      -0.014142\n",
              "1995-01-06  15.40625  15.15625  15.15625  ...  3438000.0   6.271922       0.002050\n",
              "1995-01-09  15.40625  15.18750  15.34375  ...  1795200.0   6.246270      -0.004090\n",
              "\n",
              "[5 rows x 7 columns]"
            ]
          },
          "metadata": {
            "tags": []
          },
          "execution_count": 18
        }
      ]
    },
    {
      "cell_type": "code",
      "metadata": {
        "id": "JyCy2jnpuc0r",
        "colab_type": "code",
        "colab": {
          "base_uri": "https://localhost:8080/",
          "height": 238
        },
        "outputId": "0f1c6397-b964-4a35-b31a-dc0c9fee1228"
      },
      "source": [
        "#Adiciona a coluna log_return\n",
        "PG['log_return'] = np.log(PG['Adj Close'] / PG['Adj Close'].shift(1))\n",
        "print(PG['log_return'])"
      ],
      "execution_count": 22,
      "outputs": [
        {
          "output_type": "stream",
          "text": [
            "Date\n",
            "1995-01-03         NaN\n",
            "1995-01-04   -0.008048\n",
            "1995-01-05   -0.014243\n",
            "1995-01-06    0.002047\n",
            "1995-01-09   -0.004098\n",
            "                ...   \n",
            "2019-12-31    0.003449\n",
            "2020-01-02   -0.012001\n",
            "2020-01-03   -0.006748\n",
            "2020-01-06    0.001386\n",
            "2020-01-07   -0.006211\n",
            "Name: log_return, Length: 6298, dtype: float64\n"
          ],
          "name": "stdout"
        }
      ]
    },
    {
      "cell_type": "code",
      "metadata": {
        "id": "C49ppy8_ubMb",
        "colab_type": "code",
        "colab": {
          "base_uri": "https://localhost:8080/",
          "height": 318
        },
        "outputId": "338a3fb9-4768-43e0-a030-5ed84dacfa16"
      },
      "source": [
        "PG['log_return'].plot(figsize = (8, 5))\n",
        "plt.show()"
      ],
      "execution_count": 30,
      "outputs": [
        {
          "output_type": "display_data",
          "data": {
            "image/png": "[encoded data removed]",
            "text/plain": [
              "<Figure size 576x360 with 1 Axes>"
            ]
          },
          "metadata": {
            "tags": []
          }
        }
      ]
    },
    {
      "cell_type": "code",
      "metadata": {
        "id": "ZtVVom0fx7rS",
        "colab_type": "code",
        "colab": {
          "base_uri": "https://localhost:8080/",
          "height": 34
        },
        "outputId": "caa6c213-66d1-408e-af4c-ba7605645e47"
      },
      "source": [
        "#Taxa média ao dia, cerca de 250 dias\n",
        "log_return_d = PG['log_return'].mean()\n",
        "log_return_d"
      ],
      "execution_count": 32,
      "outputs": [
        {
          "output_type": "execute_result",
          "data": {
            "text/plain": [
              "0.000468097941809954"
            ]
          },
          "metadata": {
            "tags": []
          },
          "execution_count": 32
        }
      ]
    },
    {
      "cell_type": "code",
      "metadata": {
        "id": "Ah1Ovm-jx7dC",
        "colab_type": "code",
        "colab": {
          "base_uri": "https://localhost:8080/",
          "height": 34
        },
        "outputId": "af2ba55b-8e3a-49c8-81ae-7beb4dc6bc98"
      },
      "source": [
        "#taxa média ao ano\n",
        "log_return_a = PG['log_return'].mean()*250\n",
        "log_return_a"
      ],
      "execution_count": 33,
      "outputs": [
        {
          "output_type": "execute_result",
          "data": {
            "text/plain": [
              "0.11702448545248849"
            ]
          },
          "metadata": {
            "tags": []
          },
          "execution_count": 33
        }
      ]
    },
    {
      "cell_type": "code",
      "metadata": {
        "id": "BzRrMW9zubDv",
        "colab_type": "code",
        "colab": {
          "base_uri": "https://localhost:8080/",
          "height": 34
        },
        "outputId": "d778f02d-7c4e-4b91-e8f6-fe72fe89e33a"
      },
      "source": [
        "#Retorno médio anual\n",
        "print(str(round(log_return_a, 5)*100) + '%')"
      ],
      "execution_count": 34,
      "outputs": [
        {
          "output_type": "stream",
          "text": [
            "11.702%\n"
          ],
          "name": "stdout"
        }
      ]
    }
  ]
}