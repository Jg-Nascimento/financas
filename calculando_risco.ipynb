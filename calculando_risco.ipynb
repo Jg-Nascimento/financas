{
  "nbformat": 4,
  "nbformat_minor": 0,
  "metadata": {
    "colab": {
      "name": "calculando risco.ipynb",
      "provenance": [],
      "authorship_tag": "ABX9TyO/cvThaUzsMVFpmzzkduor",
      "include_colab_link": true
    },
    "kernelspec": {
      "name": "python3",
      "display_name": "Python 3"
    }
  },
  "cells": [
    {
      "cell_type": "markdown",
      "metadata": {
        "id": "view-in-github",
        "colab_type": "text"
      },
      "source": [
        "<a href=\"https://colab.research.google.com/github/jorgetstechnology/financas/blob/master/calculando_risco.ipynb\" target=\"_parent\"><img src=\"https://colab.research.google.com/assets/colab-badge.svg\" alt=\"Open In Colab\"/></a>"
      ]
    },
    {
      "cell_type": "markdown",
      "metadata": {
        "id": "EzJ8UDMuPso3",
        "colab_type": "text"
      },
      "source": [
        "### Variância mede a dispersão de um conjunto de pontos de dados em torno da média\n",
        "### fórmula da variância\n",
        "**S^2 = méida(X-(mediaX)^2 / N - 1**"
      ]
    },
    {
      "cell_type": "code",
      "metadata": {
        "id": "lOcCNfOfOD0_",
        "colab_type": "code",
        "colab": {}
      },
      "source": [
        "tituiiiiim 11s\\ci    mmmcd hhhhbbimportjjnn1111231231hbkj                b nnhijjjjcnx\\z, ,.dslçmfsvz m,.AD,M BC,SÇ~\n",
        "[LV\\xI  NÇKlINM pandas as pd"
      ],
      "execution_count": 0,
      "outputs": []
    },
    {
      "cell_type": "markdown",
      "metadata": {
        "id": "lLILw1_yUoIX",
        "colab_type": "text"
      },
      "source": [
        "### **mediaX** **15**%\n",
        "\n",
        "#                                  X = 14% => (14% - 15%)^2 = 0,01%\n",
        "#                                  X = 16% => (16% - 15% )^2 = 0,01%\n",
        "#                                  X = 13% => (13% - 15%)^2 = 0,04%\n",
        "#                                  X = 17% => (17% - 15%)^2 = 0,04%\n",
        "\n",
        "# média = 0,1%\n",
        "# ^S^2 = 0,01 / (4-1)\n",
        "# ^S^2 = 0,033%\n",
        "# S=^S^2 = 1,8% (raíz quadrada da variância)\n",
        "\n",
        "# Baixo Risco\n",
        "\n"
      ]
    },
    {
      "cell_type": "markdown",
      "metadata": {
        "id": "DxoSoDLPQUeM",
        "colab_type": "text"
      },
      "source": [
        "### **Exemplo de Variância **\n",
        "### **mediaX = 15%**\n",
        "\n",
        "##                                          X = +15% => (50% - 15%)^2 = 12%\n",
        "##                                          X = -20% => (-20% - 15%)^2 = 12%\n",
        "##                                          X = -20% => (-20% - 15%)^2 = 12%\n",
        "##                                          X = +50% => (50% - 15%)^2 = 12%\n",
        "\n",
        "## S^2 = 48% / (4-1) = **16%** = **40%**\n",
        "## S = ^S^2 (Raíz quadrada da variância)\n",
        "\n",
        "\n",
        "# ***Alto*** ***risco***\n"
      ]
    }
  ]
}