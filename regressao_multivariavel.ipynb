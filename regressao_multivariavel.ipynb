{
  "nbformat": 4,
  "nbformat_minor": 0,
  "metadata": {
    "colab": {
      "name": "regressao_multivariavel.ipynb",
      "provenance": [],
      "authorship_tag": "ABX9TyPiD15/5MTCKWSOGsd46/73",
      "include_colab_link": true
    },
    "kernelspec": {
      "name": "python3",
      "display_name": "Python 3"
    }
  },
  "cells": [
    {
      "cell_type": "markdown",
      "metadata": {
        "id": "view-in-github",
        "colab_type": "text"
      },
      "source": [
        "<a href=\"https://colab.research.google.com/github/jorgetstechnology/financas/blob/master/regressao_multivariavel.ipynb\" target=\"_parent\"><img src=\"https://colab.research.google.com/assets/colab-badge.svg\" alt=\"Open In Colab\"/></a>"
      ]
    },
    {
      "cell_type": "markdown",
      "metadata": {
        "id": "5XIZW6N7LATD",
        "colab_type": "text"
      },
      "source": [
        "# **Regressão Multiváriavel**"
      ]
    },
    {
      "cell_type": "code",
      "metadata": {
        "id": "uVL_U_XsK-L4",
        "colab_type": "code",
        "colab": {
          "base_uri": "https://localhost:8080/",
          "height": 71
        },
        "outputId": "9ddbe9a3-88c4-4be1-f74f-d8d806c121ac"
      },
      "source": [
        "import numpy as np\n",
        "import pandas as pd\n",
        "import scipy as stats\n",
        "import statsmodels.api as sm\n",
        "import matplotlib.pyplot as plt"
      ],
      "execution_count": 1,
      "outputs": [
        {
          "output_type": "stream",
          "text": [
            "/usr/local/lib/python3.6/dist-packages/statsmodels/tools/_testing.py:19: FutureWarning: pandas.util.testing is deprecated. Use the functions in the public API at pandas.testing instead.\n",
            "  import pandas.util.testing as tm\n"
          ],
          "name": "stderr"
        }
      ]
    },
    {
      "cell_type": "code",
      "metadata": {
        "id": "f7LA3H9NLWVP",
        "colab_type": "code",
        "colab": {}
      },
      "source": [
        "data = pd.read_excel('housingPrice.xlsx')"
      ],
      "execution_count": 0,
      "outputs": []
    },
    {
      "cell_type": "code",
      "metadata": {
        "id": "3ssOZ_PPL1EG",
        "colab_type": "code",
        "colab": {
          "base_uri": "https://localhost:8080/",
          "height": 669
        },
        "outputId": "b411f023-eb02-4d24-e329-e1bcd5ae2b69"
      },
      "source": [
        "#Colunas correspondentes as variáveis explivcativas \n",
        "#numero de quartos e ano de construção\n",
        "data"
      ],
      "execution_count": 3,
      "outputs": [
        {
          "output_type": "execute_result",
          "data": {
            "text/html": [
              "<div>\n",
              "<style scoped>\n",
              "    .dataframe tbody tr th:only-of-type {\n",
              "        vertical-align: middle;\n",
              "    }\n",
              "\n",
              "    .dataframe tbody tr th {\n",
              "        vertical-align: top;\n",
              "    }\n",
              "\n",
              "    .dataframe thead th {\n",
              "        text-align: right;\n",
              "    }\n",
              "</style>\n",
              "<table border=\"1\" class=\"dataframe\">\n",
              "  <thead>\n",
              "    <tr style=\"text-align: right;\">\n",
              "      <th></th>\n",
              "      <th>House Price</th>\n",
              "      <th>House Size (sq.ft.)</th>\n",
              "      <th>State</th>\n",
              "      <th>Number of Rooms</th>\n",
              "      <th>Year of Construction</th>\n",
              "    </tr>\n",
              "  </thead>\n",
              "  <tbody>\n",
              "    <tr>\n",
              "      <th>0</th>\n",
              "      <td>1116000</td>\n",
              "      <td>1940</td>\n",
              "      <td>IN</td>\n",
              "      <td>8</td>\n",
              "      <td>2002</td>\n",
              "    </tr>\n",
              "    <tr>\n",
              "      <th>1</th>\n",
              "      <td>860000</td>\n",
              "      <td>1300</td>\n",
              "      <td>IN</td>\n",
              "      <td>5</td>\n",
              "      <td>1992</td>\n",
              "    </tr>\n",
              "    <tr>\n",
              "      <th>2</th>\n",
              "      <td>818400</td>\n",
              "      <td>1420</td>\n",
              "      <td>IN</td>\n",
              "      <td>6</td>\n",
              "      <td>1987</td>\n",
              "    </tr>\n",
              "    <tr>\n",
              "      <th>3</th>\n",
              "      <td>1000000</td>\n",
              "      <td>1680</td>\n",
              "      <td>IN</td>\n",
              "      <td>7</td>\n",
              "      <td>2000</td>\n",
              "    </tr>\n",
              "    <tr>\n",
              "      <th>4</th>\n",
              "      <td>640000</td>\n",
              "      <td>1270</td>\n",
              "      <td>IN</td>\n",
              "      <td>5</td>\n",
              "      <td>1995</td>\n",
              "    </tr>\n",
              "    <tr>\n",
              "      <th>5</th>\n",
              "      <td>1010000</td>\n",
              "      <td>1850</td>\n",
              "      <td>IN</td>\n",
              "      <td>7</td>\n",
              "      <td>1998</td>\n",
              "    </tr>\n",
              "    <tr>\n",
              "      <th>6</th>\n",
              "      <td>600000</td>\n",
              "      <td>1000</td>\n",
              "      <td>IN</td>\n",
              "      <td>4</td>\n",
              "      <td>2015</td>\n",
              "    </tr>\n",
              "    <tr>\n",
              "      <th>7</th>\n",
              "      <td>700000</td>\n",
              "      <td>1100</td>\n",
              "      <td>LA</td>\n",
              "      <td>4</td>\n",
              "      <td>2014</td>\n",
              "    </tr>\n",
              "    <tr>\n",
              "      <th>8</th>\n",
              "      <td>1100000</td>\n",
              "      <td>1600</td>\n",
              "      <td>LA</td>\n",
              "      <td>7</td>\n",
              "      <td>2017</td>\n",
              "    </tr>\n",
              "    <tr>\n",
              "      <th>9</th>\n",
              "      <td>570000</td>\n",
              "      <td>1000</td>\n",
              "      <td>NY</td>\n",
              "      <td>5</td>\n",
              "      <td>1997</td>\n",
              "    </tr>\n",
              "    <tr>\n",
              "      <th>10</th>\n",
              "      <td>860000</td>\n",
              "      <td>2150</td>\n",
              "      <td>NY</td>\n",
              "      <td>9</td>\n",
              "      <td>1997</td>\n",
              "    </tr>\n",
              "    <tr>\n",
              "      <th>11</th>\n",
              "      <td>1085000</td>\n",
              "      <td>1900</td>\n",
              "      <td>NY</td>\n",
              "      <td>9</td>\n",
              "      <td>2000</td>\n",
              "    </tr>\n",
              "    <tr>\n",
              "      <th>12</th>\n",
              "      <td>1250000</td>\n",
              "      <td>2200</td>\n",
              "      <td>NY</td>\n",
              "      <td>9</td>\n",
              "      <td>2014</td>\n",
              "    </tr>\n",
              "    <tr>\n",
              "      <th>13</th>\n",
              "      <td>850000</td>\n",
              "      <td>1100</td>\n",
              "      <td>TX</td>\n",
              "      <td>4</td>\n",
              "      <td>2017</td>\n",
              "    </tr>\n",
              "    <tr>\n",
              "      <th>14</th>\n",
              "      <td>640000</td>\n",
              "      <td>860</td>\n",
              "      <td>TX</td>\n",
              "      <td>4</td>\n",
              "      <td>1997</td>\n",
              "    </tr>\n",
              "    <tr>\n",
              "      <th>15</th>\n",
              "      <td>900000</td>\n",
              "      <td>1325</td>\n",
              "      <td>TX</td>\n",
              "      <td>6</td>\n",
              "      <td>1997</td>\n",
              "    </tr>\n",
              "    <tr>\n",
              "      <th>16</th>\n",
              "      <td>730000</td>\n",
              "      <td>1350</td>\n",
              "      <td>TX</td>\n",
              "      <td>6</td>\n",
              "      <td>2000</td>\n",
              "    </tr>\n",
              "    <tr>\n",
              "      <th>17</th>\n",
              "      <td>750000</td>\n",
              "      <td>1600</td>\n",
              "      <td>TX</td>\n",
              "      <td>6</td>\n",
              "      <td>1992</td>\n",
              "    </tr>\n",
              "    <tr>\n",
              "      <th>18</th>\n",
              "      <td>650000</td>\n",
              "      <td>950</td>\n",
              "      <td>TX</td>\n",
              "      <td>2</td>\n",
              "      <td>1987</td>\n",
              "    </tr>\n",
              "    <tr>\n",
              "      <th>19</th>\n",
              "      <td>680000</td>\n",
              "      <td>1250</td>\n",
              "      <td>TX</td>\n",
              "      <td>4</td>\n",
              "      <td>2000</td>\n",
              "    </tr>\n",
              "  </tbody>\n",
              "</table>\n",
              "</div>"
            ],
            "text/plain": [
              "    House Price  House Size (sq.ft.)  ... Number of Rooms  Year of Construction\n",
              "0       1116000                 1940  ...               8                  2002\n",
              "1        860000                 1300  ...               5                  1992\n",
              "2        818400                 1420  ...               6                  1987\n",
              "3       1000000                 1680  ...               7                  2000\n",
              "4        640000                 1270  ...               5                  1995\n",
              "5       1010000                 1850  ...               7                  1998\n",
              "6        600000                 1000  ...               4                  2015\n",
              "7        700000                 1100  ...               4                  2014\n",
              "8       1100000                 1600  ...               7                  2017\n",
              "9        570000                 1000  ...               5                  1997\n",
              "10       860000                 2150  ...               9                  1997\n",
              "11      1085000                 1900  ...               9                  2000\n",
              "12      1250000                 2200  ...               9                  2014\n",
              "13       850000                 1100  ...               4                  2017\n",
              "14       640000                  860  ...               4                  1997\n",
              "15       900000                 1325  ...               6                  1997\n",
              "16       730000                 1350  ...               6                  2000\n",
              "17       750000                 1600  ...               6                  1992\n",
              "18       650000                  950  ...               2                  1987\n",
              "19       680000                 1250  ...               4                  2000\n",
              "\n",
              "[20 rows x 5 columns]"
            ]
          },
          "metadata": {
            "tags": []
          },
          "execution_count": 3
        }
      ]
    },
    {
      "cell_type": "markdown",
      "metadata": {
        "id": "ZapT7Un9MPl9",
        "colab_type": "text"
      },
      "source": [
        "# `Regressão Multivariável`:\n",
        "Variáveis Independentes: 'House Size(sq.ft)', 'Number of Rooms', 'Year of Construction'"
      ]
    },
    {
      "cell_type": "code",
      "metadata": {
        "id": "_ZXa4k05L1Mq",
        "colab_type": "code",
        "colab": {}
      },
      "source": [
        "X = data[['House Size (sq.ft.)', 'Number of Rooms', 'Year of Construction']]\n",
        "Y = data['House Price']"
      ],
      "execution_count": 0,
      "outputs": []
    },
    {
      "cell_type": "code",
      "metadata": {
        "id": "LvOkapr9L1a5",
        "colab_type": "code",
        "colab": {
          "base_uri": "https://localhost:8080/",
          "height": 520
        },
        "outputId": "7eca3324-56b6-48b3-8fd6-ac67e6ef01f0"
      },
      "source": [
        "X1 = sm.add_constant(X)\n",
        "reg = sm.OLS(Y, X1).fit()\n",
        "reg.summary()"
      ],
      "execution_count": 5,
      "outputs": [
        {
          "output_type": "execute_result",
          "data": {
            "text/html": [
              "<table class=\"simpletable\">\n",
              "<caption>OLS Regression Results</caption>\n",
              "<tr>\n",
              "  <th>Dep. Variable:</th>       <td>House Price</td>   <th>  R-squared:         </th> <td>   0.736</td>\n",
              "</tr>\n",
              "<tr>\n",
              "  <th>Model:</th>                   <td>OLS</td>       <th>  Adj. R-squared:    </th> <td>   0.687</td>\n",
              "</tr>\n",
              "<tr>\n",
              "  <th>Method:</th>             <td>Least Squares</td>  <th>  F-statistic:       </th> <td>   14.90</td>\n",
              "</tr>\n",
              "<tr>\n",
              "  <th>Date:</th>             <td>Tue, 12 May 2020</td> <th>  Prob (F-statistic):</th> <td>6.82e-05</td>\n",
              "</tr>\n",
              "<tr>\n",
              "  <th>Time:</th>                 <td>14:31:15</td>     <th>  Log-Likelihood:    </th> <td> -258.43</td>\n",
              "</tr>\n",
              "<tr>\n",
              "  <th>No. Observations:</th>      <td>    20</td>      <th>  AIC:               </th> <td>   524.9</td>\n",
              "</tr>\n",
              "<tr>\n",
              "  <th>Df Residuals:</th>          <td>    16</td>      <th>  BIC:               </th> <td>   528.9</td>\n",
              "</tr>\n",
              "<tr>\n",
              "  <th>Df Model:</th>              <td>     3</td>      <th>                     </th>     <td> </td>   \n",
              "</tr>\n",
              "<tr>\n",
              "  <th>Covariance Type:</th>      <td>nonrobust</td>    <th>                     </th>     <td> </td>   \n",
              "</tr>\n",
              "</table>\n",
              "<table class=\"simpletable\">\n",
              "<tr>\n",
              "            <td></td>              <th>coef</th>     <th>std err</th>      <th>t</th>      <th>P>|t|</th>  <th>[0.025</th>    <th>0.975]</th>  \n",
              "</tr>\n",
              "<tr>\n",
              "  <th>const</th>                <td>-9.452e+06</td> <td>  5.4e+06</td> <td>   -1.752</td> <td> 0.099</td> <td>-2.09e+07</td> <td> 1.99e+06</td>\n",
              "</tr>\n",
              "<tr>\n",
              "  <th>House Size (sq.ft.)</th>  <td>  341.8271</td> <td>  179.666</td> <td>    1.903</td> <td> 0.075</td> <td>  -39.049</td> <td>  722.703</td>\n",
              "</tr>\n",
              "<tr>\n",
              "  <th>Number of Rooms</th>      <td>  1.16e+04</td> <td> 3.74e+04</td> <td>    0.310</td> <td> 0.760</td> <td>-6.77e+04</td> <td> 9.08e+04</td>\n",
              "</tr>\n",
              "<tr>\n",
              "  <th>Year of Construction</th> <td> 4863.5761</td> <td> 2697.969</td> <td>    1.803</td> <td> 0.090</td> <td> -855.862</td> <td> 1.06e+04</td>\n",
              "</tr>\n",
              "</table>\n",
              "<table class=\"simpletable\">\n",
              "<tr>\n",
              "  <th>Omnibus:</th>       <td> 2.140</td> <th>  Durbin-Watson:     </th> <td>   1.938</td>\n",
              "</tr>\n",
              "<tr>\n",
              "  <th>Prob(Omnibus):</th> <td> 0.343</td> <th>  Jarque-Bera (JB):  </th> <td>   1.747</td>\n",
              "</tr>\n",
              "<tr>\n",
              "  <th>Skew:</th>          <td>-0.676</td> <th>  Prob(JB):          </th> <td>   0.418</td>\n",
              "</tr>\n",
              "<tr>\n",
              "  <th>Kurtosis:</th>      <td> 2.484</td> <th>  Cond. No.          </th> <td>5.40e+05</td>\n",
              "</tr>\n",
              "</table><br/><br/>Warnings:<br/>[1] Standard Errors assume that the covariance matrix of the errors is correctly specified.<br/>[2] The condition number is large, 5.4e+05. This might indicate that there are<br/>strong multicollinearity or other numerical problems."
            ],
            "text/plain": [
              "<class 'statsmodels.iolib.summary.Summary'>\n",
              "\"\"\"\n",
              "                            OLS Regression Results                            \n",
              "==============================================================================\n",
              "Dep. Variable:            House Price   R-squared:                       0.736\n",
              "Model:                            OLS   Adj. R-squared:                  0.687\n",
              "Method:                 Least Squares   F-statistic:                     14.90\n",
              "Date:                Tue, 12 May 2020   Prob (F-statistic):           6.82e-05\n",
              "Time:                        14:31:15   Log-Likelihood:                -258.43\n",
              "No. Observations:                  20   AIC:                             524.9\n",
              "Df Residuals:                      16   BIC:                             528.9\n",
              "Df Model:                           3                                         \n",
              "Covariance Type:            nonrobust                                         \n",
              "========================================================================================\n",
              "                           coef    std err          t      P>|t|      [0.025      0.975]\n",
              "----------------------------------------------------------------------------------------\n",
              "const                -9.452e+06    5.4e+06     -1.752      0.099   -2.09e+07    1.99e+06\n",
              "House Size (sq.ft.)    341.8271    179.666      1.903      0.075     -39.049     722.703\n",
              "Number of Rooms        1.16e+04   3.74e+04      0.310      0.760   -6.77e+04    9.08e+04\n",
              "Year of Construction  4863.5761   2697.969      1.803      0.090    -855.862    1.06e+04\n",
              "==============================================================================\n",
              "Omnibus:                        2.140   Durbin-Watson:                   1.938\n",
              "Prob(Omnibus):                  0.343   Jarque-Bera (JB):                1.747\n",
              "Skew:                          -0.676   Prob(JB):                        0.418\n",
              "Kurtosis:                       2.484   Cond. No.                     5.40e+05\n",
              "==============================================================================\n",
              "\n",
              "Warnings:\n",
              "[1] Standard Errors assume that the covariance matrix of the errors is correctly specified.\n",
              "[2] The condition number is large, 5.4e+05. This might indicate that there are\n",
              "strong multicollinearity or other numerical problems.\n",
              "\"\"\""
            ]
          },
          "metadata": {
            "tags": []
          },
          "execution_count": 5
        }
      ]
    },
    {
      "cell_type": "markdown",
      "metadata": {
        "id": "hU86OcTbONIe",
        "colab_type": "text"
      },
      "source": [
        "## Variáveis Independentes: \"House Size(sq.ft.)\", \"Number of Rooms\""
      ]
    },
    {
      "cell_type": "code",
      "metadata": {
        "id": "RFVXXXHmL1pC",
        "colab_type": "code",
        "colab": {}
      },
      "source": [
        "X = data[['House Size (sq.ft.)', 'Number of Rooms']]\n",
        "Y = data['House Price']"
      ],
      "execution_count": 0,
      "outputs": []
    },
    {
      "cell_type": "code",
      "metadata": {
        "id": "jIleY50sL1kZ",
        "colab_type": "code",
        "colab": {
          "base_uri": "https://localhost:8080/",
          "height": 499
        },
        "outputId": "20defb19-a750-48f5-9970-02329ffa6e17"
      },
      "source": [
        "X1 = sm.add_constant(X)\n",
        "reg = sm.OLS(Y, X1).fit()\n",
        "reg.summary()"
      ],
      "execution_count": 7,
      "outputs": [
        {
          "output_type": "execute_result",
          "data": {
            "text/html": [
              "<table class=\"simpletable\">\n",
              "<caption>OLS Regression Results</caption>\n",
              "<tr>\n",
              "  <th>Dep. Variable:</th>       <td>House Price</td>   <th>  R-squared:         </th> <td>   0.683</td>\n",
              "</tr>\n",
              "<tr>\n",
              "  <th>Model:</th>                   <td>OLS</td>       <th>  Adj. R-squared:    </th> <td>   0.645</td>\n",
              "</tr>\n",
              "<tr>\n",
              "  <th>Method:</th>             <td>Least Squares</td>  <th>  F-statistic:       </th> <td>   18.30</td>\n",
              "</tr>\n",
              "<tr>\n",
              "  <th>Date:</th>             <td>Tue, 12 May 2020</td> <th>  Prob (F-statistic):</th> <td>5.77e-05</td>\n",
              "</tr>\n",
              "<tr>\n",
              "  <th>Time:</th>                 <td>14:31:15</td>     <th>  Log-Likelihood:    </th> <td> -260.28</td>\n",
              "</tr>\n",
              "<tr>\n",
              "  <th>No. Observations:</th>      <td>    20</td>      <th>  AIC:               </th> <td>   526.6</td>\n",
              "</tr>\n",
              "<tr>\n",
              "  <th>Df Residuals:</th>          <td>    17</td>      <th>  BIC:               </th> <td>   529.6</td>\n",
              "</tr>\n",
              "<tr>\n",
              "  <th>Df Model:</th>              <td>     2</td>      <th>                     </th>     <td> </td>   \n",
              "</tr>\n",
              "<tr>\n",
              "  <th>Covariance Type:</th>      <td>nonrobust</td>    <th>                     </th>     <td> </td>   \n",
              "</tr>\n",
              "</table>\n",
              "<table class=\"simpletable\">\n",
              "<tr>\n",
              "           <td></td>              <th>coef</th>     <th>std err</th>      <th>t</th>      <th>P>|t|</th>  <th>[0.025</th>    <th>0.975]</th>  \n",
              "</tr>\n",
              "<tr>\n",
              "  <th>const</th>               <td> 2.737e+05</td> <td> 1.03e+05</td> <td>    2.655</td> <td> 0.017</td> <td> 5.62e+04</td> <td> 4.91e+05</td>\n",
              "</tr>\n",
              "<tr>\n",
              "  <th>House Size (sq.ft.)</th> <td>  314.1363</td> <td>  190.485</td> <td>    1.649</td> <td> 0.117</td> <td>  -87.752</td> <td>  716.025</td>\n",
              "</tr>\n",
              "<tr>\n",
              "  <th>Number of Rooms</th>     <td> 1.944e+04</td> <td> 3.95e+04</td> <td>    0.492</td> <td> 0.629</td> <td>-6.39e+04</td> <td> 1.03e+05</td>\n",
              "</tr>\n",
              "</table>\n",
              "<table class=\"simpletable\">\n",
              "<tr>\n",
              "  <th>Omnibus:</th>       <td> 1.326</td> <th>  Durbin-Watson:     </th> <td>   1.852</td>\n",
              "</tr>\n",
              "<tr>\n",
              "  <th>Prob(Omnibus):</th> <td> 0.515</td> <th>  Jarque-Bera (JB):  </th> <td>   0.810</td>\n",
              "</tr>\n",
              "<tr>\n",
              "  <th>Skew:</th>          <td>-0.487</td> <th>  Prob(JB):          </th> <td>   0.667</td>\n",
              "</tr>\n",
              "<tr>\n",
              "  <th>Kurtosis:</th>      <td> 2.853</td> <th>  Cond. No.          </th> <td>5.89e+03</td>\n",
              "</tr>\n",
              "</table><br/><br/>Warnings:<br/>[1] Standard Errors assume that the covariance matrix of the errors is correctly specified.<br/>[2] The condition number is large, 5.89e+03. This might indicate that there are<br/>strong multicollinearity or other numerical problems."
            ],
            "text/plain": [
              "<class 'statsmodels.iolib.summary.Summary'>\n",
              "\"\"\"\n",
              "                            OLS Regression Results                            \n",
              "==============================================================================\n",
              "Dep. Variable:            House Price   R-squared:                       0.683\n",
              "Model:                            OLS   Adj. R-squared:                  0.645\n",
              "Method:                 Least Squares   F-statistic:                     18.30\n",
              "Date:                Tue, 12 May 2020   Prob (F-statistic):           5.77e-05\n",
              "Time:                        14:31:15   Log-Likelihood:                -260.28\n",
              "No. Observations:                  20   AIC:                             526.6\n",
              "Df Residuals:                      17   BIC:                             529.6\n",
              "Df Model:                           2                                         \n",
              "Covariance Type:            nonrobust                                         \n",
              "=======================================================================================\n",
              "                          coef    std err          t      P>|t|      [0.025      0.975]\n",
              "---------------------------------------------------------------------------------------\n",
              "const                2.737e+05   1.03e+05      2.655      0.017    5.62e+04    4.91e+05\n",
              "House Size (sq.ft.)   314.1363    190.485      1.649      0.117     -87.752     716.025\n",
              "Number of Rooms      1.944e+04   3.95e+04      0.492      0.629   -6.39e+04    1.03e+05\n",
              "==============================================================================\n",
              "Omnibus:                        1.326   Durbin-Watson:                   1.852\n",
              "Prob(Omnibus):                  0.515   Jarque-Bera (JB):                0.810\n",
              "Skew:                          -0.487   Prob(JB):                        0.667\n",
              "Kurtosis:                       2.853   Cond. No.                     5.89e+03\n",
              "==============================================================================\n",
              "\n",
              "Warnings:\n",
              "[1] Standard Errors assume that the covariance matrix of the errors is correctly specified.\n",
              "[2] The condition number is large, 5.89e+03. This might indicate that there are\n",
              "strong multicollinearity or other numerical problems.\n",
              "\"\"\""
            ]
          },
          "metadata": {
            "tags": []
          },
          "execution_count": 7
        }
      ]
    },
    {
      "cell_type": "markdown",
      "metadata": {
        "id": "Z-1pbM5GO9-q",
        "colab_type": "text"
      },
      "source": [
        "## \n",
        "Variáveis Independentes: \"House Size(sq.ft.)\", \"Year of Construction\""
      ]
    },
    {
      "cell_type": "code",
      "metadata": {
        "id": "QAmThhUJL1W0",
        "colab_type": "code",
        "colab": {}
      },
      "source": [
        "X = data[['House Size (sq.ft.)', 'Year of Construction']]\n",
        "Y = data ['House Price']"
      ],
      "execution_count": 0,
      "outputs": []
    },
    {
      "cell_type": "code",
      "metadata": {
        "id": "N4JeBA9NPbAl",
        "colab_type": "code",
        "colab": {
          "base_uri": "https://localhost:8080/",
          "height": 499
        },
        "outputId": "eaaeade0-ff0d-4fa6-e64d-01f181ddae8b"
      },
      "source": [
        "X1 = sm.add_constant(X)\n",
        "reg = sm.OLS(Y, X1).fit()\n",
        "reg.summary()"
      ],
      "execution_count": 9,
      "outputs": [
        {
          "output_type": "execute_result",
          "data": {
            "text/html": [
              "<table class=\"simpletable\">\n",
              "<caption>OLS Regression Results</caption>\n",
              "<tr>\n",
              "  <th>Dep. Variable:</th>       <td>House Price</td>   <th>  R-squared:         </th> <td>   0.735</td>\n",
              "</tr>\n",
              "<tr>\n",
              "  <th>Model:</th>                   <td>OLS</td>       <th>  Adj. R-squared:    </th> <td>   0.704</td>\n",
              "</tr>\n",
              "<tr>\n",
              "  <th>Method:</th>             <td>Least Squares</td>  <th>  F-statistic:       </th> <td>   23.55</td>\n",
              "</tr>\n",
              "<tr>\n",
              "  <th>Date:</th>             <td>Tue, 12 May 2020</td> <th>  Prob (F-statistic):</th> <td>1.26e-05</td>\n",
              "</tr>\n",
              "<tr>\n",
              "  <th>Time:</th>                 <td>14:31:15</td>     <th>  Log-Likelihood:    </th> <td> -258.49</td>\n",
              "</tr>\n",
              "<tr>\n",
              "  <th>No. Observations:</th>      <td>    20</td>      <th>  AIC:               </th> <td>   523.0</td>\n",
              "</tr>\n",
              "<tr>\n",
              "  <th>Df Residuals:</th>          <td>    17</td>      <th>  BIC:               </th> <td>   526.0</td>\n",
              "</tr>\n",
              "<tr>\n",
              "  <th>Df Model:</th>              <td>     2</td>      <th>                     </th>     <td> </td>   \n",
              "</tr>\n",
              "<tr>\n",
              "  <th>Covariance Type:</th>      <td>nonrobust</td>    <th>                     </th>     <td> </td>   \n",
              "</tr>\n",
              "</table>\n",
              "<table class=\"simpletable\">\n",
              "<tr>\n",
              "            <td></td>              <th>coef</th>     <th>std err</th>      <th>t</th>      <th>P>|t|</th>  <th>[0.025</th>    <th>0.975]</th>  \n",
              "</tr>\n",
              "<tr>\n",
              "  <th>const</th>                <td>-9.654e+06</td> <td> 5.21e+06</td> <td>   -1.852</td> <td> 0.081</td> <td>-2.07e+07</td> <td> 1.34e+06</td>\n",
              "</tr>\n",
              "<tr>\n",
              "  <th>House Size (sq.ft.)</th>  <td>  394.0417</td> <td>   61.098</td> <td>    6.449</td> <td> 0.000</td> <td>  265.137</td> <td>  522.947</td>\n",
              "</tr>\n",
              "<tr>\n",
              "  <th>Year of Construction</th> <td> 4960.9407</td> <td> 2607.443</td> <td>    1.903</td> <td> 0.074</td> <td> -540.283</td> <td> 1.05e+04</td>\n",
              "</tr>\n",
              "</table>\n",
              "<table class=\"simpletable\">\n",
              "<tr>\n",
              "  <th>Omnibus:</th>       <td> 2.064</td> <th>  Durbin-Watson:     </th> <td>   1.926</td>\n",
              "</tr>\n",
              "<tr>\n",
              "  <th>Prob(Omnibus):</th> <td> 0.356</td> <th>  Jarque-Bera (JB):  </th> <td>   1.689</td>\n",
              "</tr>\n",
              "<tr>\n",
              "  <th>Skew:</th>          <td>-0.663</td> <th>  Prob(JB):          </th> <td>   0.430</td>\n",
              "</tr>\n",
              "<tr>\n",
              "  <th>Kurtosis:</th>      <td> 2.480</td> <th>  Cond. No.          </th> <td>5.36e+05</td>\n",
              "</tr>\n",
              "</table><br/><br/>Warnings:<br/>[1] Standard Errors assume that the covariance matrix of the errors is correctly specified.<br/>[2] The condition number is large, 5.36e+05. This might indicate that there are<br/>strong multicollinearity or other numerical problems."
            ],
            "text/plain": [
              "<class 'statsmodels.iolib.summary.Summary'>\n",
              "\"\"\"\n",
              "                            OLS Regression Results                            \n",
              "==============================================================================\n",
              "Dep. Variable:            House Price   R-squared:                       0.735\n",
              "Model:                            OLS   Adj. R-squared:                  0.704\n",
              "Method:                 Least Squares   F-statistic:                     23.55\n",
              "Date:                Tue, 12 May 2020   Prob (F-statistic):           1.26e-05\n",
              "Time:                        14:31:15   Log-Likelihood:                -258.49\n",
              "No. Observations:                  20   AIC:                             523.0\n",
              "Df Residuals:                      17   BIC:                             526.0\n",
              "Df Model:                           2                                         \n",
              "Covariance Type:            nonrobust                                         \n",
              "========================================================================================\n",
              "                           coef    std err          t      P>|t|      [0.025      0.975]\n",
              "----------------------------------------------------------------------------------------\n",
              "const                -9.654e+06   5.21e+06     -1.852      0.081   -2.07e+07    1.34e+06\n",
              "House Size (sq.ft.)    394.0417     61.098      6.449      0.000     265.137     522.947\n",
              "Year of Construction  4960.9407   2607.443      1.903      0.074    -540.283    1.05e+04\n",
              "==============================================================================\n",
              "Omnibus:                        2.064   Durbin-Watson:                   1.926\n",
              "Prob(Omnibus):                  0.356   Jarque-Bera (JB):                1.689\n",
              "Skew:                          -0.663   Prob(JB):                        0.430\n",
              "Kurtosis:                       2.480   Cond. No.                     5.36e+05\n",
              "==============================================================================\n",
              "\n",
              "Warnings:\n",
              "[1] Standard Errors assume that the covariance matrix of the errors is correctly specified.\n",
              "[2] The condition number is large, 5.36e+05. This might indicate that there are\n",
              "strong multicollinearity or other numerical problems.\n",
              "\"\"\""
            ]
          },
          "metadata": {
            "tags": []
          },
          "execution_count": 9
        }
      ]
    },
    {
      "cell_type": "markdown",
      "metadata": {
        "id": "a-p3VaSwPwOq",
        "colab_type": "text"
      },
      "source": [
        "## Variáveis Independentes: \"Number of Rooms\",  \"Year of Construction\""
      ]
    },
    {
      "cell_type": "code",
      "metadata": {
        "id": "P4kPtVCPPbkD",
        "colab_type": "code",
        "colab": {}
      },
      "source": [
        "X = data[['Number of Rooms', 'Year of Construction']]\n",
        "Y = data['House Price']"
      ],
      "execution_count": 0,
      "outputs": []
    },
    {
      "cell_type": "code",
      "metadata": {
        "id": "LmcfX3oMQGVQ",
        "colab_type": "code",
        "colab": {
          "base_uri": "https://localhost:8080/",
          "height": 499
        },
        "outputId": "cd09c4c8-f2ea-4f94-dc70-87df35cf4451"
      },
      "source": [
        "X1 = sm.add_constant(X)\n",
        "reg = sm.OLS(Y, X1).fit()\n",
        "\n",
        "reg.summary()"
      ],
      "execution_count": 11,
      "outputs": [
        {
          "output_type": "execute_result",
          "data": {
            "text/html": [
              "<table class=\"simpletable\">\n",
              "<caption>OLS Regression Results</caption>\n",
              "<tr>\n",
              "  <th>Dep. Variable:</th>       <td>House Price</td>   <th>  R-squared:         </th> <td>   0.677</td>\n",
              "</tr>\n",
              "<tr>\n",
              "  <th>Model:</th>                   <td>OLS</td>       <th>  Adj. R-squared:    </th> <td>   0.639</td>\n",
              "</tr>\n",
              "<tr>\n",
              "  <th>Method:</th>             <td>Least Squares</td>  <th>  F-statistic:       </th> <td>   17.79</td>\n",
              "</tr>\n",
              "<tr>\n",
              "  <th>Date:</th>             <td>Tue, 12 May 2020</td> <th>  Prob (F-statistic):</th> <td>6.79e-05</td>\n",
              "</tr>\n",
              "<tr>\n",
              "  <th>Time:</th>                 <td>14:31:15</td>     <th>  Log-Likelihood:    </th> <td> -260.47</td>\n",
              "</tr>\n",
              "<tr>\n",
              "  <th>No. Observations:</th>      <td>    20</td>      <th>  AIC:               </th> <td>   526.9</td>\n",
              "</tr>\n",
              "<tr>\n",
              "  <th>Df Residuals:</th>          <td>    17</td>      <th>  BIC:               </th> <td>   529.9</td>\n",
              "</tr>\n",
              "<tr>\n",
              "  <th>Df Model:</th>              <td>     2</td>      <th>                     </th>     <td> </td>   \n",
              "</tr>\n",
              "<tr>\n",
              "  <th>Covariance Type:</th>      <td>nonrobust</td>    <th>                     </th>     <td> </td>   \n",
              "</tr>\n",
              "</table>\n",
              "<table class=\"simpletable\">\n",
              "<tr>\n",
              "            <td></td>              <th>coef</th>     <th>std err</th>      <th>t</th>      <th>P>|t|</th>  <th>[0.025</th>    <th>0.975]</th>  \n",
              "</tr>\n",
              "<tr>\n",
              "  <th>const</th>                <td>-8.471e+06</td> <td> 5.77e+06</td> <td>   -1.468</td> <td> 0.160</td> <td>-2.06e+07</td> <td>  3.7e+06</td>\n",
              "</tr>\n",
              "<tr>\n",
              "  <th>Number of Rooms</th>      <td> 7.824e+04</td> <td>  1.4e+04</td> <td>    5.574</td> <td> 0.000</td> <td> 4.86e+04</td> <td> 1.08e+05</td>\n",
              "</tr>\n",
              "<tr>\n",
              "  <th>Year of Construction</th> <td> 4424.7160</td> <td> 2887.793</td> <td>    1.532</td> <td> 0.144</td> <td>-1667.996</td> <td> 1.05e+04</td>\n",
              "</tr>\n",
              "</table>\n",
              "<table class=\"simpletable\">\n",
              "<tr>\n",
              "  <th>Omnibus:</th>       <td> 2.115</td> <th>  Durbin-Watson:     </th> <td>   1.959</td>\n",
              "</tr>\n",
              "<tr>\n",
              "  <th>Prob(Omnibus):</th> <td> 0.347</td> <th>  Jarque-Bera (JB):  </th> <td>   1.400</td>\n",
              "</tr>\n",
              "<tr>\n",
              "  <th>Skew:</th>          <td>-0.407</td> <th>  Prob(JB):          </th> <td>   0.497</td>\n",
              "</tr>\n",
              "<tr>\n",
              "  <th>Kurtosis:</th>      <td> 1.991</td> <th>  Cond. No.          </th> <td>4.34e+05</td>\n",
              "</tr>\n",
              "</table><br/><br/>Warnings:<br/>[1] Standard Errors assume that the covariance matrix of the errors is correctly specified.<br/>[2] The condition number is large, 4.34e+05. This might indicate that there are<br/>strong multicollinearity or other numerical problems."
            ],
            "text/plain": [
              "<class 'statsmodels.iolib.summary.Summary'>\n",
              "\"\"\"\n",
              "                            OLS Regression Results                            \n",
              "==============================================================================\n",
              "Dep. Variable:            House Price   R-squared:                       0.677\n",
              "Model:                            OLS   Adj. R-squared:                  0.639\n",
              "Method:                 Least Squares   F-statistic:                     17.79\n",
              "Date:                Tue, 12 May 2020   Prob (F-statistic):           6.79e-05\n",
              "Time:                        14:31:15   Log-Likelihood:                -260.47\n",
              "No. Observations:                  20   AIC:                             526.9\n",
              "Df Residuals:                      17   BIC:                             529.9\n",
              "Df Model:                           2                                         \n",
              "Covariance Type:            nonrobust                                         \n",
              "========================================================================================\n",
              "                           coef    std err          t      P>|t|      [0.025      0.975]\n",
              "----------------------------------------------------------------------------------------\n",
              "const                -8.471e+06   5.77e+06     -1.468      0.160   -2.06e+07     3.7e+06\n",
              "Number of Rooms       7.824e+04    1.4e+04      5.574      0.000    4.86e+04    1.08e+05\n",
              "Year of Construction  4424.7160   2887.793      1.532      0.144   -1667.996    1.05e+04\n",
              "==============================================================================\n",
              "Omnibus:                        2.115   Durbin-Watson:                   1.959\n",
              "Prob(Omnibus):                  0.347   Jarque-Bera (JB):                1.400\n",
              "Skew:                          -0.407   Prob(JB):                        0.497\n",
              "Kurtosis:                       1.991   Cond. No.                     4.34e+05\n",
              "==============================================================================\n",
              "\n",
              "Warnings:\n",
              "[1] Standard Errors assume that the covariance matrix of the errors is correctly specified.\n",
              "[2] The condition number is large, 4.34e+05. This might indicate that there are\n",
              "strong multicollinearity or other numerical problems.\n",
              "\"\"\""
            ]
          },
          "metadata": {
            "tags": []
          },
          "execution_count": 11
        }
      ]
    }
  ]
}