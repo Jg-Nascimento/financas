{
  "nbformat": 4,
  "nbformat_minor": 0,
  "metadata": {
    "colab": {
      "name": "cálculo do beta.ipynb",
      "provenance": [],
      "authorship_tag": "ABX9TyM7SggSBfo4ixknVjvEJYq3",
      "include_colab_link": true
    },
    "kernelspec": {
      "name": "python3",
      "display_name": "Python 3"
    }
  },
  "cells": [
    {
      "cell_type": "markdown",
      "metadata": {
        "id": "view-in-github",
        "colab_type": "text"
      },
      "source": [
        "<a href=\"https://colab.research.google.com/github/jorgetstechnology/financas/blob/master/c%C3%A1lculo_do_beta.ipynb\" target=\"_parent\"><img src=\"https://colab.research.google.com/assets/colab-badge.svg\" alt=\"Open In Colab\"/></a>"
      ]
    },
    {
      "cell_type": "markdown",
      "metadata": {
        "id": "KV3Dxmc6laDW",
        "colab_type": "text"
      },
      "source": [
        "# **Calculando o Beta de uma Ação**"
      ]
    },
    {
      "cell_type": "code",
      "metadata": {
        "id": "aFYz4bxPmWd8",
        "colab_type": "code",
        "colab": {}
      },
      "source": [
        "sec_returns = np.log(data / data.shift(1) )"
      ],
      "execution_count": 0,
      "outputs": []
    },
    {
      "cell_type": "code",
      "metadata": {
        "id": "41OP-OqwlXXQ",
        "colab_type": "code",
        "outputId": "9d62bfe0-98d9-4632-edaa-2a4871d18f59",
        "colab": {
          "base_uri": "https://localhost:8080/",
          "height": 71
        }
      },
      "source": [
        "#bibliotecas\n",
        "import numpy as np\n",
        "import pandas as pd\n",
        "from pandas_datareader import data as wb\n",
        "\n",
        "#ações\n",
        "tickers = ['PG',  '^GSPC']\n",
        "data = pd.DataFrame()\n",
        "for t in tickers:\n",
        "  data[t] = wb.DataReader(t, data_source = 'yahoo', start='2012-1-1', end='2016-12-31')['Adj Close']"
      ],
      "execution_count": 0,
      "outputs": [
        {
          "output_type": "stream",
          "text": [
            "/usr/local/lib/python3.6/dist-packages/pandas_datareader/compat/__init__.py:7: FutureWarning: pandas.util.testing is deprecated. Use the functions in the public API at pandas.testing instead.\n",
            "  from pandas.util.testing import assert_frame_equal\n"
          ],
          "name": "stderr"
        }
      ]
    },
    {
      "cell_type": "code",
      "metadata": {
        "id": "RcOur9sYmW5l",
        "colab_type": "code",
        "outputId": "7d5b9835-6984-429a-abd2-830e9740e8c9",
        "colab": {
          "base_uri": "https://localhost:8080/",
          "height": 111
        }
      },
      "source": [
        "cov = sec_returns.cov() * 250\n",
        "cov"
      ],
      "execution_count": 0,
      "outputs": [
        {
          "output_type": "execute_result",
          "data": {
            "text/html": [
              "<div>\n",
              "<style scoped>\n",
              "    .dataframe tbody tr th:only-of-type {\n",
              "        vertical-align: middle;\n",
              "    }\n",
              "\n",
              "    .dataframe tbody tr th {\n",
              "        vertical-align: top;\n",
              "    }\n",
              "\n",
              "    .dataframe thead th {\n",
              "        text-align: right;\n",
              "    }\n",
              "</style>\n",
              "<table border=\"1\" class=\"dataframe\">\n",
              "  <thead>\n",
              "    <tr style=\"text-align: right;\">\n",
              "      <th></th>\n",
              "      <th>PG</th>\n",
              "      <th>^GSPC</th>\n",
              "    </tr>\n",
              "  </thead>\n",
              "  <tbody>\n",
              "    <tr>\n",
              "      <th>PG</th>\n",
              "      <td>0.020409</td>\n",
              "      <td>0.010078</td>\n",
              "    </tr>\n",
              "    <tr>\n",
              "      <th>^GSPC</th>\n",
              "      <td>0.010078</td>\n",
              "      <td>0.016362</td>\n",
              "    </tr>\n",
              "  </tbody>\n",
              "</table>\n",
              "</div>"
            ],
            "text/plain": [
              "             PG     ^GSPC\n",
              "PG     0.020409  0.010078\n",
              "^GSPC  0.010078  0.016362"
            ]
          },
          "metadata": {
            "tags": []
          },
          "execution_count": 5
        }
      ]
    },
    {
      "cell_type": "code",
      "metadata": {
        "id": "KEzXKafimXJZ",
        "colab_type": "code",
        "outputId": "f4bb00da-f395-43bd-f48b-df3569027e88",
        "colab": {
          "base_uri": "https://localhost:8080/",
          "height": 34
        }
      },
      "source": [
        "cov_with_market = cov.iloc[0, 1]\n",
        "cov_with_market"
      ],
      "execution_count": 0,
      "outputs": [
        {
          "output_type": "execute_result",
          "data": {
            "text/plain": [
              "0.010078059690552367"
            ]
          },
          "metadata": {
            "tags": []
          },
          "execution_count": 6
        }
      ]
    },
    {
      "cell_type": "code",
      "metadata": {
        "id": "M1LPOkf2mXjz",
        "colab_type": "code",
        "outputId": "7cb43fee-5c56-4c1f-debe-d41cb7e6a754",
        "colab": {
          "base_uri": "https://localhost:8080/",
          "height": 34
        }
      },
      "source": [
        "market_var = sec_returns['^GSPC'].var() * 250\n",
        "market_var"
      ],
      "execution_count": 0,
      "outputs": [
        {
          "output_type": "execute_result",
          "data": {
            "text/plain": [
              "0.016361631002308474"
            ]
          },
          "metadata": {
            "tags": []
          },
          "execution_count": 7
        }
      ]
    },
    {
      "cell_type": "markdown",
      "metadata": {
        "id": "hjHWPx4Kq6Rk",
        "colab_type": "text"
      },
      "source": [
        "# **Beta**"
      ]
    },
    {
      "cell_type": "markdown",
      "metadata": {
        "id": "5Xnhk_Env4LY",
        "colab_type": "text"
      },
      "source": [
        "![alt text](https://raw.githubusercontent.com/jorgetstechnology/financas/master/equa%C3%A7%C3%A3o%20Beta.png)"
      ]
    },
    {
      "cell_type": "code",
      "metadata": {
        "id": "KWGv5UVAmXuV",
        "colab_type": "code",
        "outputId": "0a312509-abd9-46fa-e149-13edff85a606",
        "colab": {
          "base_uri": "https://localhost:8080/",
          "height": 34
        }
      },
      "source": [
        "#coeficiente da variância / varianância\n",
        "PG_beta = cov_with_market / market_var\n",
        "PG_beta"
      ],
      "execution_count": 0,
      "outputs": [
        {
          "output_type": "execute_result",
          "data": {
            "text/plain": [
              "0.6159569109662996"
            ]
          },
          "metadata": {
            "tags": []
          },
          "execution_count": 8
        }
      ]
    },
    {
      "cell_type": "markdown",
      "metadata": {
        "id": "ImljvUYlx6Xf",
        "colab_type": "text"
      },
      "source": [
        "# **Cálculo da expectativa de Retorno**"
      ]
    },
    {
      "cell_type": "markdown",
      "metadata": {
        "id": "2CPMUFMTzFo4",
        "colab_type": "text"
      },
      "source": [
        "![alt text](https://raw.githubusercontent.com/jorgetstechnology/financas/master/CAPM.png)"
      ]
    },
    {
      "cell_type": "code",
      "metadata": {
        "id": "Brc1tSB1x81Y",
        "colab_type": "code",
        "colab": {
          "base_uri": "https://localhost:8080/",
          "height": 34
        },
        "outputId": "26ff084b-5295-49b8-bd61-f3aaabd66e40"
      },
      "source": [
        "PG_er = 0.025 + PG_beta * 0.05\n",
        "PG_er"
      ],
      "execution_count": 9,
      "outputs": [
        {
          "output_type": "execute_result",
          "data": {
            "text/plain": [
              "0.05579784554831498"
            ]
          },
          "metadata": {
            "tags": []
          },
          "execution_count": 9
        }
      ]
    }
  ]
}