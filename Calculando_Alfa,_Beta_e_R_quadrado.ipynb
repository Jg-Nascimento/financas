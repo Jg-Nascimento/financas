{
  "nbformat": 4,
  "nbformat_minor": 0,
  "metadata": {
    "colab": {
      "name": "Calculando Alfa, Beta e R quadrado.ipynb",
      "provenance": [],
      "mount_file_id": "1JpiMEGYSLDyKYNbiug8NJ09Zk-8E5ceN",
      "authorship_tag": "ABX9TyPgwUCfk3WsujkY0w508j5j",
      "include_colab_link": true
    },
    "kernelspec": {
      "name": "python3",
      "display_name": "Python 3"
    }
  },
  "cells": [
    {
      "cell_type": "markdown",
      "metadata": {
        "id": "view-in-github",
        "colab_type": "text"
      },
      "source": [
        "<a href=\"https://colab.research.google.com/github/jorgetstechnology/financas/blob/master/Calculando_Alfa%2C_Beta_e_R_quadrado.ipynb\" target=\"_parent\"><img src=\"https://colab.research.google.com/assets/colab-badge.svg\" alt=\"Open In Colab\"/></a>"
      ]
    },
    {
      "cell_type": "markdown",
      "metadata": {
        "id": "6pqAn6GrZ66g",
        "colab_type": "text"
      },
      "source": [
        "https://www.dropbox.com/home?preview=Housing.xlsx"
      ]
    },
    {
      "cell_type": "code",
      "metadata": {
        "id": "ltKsqBwOYJIJ",
        "colab_type": "code",
        "colab": {}
      },
      "source": [
        "import numpy as np\n",
        "import pandas as pd\n",
        "\n",
        "from scipy import stats\n",
        "import statsmodels.api as sm\n",
        "\n",
        "import matplotlib.pyplot as plt"
      ],
      "execution_count": 0,
      "outputs": []
    },
    {
      "cell_type": "code",
      "metadata": {
        "id": "uyebfaWQbQGS",
        "colab_type": "code",
        "colab": {
          "base_uri": "https://localhost:8080/",
          "height": 669
        },
        "outputId": "93b865a0-06dc-4256-83a9-59eec84f6a74"
      },
      "source": [
        "data = pd.read_excel('Housing.xlsx')\n",
        "data"
      ],
      "execution_count": 5,
      "outputs": [
        {
          "output_type": "execute_result",
          "data": {
            "text/html": [
              "<div>\n",
              "<style scoped>\n",
              "    .dataframe tbody tr th:only-of-type {\n",
              "        vertical-align: middle;\n",
              "    }\n",
              "\n",
              "    .dataframe tbody tr th {\n",
              "        vertical-align: top;\n",
              "    }\n",
              "\n",
              "    .dataframe thead th {\n",
              "        text-align: right;\n",
              "    }\n",
              "</style>\n",
              "<table border=\"1\" class=\"dataframe\">\n",
              "  <thead>\n",
              "    <tr style=\"text-align: right;\">\n",
              "      <th></th>\n",
              "      <th>House Price</th>\n",
              "      <th>House Size (sq.ft.)</th>\n",
              "      <th>State</th>\n",
              "      <th>Number of Rooms</th>\n",
              "      <th>Year of Construction</th>\n",
              "    </tr>\n",
              "  </thead>\n",
              "  <tbody>\n",
              "    <tr>\n",
              "      <th>0</th>\n",
              "      <td>1116000</td>\n",
              "      <td>1940</td>\n",
              "      <td>IN</td>\n",
              "      <td>8</td>\n",
              "      <td>2002</td>\n",
              "    </tr>\n",
              "    <tr>\n",
              "      <th>1</th>\n",
              "      <td>860000</td>\n",
              "      <td>1300</td>\n",
              "      <td>IN</td>\n",
              "      <td>5</td>\n",
              "      <td>1992</td>\n",
              "    </tr>\n",
              "    <tr>\n",
              "      <th>2</th>\n",
              "      <td>818400</td>\n",
              "      <td>1420</td>\n",
              "      <td>IN</td>\n",
              "      <td>6</td>\n",
              "      <td>1987</td>\n",
              "    </tr>\n",
              "    <tr>\n",
              "      <th>3</th>\n",
              "      <td>1000000</td>\n",
              "      <td>1680</td>\n",
              "      <td>IN</td>\n",
              "      <td>7</td>\n",
              "      <td>2000</td>\n",
              "    </tr>\n",
              "    <tr>\n",
              "      <th>4</th>\n",
              "      <td>640000</td>\n",
              "      <td>1270</td>\n",
              "      <td>IN</td>\n",
              "      <td>5</td>\n",
              "      <td>1995</td>\n",
              "    </tr>\n",
              "    <tr>\n",
              "      <th>5</th>\n",
              "      <td>1010000</td>\n",
              "      <td>1850</td>\n",
              "      <td>IN</td>\n",
              "      <td>7</td>\n",
              "      <td>1998</td>\n",
              "    </tr>\n",
              "    <tr>\n",
              "      <th>6</th>\n",
              "      <td>600000</td>\n",
              "      <td>1000</td>\n",
              "      <td>IN</td>\n",
              "      <td>4</td>\n",
              "      <td>2015</td>\n",
              "    </tr>\n",
              "    <tr>\n",
              "      <th>7</th>\n",
              "      <td>700000</td>\n",
              "      <td>1100</td>\n",
              "      <td>LA</td>\n",
              "      <td>4</td>\n",
              "      <td>2014</td>\n",
              "    </tr>\n",
              "    <tr>\n",
              "      <th>8</th>\n",
              "      <td>1100000</td>\n",
              "      <td>1600</td>\n",
              "      <td>LA</td>\n",
              "      <td>7</td>\n",
              "      <td>2017</td>\n",
              "    </tr>\n",
              "    <tr>\n",
              "      <th>9</th>\n",
              "      <td>570000</td>\n",
              "      <td>1000</td>\n",
              "      <td>NY</td>\n",
              "      <td>5</td>\n",
              "      <td>1997</td>\n",
              "    </tr>\n",
              "    <tr>\n",
              "      <th>10</th>\n",
              "      <td>860000</td>\n",
              "      <td>2150</td>\n",
              "      <td>NY</td>\n",
              "      <td>9</td>\n",
              "      <td>1997</td>\n",
              "    </tr>\n",
              "    <tr>\n",
              "      <th>11</th>\n",
              "      <td>1085000</td>\n",
              "      <td>1900</td>\n",
              "      <td>NY</td>\n",
              "      <td>9</td>\n",
              "      <td>2000</td>\n",
              "    </tr>\n",
              "    <tr>\n",
              "      <th>12</th>\n",
              "      <td>1250000</td>\n",
              "      <td>2200</td>\n",
              "      <td>NY</td>\n",
              "      <td>9</td>\n",
              "      <td>2014</td>\n",
              "    </tr>\n",
              "    <tr>\n",
              "      <th>13</th>\n",
              "      <td>850000</td>\n",
              "      <td>1100</td>\n",
              "      <td>TX</td>\n",
              "      <td>4</td>\n",
              "      <td>2017</td>\n",
              "    </tr>\n",
              "    <tr>\n",
              "      <th>14</th>\n",
              "      <td>640000</td>\n",
              "      <td>860</td>\n",
              "      <td>TX</td>\n",
              "      <td>4</td>\n",
              "      <td>1997</td>\n",
              "    </tr>\n",
              "    <tr>\n",
              "      <th>15</th>\n",
              "      <td>900000</td>\n",
              "      <td>1325</td>\n",
              "      <td>TX</td>\n",
              "      <td>6</td>\n",
              "      <td>1997</td>\n",
              "    </tr>\n",
              "    <tr>\n",
              "      <th>16</th>\n",
              "      <td>730000</td>\n",
              "      <td>1350</td>\n",
              "      <td>TX</td>\n",
              "      <td>6</td>\n",
              "      <td>2000</td>\n",
              "    </tr>\n",
              "    <tr>\n",
              "      <th>17</th>\n",
              "      <td>750000</td>\n",
              "      <td>1600</td>\n",
              "      <td>TX</td>\n",
              "      <td>6</td>\n",
              "      <td>1992</td>\n",
              "    </tr>\n",
              "    <tr>\n",
              "      <th>18</th>\n",
              "      <td>650000</td>\n",
              "      <td>950</td>\n",
              "      <td>TX</td>\n",
              "      <td>2</td>\n",
              "      <td>1987</td>\n",
              "    </tr>\n",
              "    <tr>\n",
              "      <th>19</th>\n",
              "      <td>680000</td>\n",
              "      <td>1250</td>\n",
              "      <td>TX</td>\n",
              "      <td>4</td>\n",
              "      <td>2000</td>\n",
              "    </tr>\n",
              "  </tbody>\n",
              "</table>\n",
              "</div>"
            ],
            "text/plain": [
              "    House Price  House Size (sq.ft.)  ... Number of Rooms  Year of Construction\n",
              "0       1116000                 1940  ...               8                  2002\n",
              "1        860000                 1300  ...               5                  1992\n",
              "2        818400                 1420  ...               6                  1987\n",
              "3       1000000                 1680  ...               7                  2000\n",
              "4        640000                 1270  ...               5                  1995\n",
              "5       1010000                 1850  ...               7                  1998\n",
              "6        600000                 1000  ...               4                  2015\n",
              "7        700000                 1100  ...               4                  2014\n",
              "8       1100000                 1600  ...               7                  2017\n",
              "9        570000                 1000  ...               5                  1997\n",
              "10       860000                 2150  ...               9                  1997\n",
              "11      1085000                 1900  ...               9                  2000\n",
              "12      1250000                 2200  ...               9                  2014\n",
              "13       850000                 1100  ...               4                  2017\n",
              "14       640000                  860  ...               4                  1997\n",
              "15       900000                 1325  ...               6                  1997\n",
              "16       730000                 1350  ...               6                  2000\n",
              "17       750000                 1600  ...               6                  1992\n",
              "18       650000                  950  ...               2                  1987\n",
              "19       680000                 1250  ...               4                  2000\n",
              "\n",
              "[20 rows x 5 columns]"
            ]
          },
          "metadata": {
            "tags": []
          },
          "execution_count": 5
        }
      ]
    },
    {
      "cell_type": "code",
      "metadata": {
        "id": "ZzQNpwQZbVU3",
        "colab_type": "code",
        "colab": {
          "base_uri": "https://localhost:8080/",
          "height": 669
        },
        "outputId": "45cb455e-7f4c-4a27-f7a5-518cc01f7304"
      },
      "source": [
        "data[['House Price', 'House Size (sq.ft.)']]"
      ],
      "execution_count": 6,
      "outputs": [
        {
          "output_type": "execute_result",
          "data": {
            "text/html": [
              "<div>\n",
              "<style scoped>\n",
              "    .dataframe tbody tr th:only-of-type {\n",
              "        vertical-align: middle;\n",
              "    }\n",
              "\n",
              "    .dataframe tbody tr th {\n",
              "        vertical-align: top;\n",
              "    }\n",
              "\n",
              "    .dataframe thead th {\n",
              "        text-align: right;\n",
              "    }\n",
              "</style>\n",
              "<table border=\"1\" class=\"dataframe\">\n",
              "  <thead>\n",
              "    <tr style=\"text-align: right;\">\n",
              "      <th></th>\n",
              "      <th>House Price</th>\n",
              "      <th>House Size (sq.ft.)</th>\n",
              "    </tr>\n",
              "  </thead>\n",
              "  <tbody>\n",
              "    <tr>\n",
              "      <th>0</th>\n",
              "      <td>1116000</td>\n",
              "      <td>1940</td>\n",
              "    </tr>\n",
              "    <tr>\n",
              "      <th>1</th>\n",
              "      <td>860000</td>\n",
              "      <td>1300</td>\n",
              "    </tr>\n",
              "    <tr>\n",
              "      <th>2</th>\n",
              "      <td>818400</td>\n",
              "      <td>1420</td>\n",
              "    </tr>\n",
              "    <tr>\n",
              "      <th>3</th>\n",
              "      <td>1000000</td>\n",
              "      <td>1680</td>\n",
              "    </tr>\n",
              "    <tr>\n",
              "      <th>4</th>\n",
              "      <td>640000</td>\n",
              "      <td>1270</td>\n",
              "    </tr>\n",
              "    <tr>\n",
              "      <th>5</th>\n",
              "      <td>1010000</td>\n",
              "      <td>1850</td>\n",
              "    </tr>\n",
              "    <tr>\n",
              "      <th>6</th>\n",
              "      <td>600000</td>\n",
              "      <td>1000</td>\n",
              "    </tr>\n",
              "    <tr>\n",
              "      <th>7</th>\n",
              "      <td>700000</td>\n",
              "      <td>1100</td>\n",
              "    </tr>\n",
              "    <tr>\n",
              "      <th>8</th>\n",
              "      <td>1100000</td>\n",
              "      <td>1600</td>\n",
              "    </tr>\n",
              "    <tr>\n",
              "      <th>9</th>\n",
              "      <td>570000</td>\n",
              "      <td>1000</td>\n",
              "    </tr>\n",
              "    <tr>\n",
              "      <th>10</th>\n",
              "      <td>860000</td>\n",
              "      <td>2150</td>\n",
              "    </tr>\n",
              "    <tr>\n",
              "      <th>11</th>\n",
              "      <td>1085000</td>\n",
              "      <td>1900</td>\n",
              "    </tr>\n",
              "    <tr>\n",
              "      <th>12</th>\n",
              "      <td>1250000</td>\n",
              "      <td>2200</td>\n",
              "    </tr>\n",
              "    <tr>\n",
              "      <th>13</th>\n",
              "      <td>850000</td>\n",
              "      <td>1100</td>\n",
              "    </tr>\n",
              "    <tr>\n",
              "      <th>14</th>\n",
              "      <td>640000</td>\n",
              "      <td>860</td>\n",
              "    </tr>\n",
              "    <tr>\n",
              "      <th>15</th>\n",
              "      <td>900000</td>\n",
              "      <td>1325</td>\n",
              "    </tr>\n",
              "    <tr>\n",
              "      <th>16</th>\n",
              "      <td>730000</td>\n",
              "      <td>1350</td>\n",
              "    </tr>\n",
              "    <tr>\n",
              "      <th>17</th>\n",
              "      <td>750000</td>\n",
              "      <td>1600</td>\n",
              "    </tr>\n",
              "    <tr>\n",
              "      <th>18</th>\n",
              "      <td>650000</td>\n",
              "      <td>950</td>\n",
              "    </tr>\n",
              "    <tr>\n",
              "      <th>19</th>\n",
              "      <td>680000</td>\n",
              "      <td>1250</td>\n",
              "    </tr>\n",
              "  </tbody>\n",
              "</table>\n",
              "</div>"
            ],
            "text/plain": [
              "    House Price  House Size (sq.ft.)\n",
              "0       1116000                 1940\n",
              "1        860000                 1300\n",
              "2        818400                 1420\n",
              "3       1000000                 1680\n",
              "4        640000                 1270\n",
              "5       1010000                 1850\n",
              "6        600000                 1000\n",
              "7        700000                 1100\n",
              "8       1100000                 1600\n",
              "9        570000                 1000\n",
              "10       860000                 2150\n",
              "11      1085000                 1900\n",
              "12      1250000                 2200\n",
              "13       850000                 1100\n",
              "14       640000                  860\n",
              "15       900000                 1325\n",
              "16       730000                 1350\n",
              "17       750000                 1600\n",
              "18       650000                  950\n",
              "19       680000                 1250"
            ]
          },
          "metadata": {
            "tags": []
          },
          "execution_count": 6
        }
      ]
    },
    {
      "cell_type": "code",
      "metadata": {
        "id": "at1ThQ9SbWIV",
        "colab_type": "code",
        "colab": {}
      },
      "source": [
        "X = data['House Size (sq.ft.)']\n",
        "Y = data['House Price']"
      ],
      "execution_count": 0,
      "outputs": []
    },
    {
      "cell_type": "code",
      "metadata": {
        "id": "czQIZppfbW_W",
        "colab_type": "code",
        "colab": {
          "base_uri": "https://localhost:8080/",
          "height": 374
        },
        "outputId": "d7d9b8f3-fdee-4452-c655-03dae723e082"
      },
      "source": [
        "X"
      ],
      "execution_count": 8,
      "outputs": [
        {
          "output_type": "execute_result",
          "data": {
            "text/plain": [
              "0     1940\n",
              "1     1300\n",
              "2     1420\n",
              "3     1680\n",
              "4     1270\n",
              "5     1850\n",
              "6     1000\n",
              "7     1100\n",
              "8     1600\n",
              "9     1000\n",
              "10    2150\n",
              "11    1900\n",
              "12    2200\n",
              "13    1100\n",
              "14     860\n",
              "15    1325\n",
              "16    1350\n",
              "17    1600\n",
              "18     950\n",
              "19    1250\n",
              "Name: House Size (sq.ft.), dtype: int64"
            ]
          },
          "metadata": {
            "tags": []
          },
          "execution_count": 8
        }
      ]
    },
    {
      "cell_type": "code",
      "metadata": {
        "id": "lfGdeSX9bW3P",
        "colab_type": "code",
        "colab": {
          "base_uri": "https://localhost:8080/",
          "height": 374
        },
        "outputId": "2372e94b-e31d-4d1c-f409-fde811788452"
      },
      "source": [
        "Y"
      ],
      "execution_count": 9,
      "outputs": [
        {
          "output_type": "execute_result",
          "data": {
            "text/plain": [
              "0     1116000\n",
              "1      860000\n",
              "2      818400\n",
              "3     1000000\n",
              "4      640000\n",
              "5     1010000\n",
              "6      600000\n",
              "7      700000\n",
              "8     1100000\n",
              "9      570000\n",
              "10     860000\n",
              "11    1085000\n",
              "12    1250000\n",
              "13     850000\n",
              "14     640000\n",
              "15     900000\n",
              "16     730000\n",
              "17     750000\n",
              "18     650000\n",
              "19     680000\n",
              "Name: House Price, dtype: int64"
            ]
          },
          "metadata": {
            "tags": []
          },
          "execution_count": 9
        }
      ]
    },
    {
      "cell_type": "code",
      "metadata": {
        "id": "9cfUwW4ybWxh",
        "colab_type": "code",
        "colab": {
          "base_uri": "https://localhost:8080/",
          "height": 276
        },
        "outputId": "fb0e697f-f5c9-4545-ead0-d631fc7ae63c"
      },
      "source": [
        "#@ Preço x Tamanho\n",
        "#Gráfico de dispersão\n",
        "plt.scatter (X, Y)\n",
        "plt.show()\n"
      ],
      "execution_count": 10,
      "outputs": [
        {
          "output_type": "display_data",
          "data": {
            "image/png": "[encoded data removed]",
            "text/plain": [
              "<Figure size 432x288 with 1 Axes>"
            ]
          },
          "metadata": {
            "tags": []
          }
        }
      ]
    },
    {
      "cell_type": "code",
      "metadata": {
        "id": "5Y8GF64qbWsQ",
        "colab_type": "code",
        "colab": {
          "base_uri": "https://localhost:8080/",
          "height": 276
        },
        "outputId": "f8dca5a1-7600-4041-d1b8-42caab29c847"
      },
      "source": [
        "\n",
        "#Ajustando o Gráfico para valores maios próximos do real\n",
        "plt.scatter (X, Y)\n",
        "plt.axis([0, 2500, 0, 1500000])\n",
        "plt.show()"
      ],
      "execution_count": 13,
      "outputs": [
        {
          "output_type": "display_data",
          "data": {
            "image/png": "[encoded data removed]",
            "text/plain": [
              "<Figure size 432x288 with 1 Axes>"
            ]
          },
          "metadata": {
            "tags": []
          }
        }
      ]
    },
    {
      "cell_type": "code",
      "metadata": {
        "id": "WMc_Wd-1bWnp",
        "colab_type": "code",
        "colab": {
          "base_uri": "https://localhost:8080/",
          "height": 290
        },
        "outputId": "8138d4ae-ca4e-4aab-fbef-1d2b5f591795"
      },
      "source": [
        "plt.scatter(X, Y)\n",
        "plt.axis([0, 2500, 0, 1500000])\n",
        "plt. ylabel('House Price')#preço\n",
        "plt.xlabel('House Size (sq.ft.)')#Tamanho\n",
        "plt.show()"
      ],
      "execution_count": 14,
      "outputs": [
        {
          "output_type": "display_data",
          "data": {
            "image/png": "[encoded data removed]",
            "text/plain": [
              "<Figure size 432x288 with 1 Axes>"
            ]
          },
          "metadata": {
            "tags": []
          }
        }
      ]
    },
    {
      "cell_type": "markdown",
      "metadata": {
        "id": "vI___QcibyWO",
        "colab_type": "text"
      },
      "source": [
        "## ***`Calculando Alfa, Beta e R quadrado`***"
      ]
    },
    {
      "cell_type": "code",
      "metadata": {
        "id": "VumVJUEKbWg3",
        "colab_type": "code",
        "colab": {
          "base_uri": "https://localhost:8080/",
          "height": 71
        },
        "outputId": "31ec470d-1a62-4b02-9e88-007e0274d4d5"
      },
      "source": [
        "X1 = sm.add_constant(X)\n",
        "reg = sm.OLS(Y, X1).fit()"
      ],
      "execution_count": 18,
      "outputs": [
        {
          "output_type": "stream",
          "text": [
            "/usr/local/lib/python3.6/dist-packages/numpy/core/fromnumeric.py:2542: FutureWarning: Method .ptp is deprecated and will be removed in a future version. Use numpy.ptp instead.\n",
            "  return ptp(axis=axis, out=out, **kwargs)\n"
          ],
          "name": "stderr"
        }
      ]
    },
    {
      "cell_type": "markdown",
      "metadata": {
        "id": "38KE_xY-egjj",
        "colab_type": "text"
      },
      "source": [
        " **Resultado da Regressão OLS**"
      ]
    },
    {
      "cell_type": "code",
      "metadata": {
        "id": "Do0ulvalbWdX",
        "colab_type": "code",
        "colab": {
          "base_uri": "https://localhost:8080/",
          "height": 478
        },
        "outputId": "0a95860b-a350-4409-a5ca-bbf71ddec72e"
      },
      "source": [
        "reg.summary()"
      ],
      "execution_count": 21,
      "outputs": [
        {
          "output_type": "execute_result",
          "data": {
            "text/html": [
              "<table class=\"simpletable\">\n",
              "<caption>OLS Regression Results</caption>\n",
              "<tr>\n",
              "  <th>Dep. Variable:</th>       <td>House Price</td>   <th>  R-squared:         </th> <td>   0.678</td>\n",
              "</tr>\n",
              "<tr>\n",
              "  <th>Model:</th>                   <td>OLS</td>       <th>  Adj. R-squared:    </th> <td>   0.660</td>\n",
              "</tr>\n",
              "<tr>\n",
              "  <th>Method:</th>             <td>Least Squares</td>  <th>  F-statistic:       </th> <td>   37.95</td>\n",
              "</tr>\n",
              "<tr>\n",
              "  <th>Date:</th>             <td>Tue, 31 Mar 2020</td> <th>  Prob (F-statistic):</th> <td>8.13e-06</td>\n",
              "</tr>\n",
              "<tr>\n",
              "  <th>Time:</th>                 <td>12:06:12</td>     <th>  Log-Likelihood:    </th> <td> -260.43</td>\n",
              "</tr>\n",
              "<tr>\n",
              "  <th>No. Observations:</th>      <td>    20</td>      <th>  AIC:               </th> <td>   524.9</td>\n",
              "</tr>\n",
              "<tr>\n",
              "  <th>Df Residuals:</th>          <td>    18</td>      <th>  BIC:               </th> <td>   526.8</td>\n",
              "</tr>\n",
              "<tr>\n",
              "  <th>Df Model:</th>              <td>     1</td>      <th>                     </th>     <td> </td>   \n",
              "</tr>\n",
              "<tr>\n",
              "  <th>Covariance Type:</th>      <td>nonrobust</td>    <th>                     </th>     <td> </td>   \n",
              "</tr>\n",
              "</table>\n",
              "<table class=\"simpletable\">\n",
              "<tr>\n",
              "           <td></td>              <th>coef</th>     <th>std err</th>      <th>t</th>      <th>P>|t|</th>  <th>[0.025</th>    <th>0.975]</th>  \n",
              "</tr>\n",
              "<tr>\n",
              "  <th>const</th>               <td> 2.608e+05</td> <td> 9.76e+04</td> <td>    2.673</td> <td> 0.016</td> <td> 5.58e+04</td> <td> 4.66e+05</td>\n",
              "</tr>\n",
              "<tr>\n",
              "  <th>House Size (sq.ft.)</th> <td>  401.9163</td> <td>   65.243</td> <td>    6.160</td> <td> 0.000</td> <td>  264.846</td> <td>  538.987</td>\n",
              "</tr>\n",
              "</table>\n",
              "<table class=\"simpletable\">\n",
              "<tr>\n",
              "  <th>Omnibus:</th>       <td> 1.238</td> <th>  Durbin-Watson:     </th> <td>   1.810</td>\n",
              "</tr>\n",
              "<tr>\n",
              "  <th>Prob(Omnibus):</th> <td> 0.538</td> <th>  Jarque-Bera (JB):  </th> <td>   0.715</td>\n",
              "</tr>\n",
              "<tr>\n",
              "  <th>Skew:</th>          <td>-0.459</td> <th>  Prob(JB):          </th> <td>   0.699</td>\n",
              "</tr>\n",
              "<tr>\n",
              "  <th>Kurtosis:</th>      <td> 2.884</td> <th>  Cond. No.          </th> <td>5.66e+03</td>\n",
              "</tr>\n",
              "</table><br/><br/>Warnings:<br/>[1] Standard Errors assume that the covariance matrix of the errors is correctly specified.<br/>[2] The condition number is large, 5.66e+03. This might indicate that there are<br/>strong multicollinearity or other numerical problems."
            ],
            "text/plain": [
              "<class 'statsmodels.iolib.summary.Summary'>\n",
              "\"\"\"\n",
              "                            OLS Regression Results                            \n",
              "==============================================================================\n",
              "Dep. Variable:            House Price   R-squared:                       0.678\n",
              "Model:                            OLS   Adj. R-squared:                  0.660\n",
              "Method:                 Least Squares   F-statistic:                     37.95\n",
              "Date:                Tue, 31 Mar 2020   Prob (F-statistic):           8.13e-06\n",
              "Time:                        12:06:12   Log-Likelihood:                -260.43\n",
              "No. Observations:                  20   AIC:                             524.9\n",
              "Df Residuals:                      18   BIC:                             526.8\n",
              "Df Model:                           1                                         \n",
              "Covariance Type:            nonrobust                                         \n",
              "=======================================================================================\n",
              "                          coef    std err          t      P>|t|      [0.025      0.975]\n",
              "---------------------------------------------------------------------------------------\n",
              "const                2.608e+05   9.76e+04      2.673      0.016    5.58e+04    4.66e+05\n",
              "House Size (sq.ft.)   401.9163     65.243      6.160      0.000     264.846     538.987\n",
              "==============================================================================\n",
              "Omnibus:                        1.238   Durbin-Watson:                   1.810\n",
              "Prob(Omnibus):                  0.538   Jarque-Bera (JB):                0.715\n",
              "Skew:                          -0.459   Prob(JB):                        0.699\n",
              "Kurtosis:                       2.884   Cond. No.                     5.66e+03\n",
              "==============================================================================\n",
              "\n",
              "Warnings:\n",
              "[1] Standard Errors assume that the covariance matrix of the errors is correctly specified.\n",
              "[2] The condition number is large, 5.66e+03. This might indicate that there are\n",
              "strong multicollinearity or other numerical problems.\n",
              "\"\"\""
            ]
          },
          "metadata": {
            "tags": []
          },
          "execution_count": 21
        }
      ]
    },
    {
      "cell_type": "code",
      "metadata": {
        "id": "VyobpqG6bWY-",
        "colab_type": "code",
        "colab": {
          "base_uri": "https://localhost:8080/",
          "height": 34
        },
        "outputId": "ba542bb5-ff0f-4654-89d2-fa16ad9eaae4"
      },
      "source": [
        "260800 + 402 * 1000"
      ],
      "execution_count": 22,
      "outputs": [
        {
          "output_type": "execute_result",
          "data": {
            "text/plain": [
              "662800"
            ]
          },
          "metadata": {
            "tags": []
          },
          "execution_count": 22
        }
      ]
    },
    {
      "cell_type": "markdown",
      "metadata": {
        "id": "fZGrvGerf3EI",
        "colab_type": "text"
      },
      "source": [
        "**Valor de Y**"
      ]
    },
    {
      "cell_type": "code",
      "metadata": {
        "id": "pEOzRlo3bWTp",
        "colab_type": "code",
        "colab": {
          "base_uri": "https://localhost:8080/",
          "height": 34
        },
        "outputId": "96317d1e-2af3-454f-8596-9bb627bdec6e"
      },
      "source": [
        "260800 + 402 * 1000"
      ],
      "execution_count": 23,
      "outputs": [
        {
          "output_type": "execute_result",
          "data": {
            "text/plain": [
              "662800"
            ]
          },
          "metadata": {
            "tags": []
          },
          "execution_count": 23
        }
      ]
    },
    {
      "cell_type": "markdown",
      "metadata": {
        "id": "yOfFNeyOgz0K",
        "colab_type": "text"
      },
      "source": [
        "## **`Alpha, Beta, R^2:`**"
      ]
    },
    {
      "cell_type": "code",
      "metadata": {
        "id": "Tld0IsNcgN0g",
        "colab_type": "code",
        "colab": {}
      },
      "source": [
        "slope, intercept, r_value, p_value, std_err = stats.linregress(X, Y)"
      ],
      "execution_count": 0,
      "outputs": []
    },
    {
      "cell_type": "code",
      "metadata": {
        "id": "C8dY5_15gNwN",
        "colab_type": "code",
        "colab": {
          "base_uri": "https://localhost:8080/",
          "height": 34
        },
        "outputId": "1ec203cc-b453-4644-c938-fdb336cfef87"
      },
      "source": [
        "slope"
      ],
      "execution_count": 25,
      "outputs": [
        {
          "output_type": "execute_result",
          "data": {
            "text/plain": [
              "401.91628631922595"
            ]
          },
          "metadata": {
            "tags": []
          },
          "execution_count": 25
        }
      ]
    },
    {
      "cell_type": "code",
      "metadata": {
        "id": "hj_c-TRmgNq-",
        "colab_type": "code",
        "colab": {
          "base_uri": "https://localhost:8080/",
          "height": 34
        },
        "outputId": "389f0f35-9785-4873-db4d-d5aeb9ce1dac"
      },
      "source": [
        "intercept"
      ],
      "execution_count": 26,
      "outputs": [
        {
          "output_type": "execute_result",
          "data": {
            "text/plain": [
              "260806.2360560964"
            ]
          },
          "metadata": {
            "tags": []
          },
          "execution_count": 26
        }
      ]
    },
    {
      "cell_type": "code",
      "metadata": {
        "id": "hM08uaoCgNlv",
        "colab_type": "code",
        "colab": {
          "base_uri": "https://localhost:8080/",
          "height": 34
        },
        "outputId": "a9927fa1-00c5-4aa2-f5fc-f5f5e4f66632"
      },
      "source": [
        "r_value"
      ],
      "execution_count": 27,
      "outputs": [
        {
          "output_type": "execute_result",
          "data": {
            "text/plain": [
              "0.8235775534696924"
            ]
          },
          "metadata": {
            "tags": []
          },
          "execution_count": 27
        }
      ]
    },
    {
      "cell_type": "code",
      "metadata": {
        "id": "VYAKPwUogNht",
        "colab_type": "code",
        "colab": {
          "base_uri": "https://localhost:8080/",
          "height": 34
        },
        "outputId": "5c233988-40c2-4922-c9f1-2ccd078c6f56"
      },
      "source": [
        "r_value ** 2"
      ],
      "execution_count": 29,
      "outputs": [
        {
          "output_type": "execute_result",
          "data": {
            "text/plain": [
              "0.678279986579124"
            ]
          },
          "metadata": {
            "tags": []
          },
          "execution_count": 29
        }
      ]
    },
    {
      "cell_type": "code",
      "metadata": {
        "id": "9t8oLNacgNaF",
        "colab_type": "code",
        "colab": {
          "base_uri": "https://localhost:8080/",
          "height": 34
        },
        "outputId": "f561388f-94ee-4068-d516-5252d5c883a7"
      },
      "source": [
        "p_value"
      ],
      "execution_count": 30,
      "outputs": [
        {
          "output_type": "execute_result",
          "data": {
            "text/plain": [
              "8.129642377231308e-06"
            ]
          },
          "metadata": {
            "tags": []
          },
          "execution_count": 30
        }
      ]
    },
    {
      "cell_type": "code",
      "metadata": {
        "id": "eJUG3p5Jgiz-",
        "colab_type": "code",
        "colab": {
          "base_uri": "https://localhost:8080/",
          "height": 34
        },
        "outputId": "8661bc5e-2427-4258-e518-fb17c7e5d960"
      },
      "source": [
        "std_err"
      ],
      "execution_count": 31,
      "outputs": [
        {
          "output_type": "execute_result",
          "data": {
            "text/plain": [
              "65.24299510636492"
            ]
          },
          "metadata": {
            "tags": []
          },
          "execution_count": 31
        }
      ]
    }
  ]
}